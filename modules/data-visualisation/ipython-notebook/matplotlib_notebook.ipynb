{
 "cells": [
  {
   "cell_type": "markdown",
   "metadata": {
    "toc": "true"
   },
   "source": [
    "# Table of Contents\n",
    " <p><div class=\"lev1\"><a href=\"#Matplot-Lib\"><span class=\"toc-item-num\">1&nbsp;&nbsp;</span>Matplot Lib</a></div><div class=\"lev1\"><a href=\"#Getting-Started\"><span class=\"toc-item-num\">2&nbsp;&nbsp;</span>Getting Started</a></div><div class=\"lev2\"><a href=\"#Importing-our-libaries\"><span class=\"toc-item-num\">2.1&nbsp;&nbsp;</span>Importing our libaries</a></div><div class=\"lev2\"><a href=\"#Creating-some-data-to-plot\"><span class=\"toc-item-num\">2.2&nbsp;&nbsp;</span>Creating some data to plot</a></div><div class=\"lev1\"><a href=\"#Plotting\"><span class=\"toc-item-num\">3&nbsp;&nbsp;</span>Plotting</a></div><div class=\"lev2\"><a href=\"#Adding-a-Series\"><span class=\"toc-item-num\">3.1&nbsp;&nbsp;</span>Adding a Series</a></div><div class=\"lev1\"><a href=\"#Customising-our-plot\"><span class=\"toc-item-num\">4&nbsp;&nbsp;</span>Customising our plot</a></div><div class=\"lev2\"><a href=\"#Title-and-Axis-Labels\"><span class=\"toc-item-num\">4.1&nbsp;&nbsp;</span>Title and Axis Labels</a></div><div class=\"lev2\"><a href=\"#Ticks\"><span class=\"toc-item-num\">4.2&nbsp;&nbsp;</span>Ticks</a></div><div class=\"lev2\"><a href=\"#Axis-Limits\"><span class=\"toc-item-num\">4.3&nbsp;&nbsp;</span>Axis Limits</a></div><div class=\"lev2\"><a href=\"#Colours\"><span class=\"toc-item-num\">4.4&nbsp;&nbsp;</span>Colours</a></div><div class=\"lev2\"><a href=\"#Lines,-Bars-and-Markers\"><span class=\"toc-item-num\">4.5&nbsp;&nbsp;</span>Lines, Bars and Markers</a></div><div class=\"lev1\"><a href=\"#Style-Sheets\"><span class=\"toc-item-num\">5&nbsp;&nbsp;</span>Style Sheets</a></div><div class=\"lev1\"><a href=\"#Size,-Aspect-Ratio-and-DPI\"><span class=\"toc-item-num\">6&nbsp;&nbsp;</span>Size, Aspect Ratio and DPI</a></div><div class=\"lev1\"><a href=\"#Saving-Figures\"><span class=\"toc-item-num\">7&nbsp;&nbsp;</span>Saving Figures</a></div><div class=\"lev1\"><a href=\"#Legends\"><span class=\"toc-item-num\">8&nbsp;&nbsp;</span>Legends</a></div><div class=\"lev1\"><a href=\"#Mutiple-Figures\"><span class=\"toc-item-num\">9&nbsp;&nbsp;</span>Mutiple Figures</a></div><div class=\"lev1\"><a href=\"#Subplots\"><span class=\"toc-item-num\">10&nbsp;&nbsp;</span>Subplots</a></div><div class=\"lev1\"><a href=\"#Combining-Multiple-Figures-and-sublplots\"><span class=\"toc-item-num\">11&nbsp;&nbsp;</span>Combining Multiple Figures and sublplots</a></div><div class=\"lev1\"><a href=\"#Annotations\"><span class=\"toc-item-num\">12&nbsp;&nbsp;</span>Annotations</a></div><div class=\"lev1\"><a href=\"#Ipython-Widgets\"><span class=\"toc-item-num\">13&nbsp;&nbsp;</span>Ipython Widgets</a></div><div class=\"lev1\"><a href=\"#A-more-concrete-example\"><span class=\"toc-item-num\">14&nbsp;&nbsp;</span>A more concrete example</a></div><div class=\"lev1\"><a href=\"#Object-Orientated-Matplotlib\"><span class=\"toc-item-num\">15&nbsp;&nbsp;</span>Object Orientated Matplotlib</a></div><div class=\"lev1\"><a href=\"#Editing-Figures\"><span class=\"toc-item-num\">16&nbsp;&nbsp;</span>Editing Figures</a></div>"
   ]
  },
  {
   "cell_type": "markdown",
   "metadata": {},
   "source": [
    "# Matplot Lib\n",
    "\n",
    "Matplitlib is one of the most popular plotting libraries around for Python. It has a number of features which makes it useful for creating scientific figures, such as:\n",
    "\n",
    "* Generating high quality output in a variety of formats (PNG, PDF, JPEG)  \n",
    "* The ability to integrate Latex into figure labels\n",
    "* Straightforward to use\n",
    "\n",
    "If you have had previous programming experience in Matlab you will find it vary familiar. if you have't don't worry, you will pick this up quickly.\n",
    "\n",
    "Matplotlib is not the only Python library for creating scientifc graphics. Other libraries exist, some of which are quite specializedd. Once you are confident with Matplotlib, you will be able to \n",
    "\n",
    "Some other libraries to investigate after this module, if you are interested:\n",
    "\n",
    "* [Bokeh](http://bokeh.pydata.org/en/latest/) Web based, interatice, visualiztion\n",
    "* [Glumpy](https://glumpy.github.io/) 3d Scientific Visualizations\n",
    "* [VisPy](http://vispy.org/) Scientific Visualizations\n",
    "* [NetworkX](https://networkx.github.io/) Graph visualization\n"
   ]
  },
  {
   "cell_type": "markdown",
   "metadata": {},
   "source": [
    "# Getting Started\n",
    "\n",
    "## Importing our libaries\n",
    "\n",
    "First, we are going to import the libraries we need for this lesson. We are going to follow the standard naming conventions for the modules we are importing. You can of course use other names, but it helps to follow conventions to make your code easier to read."
   ]
  },
  {
   "cell_type": "code",
   "execution_count": 2,
   "metadata": {
    "collapsed": false
   },
   "outputs": [],
   "source": [
    "%matplotlib inline \n",
    "# We use inline command to plot inside the notebook rather than having a new window open\n",
    "import matplotlib.pyplot as plt\n",
    "import numpy as np\n",
    "import math\n",
    "from sklearn import datasets, linear_model"
   ]
  },
  {
   "cell_type": "code",
   "execution_count": 3,
   "metadata": {
    "collapsed": false
   },
   "outputs": [],
   "source": [
    "from IPython.display import Image"
   ]
  },
  {
   "cell_type": "markdown",
   "metadata": {},
   "source": [
    "## Creating some data to plot"
   ]
  },
  {
   "cell_type": "markdown",
   "metadata": {},
   "source": [
    "Let's start by getting some data that we can plot and manipulate. We will start by creating our own test data to try out the plotting functions, but later on we will be importing a scientific data set and manipulating and visualizing it.\n",
    "\n",
    "We are going to use the linspace function from NumPy to create 100 points between 0 and 10 using the linspace function for our x axis. The linspace function is very handy when we are interested in plotting a function over some range of numbers.\n",
    "\n",
    "For our y axis we are going to take the square of the x axis value."
   ]
  },
  {
   "cell_type": "code",
   "execution_count": 4,
   "metadata": {
    "collapsed": true
   },
   "outputs": [],
   "source": [
    "\n",
    "x = np.linspace(0,10,100)\n",
    "y = np.power(x,2)\n"
   ]
  },
  {
   "cell_type": "markdown",
   "metadata": {},
   "source": [
    "# Plotting"
   ]
  },
  {
   "cell_type": "code",
   "execution_count": 5,
   "metadata": {
    "collapsed": false
   },
   "outputs": [
    {
     "data": {
      "image/png": "[encoded data removed]",
      "text/plain": [
       "<matplotlib.figure.Figure at 0x1059fcf0>"
      ]
     },
     "metadata": {},
     "output_type": "display_data"
    }
   ],
   "source": [
    "#diabetes = datasets.load_diabetes()\n",
    "#diabetes\n",
    "\n",
    "fig = plt.plot(x,y)\n",
    "plt.show()"
   ]
  },
  {
   "cell_type": "markdown",
   "metadata": {},
   "source": [
    "We call the `plt.show()` function to draw our graph after we are finished creating it."
   ]
  },
  {
   "cell_type": "markdown",
   "metadata": {},
   "source": [
    "## Adding a Series\n",
    "\n",
    "To add another series we call the plot command again, supplying x and y values as we did before. So let's create another series and add it to our plot. "
   ]
  },
  {
   "cell_type": "code",
   "execution_count": 6,
   "metadata": {
    "collapsed": false
   },
   "outputs": [
    {
     "data": {
      "image/png": "[encoded data removed]",
      "text/plain": [
       "<matplotlib.figure.Figure at 0x1067ef10>"
      ]
     },
     "metadata": {},
     "output_type": "display_data"
    }
   ],
   "source": [
    "x_prime = np.linspace(1,9,80)\n",
    "z = np.power(x_prime,2)+10\n",
    "plt.plot(x,y)\n",
    "plt.plot(x_prime,z)\n",
    "plt.show()"
   ]
  },
  {
   "cell_type": "markdown",
   "metadata": {},
   "source": [
    "We don't have to supply an x axis to the plot command, it will accept supplying only a vector for the y data. In this case the x axis values will be the y values position in the vector. For example the 5th value in the y vector will have an x value of 5. "
   ]
  },
  {
   "cell_type": "markdown",
   "metadata": {},
   "source": [
    "# Customising our plot\n",
    "\n",
    "Now that we have creating our first graph, we want to improve it by formatting it to improve its legebility. Something to bear in mind is that the syntax for creating the different graphs that Matplotlib can generate (Line, Histogram, Scatter etc) is very similair. Once you understand how to create one graph, the same pattern will largely apply to creating others.\n",
    "\n"
   ]
  },
  {
   "cell_type": "markdown",
   "metadata": {},
   "source": [
    "## Title and Axis Labels\n",
    "\n",
    "When adding axis labels and titles we can format the text in a variety of ways."
   ]
  },
  {
   "cell_type": "code",
   "execution_count": 30,
   "metadata": {
    "collapsed": false
   },
   "outputs": [
    {
     "data": {
      "text/plain": [
       "[u'C:\\\\Windows\\\\Fonts\\\\cour.ttf',\n",
       " u'C:\\\\Windows\\\\Fonts\\\\panroman.ttf',\n",
       " u'C:\\\\Windows\\\\Fonts\\\\mtproxy7.ttf',\n",
       " u'C:\\\\Windows\\\\Fonts\\\\tnruni.ttf',\n",
       " u'c:\\\\windows\\\\fonts\\\\ftltlt.ttf',\n",
       " u'c:\\\\windows\\\\fonts\\\\browai.ttf',\n",
       " u'C:\\\\Windows\\\\Fonts\\\\STENCIL.TTF',\n",
       " u'c:\\\\windows\\\\fonts\\\\cambriab.ttf',\n",
       " u'c:\\\\windows\\\\fonts\\\\cordiab.ttf',\n",
       " u'C:\\\\Windows\\\\Fonts\\\\palabi.ttf',\n",
       " u'c:\\\\windows\\\\fonts\\\\sanssb__.ttf',\n",
       " u'c:\\\\windows\\\\fonts\\\\upcji.ttf',\n",
       " u'C:\\\\Windows\\\\Fonts\\\\taileb.ttf',\n",
       " u'c:\\\\windows\\\\fonts\\\\sasgtsb.ttf',\n",
       " u'C:\\\\Windows\\\\Fonts\\\\HARNGTON.TTF',\n",
       " u'c:\\\\windows\\\\fonts\\\\trebucbd.ttf',\n",
       " u'C:\\\\Windows\\\\Fonts\\\\tahomabd.ttf',\n",
       " u'c:\\\\windows\\\\fonts\\\\belli.ttf',\n",
       " u'c:\\\\windows\\\\fonts\\\\bod_blai.ttf',\n",
       " u'C:\\\\Windows\\\\Fonts\\\\COPRGTB.TTF',\n",
       " u'C:\\\\Windows\\\\Fonts\\\\ELEPHNTI.TTF',\n",
       " u'c:\\\\windows\\\\fonts\\\\browau.ttf',\n",
       " u'C:\\\\Windows\\\\Fonts\\\\gothici_.ttf',\n",
       " u'C:\\\\Windows\\\\Fonts\\\\swissli.ttf',\n",
       " u'C:\\\\Windows\\\\Fonts\\\\swisscli.ttf',\n",
       " u'c:\\\\windows\\\\fonts\\\\italic_iv50.ttf',\n",
       " u'c:\\\\windows\\\\fonts\\\\symeteo_iv50.ttf',\n",
       " u'C:\\\\Windows\\\\Fonts\\\\AMGDT___.ttf',\n",
       " u'c:\\\\windows\\\\fonts\\\\simkai.ttf',\n",
       " u'C:\\\\Windows\\\\Fonts\\\\MSUIGHUR.TTF',\n",
       " u'c:\\\\windows\\\\fonts\\\\taileb.ttf',\n",
       " u'c:\\\\windows\\\\fonts\\\\fradm.ttf',\n",
       " u'C:\\\\Windows\\\\Fonts\\\\greekc_IV25.ttf',\n",
       " u'c:\\\\windows\\\\fonts\\\\trebucbi.ttf',\n",
       " u'c:\\\\windows\\\\fonts\\\\mtcorsva.ttf',\n",
       " u'c:\\\\windows\\\\fonts\\\\italicc_.ttf',\n",
       " u'c:\\\\windows\\\\fonts\\\\segoeuiz.ttf',\n",
       " u'c:\\\\windows\\\\fonts\\\\bod_cr.ttf',\n",
       " u'c:\\\\windows\\\\fonts\\\\bod_bi.ttf',\n",
       " u'C:\\\\Windows\\\\Fonts\\\\symusic_.ttf',\n",
       " u'c:\\\\windows\\\\fonts\\\\gili____.ttf',\n",
       " u'C:\\\\Windows\\\\Fonts\\\\KUNSTLER.TTF',\n",
       " u'c:\\\\windows\\\\fonts\\\\browauz.ttf',\n",
       " u'C:\\\\Windows\\\\Fonts\\\\malgunbd.ttf',\n",
       " u'c:\\\\windows\\\\fonts\\\\imprisha.ttf',\n",
       " u'c:\\\\windows\\\\fonts\\\\georgia.ttf',\n",
       " u'C:\\\\Windows\\\\Fonts\\\\dokchamp.ttf',\n",
       " u'C:\\\\Windows\\\\Fonts\\\\CURLZ___.TTF',\n",
       " u'c:\\\\windows\\\\fonts\\\\ariali.ttf',\n",
       " u'c:\\\\windows\\\\fonts\\\\tcm_____.ttf',\n",
       " u'C:\\\\Windows\\\\Fonts\\\\BRITANIC.TTF',\n",
       " u'c:\\\\windows\\\\fonts\\\\khmeruib.ttf',\n",
       " u'c:\\\\windows\\\\fonts\\\\tccb____.ttf',\n",
       " u'c:\\\\windows\\\\fonts\\\\txt_____.ttf',\n",
       " u'c:\\\\windows\\\\fonts\\\\simpo.ttf',\n",
       " u'c:\\\\windows\\\\fonts\\\\arabtype.ttf',\n",
       " u'c:\\\\windows\\\\fonts\\\\geniso.ttf',\n",
       " u'C:\\\\Windows\\\\Fonts\\\\dutch.ttf',\n",
       " u'c:\\\\windows\\\\fonts\\\\khmerui.ttf',\n",
       " u'c:\\\\windows\\\\fonts\\\\seguisb.ttf',\n",
       " u'c:\\\\windows\\\\fonts\\\\isocpeui.ttf',\n",
       " u'C:\\\\Windows\\\\Fonts\\\\kalinga.ttf',\n",
       " u'c:\\\\windows\\\\fonts\\\\greeks__.ttf',\n",
       " u'c:\\\\windows\\\\fonts\\\\sasgtsr.ttf',\n",
       " u'c:\\\\windows\\\\fonts\\\\saswthbi.ttf',\n",
       " u'C:\\\\Windows\\\\Fonts\\\\FRAHV.TTF',\n",
       " u'C:\\\\Windows\\\\Fonts\\\\techb___.ttf',\n",
       " u'C:\\\\Windows\\\\Fonts\\\\calibril.ttf',\n",
       " u'C:\\\\Windows\\\\Fonts\\\\cordiab.ttf',\n",
       " u'C:\\\\Windows\\\\Fonts\\\\gautamib.ttf',\n",
       " u'C:\\\\Windows\\\\Fonts\\\\euphemia.ttf',\n",
       " u'C:\\\\Windows\\\\Fonts\\\\georgiai.ttf',\n",
       " u'c:\\\\windows\\\\fonts\\\\isoct2__.ttf',\n",
       " u'C:\\\\Windows\\\\Fonts\\\\JUICE___.TTF',\n",
       " u'C:\\\\Windows\\\\Fonts\\\\Candarab.ttf',\n",
       " u'c:\\\\windows\\\\fonts\\\\nrkis.ttf',\n",
       " u'c:\\\\windows\\\\fonts\\\\isocp2__.ttf',\n",
       " u'C:\\\\Windows\\\\Fonts\\\\ONYX.TTF',\n",
       " u'c:\\\\windows\\\\fonts\\\\acaderef.ttf',\n",
       " u'C:\\\\Windows\\\\Fonts\\\\BASKVILL.TTF',\n",
       " u'C:\\\\Windows\\\\Fonts\\\\LTYPEO.TTF',\n",
       " u'C:\\\\Windows\\\\Fonts\\\\himalaya.ttf',\n",
       " u'c:\\\\windows\\\\fonts\\\\tahomabd.ttf',\n",
       " u'c:\\\\windows\\\\fonts\\\\symeteo_.ttf',\n",
       " u'C:\\\\Windows\\\\Fonts\\\\cordia.ttf',\n",
       " u'c:\\\\windows\\\\fonts\\\\kokilab.ttf',\n",
       " u'c:\\\\windows\\\\fonts\\\\califi.ttf',\n",
       " u'c:\\\\windows\\\\fonts\\\\gautamib.ttf',\n",
       " u'C:\\\\Windows\\\\Fonts\\\\greeks_IV25.ttf',\n",
       " u'c:\\\\windows\\\\fonts\\\\consola.ttf',\n",
       " u'c:\\\\windows\\\\fonts\\\\arialnb.ttf',\n",
       " u'C:\\\\Windows\\\\Fonts\\\\angsai.ttf',\n",
       " u'C:\\\\Windows\\\\Fonts\\\\upcfb.ttf',\n",
       " u'C:\\\\Windows\\\\Fonts\\\\swisscki.ttf',\n",
       " u'c:\\\\windows\\\\fonts\\\\arialbd.ttf',\n",
       " u'C:\\\\Windows\\\\Fonts\\\\isocp3_IV50.ttf',\n",
       " u'C:\\\\Windows\\\\Fonts\\\\romab___.ttf',\n",
       " u'C:\\\\Windows\\\\Fonts\\\\majalla.ttf',\n",
       " u'C:\\\\Windows\\\\Fonts\\\\VLADIMIR.TTF',\n",
       " u'C:\\\\Windows\\\\Fonts\\\\segoescb.ttf',\n",
       " u'C:\\\\Windows\\\\Fonts\\\\isoct3_IV25.ttf',\n",
       " u'c:\\\\windows\\\\fonts\\\\msyh.ttf',\n",
       " u'C:\\\\Windows\\\\Fonts\\\\bgothl.ttf',\n",
       " u'c:\\\\windows\\\\fonts\\\\verdanaz.ttf',\n",
       " u'c:\\\\windows\\\\fonts\\\\lfaxd.ttf',\n",
       " u'C:\\\\Windows\\\\Fonts\\\\cambriaz.ttf',\n",
       " u'C:\\\\Windows\\\\Fonts\\\\mtproxy5.ttf',\n",
       " u'c:\\\\windows\\\\fonts\\\\symath__.ttf',\n",
       " u'C:\\\\Windows\\\\Fonts\\\\upcibi.ttf',\n",
       " u'c:\\\\windows\\\\fonts\\\\maian.ttf',\n",
       " u'C:\\\\Windows\\\\Fonts\\\\nrkis.ttf',\n",
       " u'c:\\\\windows\\\\fonts\\\\isocp3_iv50.ttf',\n",
       " u'c:\\\\windows\\\\fonts\\\\msjhbd.ttf',\n",
       " u'C:\\\\Windows\\\\Fonts\\\\segoeuii.ttf',\n",
       " u'C:\\\\Windows\\\\Fonts\\\\mvboli.ttf',\n",
       " u'C:\\\\Windows\\\\Fonts\\\\greekc_IV50.ttf',\n",
       " u'C:\\\\Windows\\\\Fonts\\\\GIL_____.TTF',\n",
       " u'c:\\\\windows\\\\fonts\\\\upckl.ttf',\n",
       " u'C:\\\\Windows\\\\Fonts\\\\isocp_IV50.ttf',\n",
       " u'C:\\\\Windows\\\\Fonts\\\\lvnmbd.ttf',\n",
       " u'C:\\\\Windows\\\\Fonts\\\\LTYPEB.TTF',\n",
       " u'c:\\\\program files (x86)\\\\ibm\\\\spss\\\\amos\\\\22\\\\jre\\\\lib\\\\fonts\\\\lucidabrightitalic.ttf',\n",
       " u'c:\\\\windows\\\\fonts\\\\gadugi.ttf',\n",
       " u'C:\\\\Windows\\\\Fonts\\\\CALISTB.TTF',\n",
       " u'C:\\\\Windows\\\\Fonts\\\\isocp3_IV25.ttf',\n",
       " u'C:\\\\Windows\\\\Fonts\\\\saswthbi.ttf',\n",
       " u'c:\\\\windows\\\\fonts\\\\romanc__.ttf',\n",
       " u'c:\\\\windows\\\\fonts\\\\antquabi.ttf',\n",
       " u'C:\\\\Windows\\\\Fonts\\\\phagspab.ttf',\n",
       " u'C:\\\\Windows\\\\Fonts\\\\TCMI____.TTF',\n",
       " u'c:\\\\windows\\\\fonts\\\\david.ttf',\n",
       " u'c:\\\\windows\\\\fonts\\\\tnruni.ttf',\n",
       " u'C:\\\\Windows\\\\Fonts\\\\ITCKRIST.TTF',\n",
       " u'C:\\\\Windows\\\\Fonts\\\\marlett.ttf',\n",
       " u'c:\\\\windows\\\\fonts\\\\cityb___.ttf',\n",
       " u'c:\\\\windows\\\\fonts\\\\browab.ttf',\n",
       " u'c:\\\\windows\\\\fonts\\\\corbelb.ttf',\n",
       " u'c:\\\\windows\\\\fonts\\\\califb.ttf',\n",
       " u'c:\\\\windows\\\\fonts\\\\simpbdo.ttf',\n",
       " u'C:\\\\Windows\\\\Fonts\\\\FRABK.TTF',\n",
       " u'c:\\\\windows\\\\fonts\\\\infroman.ttf',\n",
       " u'C:\\\\Windows\\\\Fonts\\\\gothice_.ttf',\n",
       " u'C:\\\\Windows\\\\Fonts\\\\isocp_IV25.ttf',\n",
       " u'C:\\\\Windows\\\\Fonts\\\\symath_IV25.ttf',\n",
       " u'C:\\\\Windows\\\\Fonts\\\\upcll.ttf',\n",
       " u'c:\\\\windows\\\\fonts\\\\agencyb.ttf',\n",
       " u'C:\\\\Windows\\\\Fonts\\\\upcfbi.ttf',\n",
       " u'C:\\\\Windows\\\\Fonts\\\\ARLRDBD.TTF',\n",
       " u'c:\\\\windows\\\\fonts\\\\nirmala.ttf',\n",
       " u'c:\\\\windows\\\\fonts\\\\coopbl.ttf',\n",
       " u'c:\\\\windows\\\\fonts\\\\ltypebo.ttf',\n",
       " u'C:\\\\Windows\\\\Fonts\\\\vrindab.ttf',\n",
       " u'C:\\\\Windows\\\\Fonts\\\\kalingab.ttf',\n",
       " u'C:\\\\Windows\\\\Fonts\\\\calibrii.ttf',\n",
       " u'c:\\\\windows\\\\fonts\\\\isoct_iv50.ttf',\n",
       " u'C:\\\\Windows\\\\Fonts\\\\sasgasr.ttf',\n",
       " u'C:\\\\Windows\\\\Fonts\\\\upcji.ttf',\n",
       " u'c:\\\\windows\\\\fonts\\\\gara.ttf',\n",
       " u'C:\\\\Windows\\\\Fonts\\\\framdit.ttf',\n",
       " u'c:\\\\windows\\\\fonts\\\\isocp___.ttf',\n",
       " u'C:\\\\Windows\\\\Fonts\\\\segoeui.ttf',\n",
       " u'c:\\\\windows\\\\fonts\\\\utsaahi.ttf',\n",
       " u'c:\\\\windows\\\\fonts\\\\syastro_iv25.ttf',\n",
       " u'c:\\\\windows\\\\fonts\\\\mod20.ttf',\n",
       " u'c:\\\\windows\\\\fonts\\\\upcdi.ttf',\n",
       " u'C:\\\\Windows\\\\Fonts\\\\bgothm.ttf',\n",
       " u'C:\\\\Windows\\\\Fonts\\\\Vani.ttf',\n",
       " u'C:\\\\Windows\\\\Fonts\\\\cordiai.ttf',\n",
       " u'c:\\\\windows\\\\fonts\\\\ocraext.ttf',\n",
       " u'C:\\\\Windows\\\\Fonts\\\\romand__.ttf',\n",
       " u'c:\\\\windows\\\\fonts\\\\angsauz.ttf',\n",
       " u'c:\\\\windows\\\\fonts\\\\vrindab.ttf',\n",
       " u'c:\\\\windows\\\\fonts\\\\shonar.ttf',\n",
       " u'c:\\\\windows\\\\fonts\\\\csongl.ttf',\n",
       " u'C:\\\\Windows\\\\Fonts\\\\GOUDOSB.TTF',\n",
       " u'c:\\\\windows\\\\fonts\\\\lsansi.ttf',\n",
       " u'C:\\\\Windows\\\\Fonts\\\\upcki.ttf',\n",
       " u'C:\\\\Windows\\\\Fonts\\\\MSUIGHUB.TTF',\n",
       " u'c:\\\\windows\\\\fonts\\\\erasmd.ttf',\n",
       " u'c:\\\\windows\\\\fonts\\\\verdanai.ttf',\n",
       " u'C:\\\\Windows\\\\Fonts\\\\swissko.ttf',\n",
       " u'C:\\\\Windows\\\\Fonts\\\\JOKERMAN.TTF',\n",
       " u'C:\\\\Windows\\\\Fonts\\\\constanb.ttf',\n",
       " u'c:\\\\windows\\\\fonts\\\\bgothm.ttf',\n",
       " u'c:\\\\windows\\\\fonts\\\\fradmit.ttf',\n",
       " u'C:\\\\Windows\\\\Fonts\\\\WINGDNG2.TTF',\n",
       " u'c:\\\\windows\\\\fonts\\\\utsaah.ttf',\n",
       " u'c:\\\\windows\\\\fonts\\\\counb___.ttf',\n",
       " u'c:\\\\windows\\\\fonts\\\\msyhbd.ttf',\n",
       " u'c:\\\\windows\\\\fonts\\\\gdt_____.ttf',\n",
       " u'c:\\\\windows\\\\fonts\\\\georgiaz.ttf',\n",
       " u'C:\\\\Windows\\\\Fonts\\\\mtproxy8.ttf',\n",
       " u'C:\\\\Windows\\\\Fonts\\\\BOD_BLAI.TTF',\n",
       " u'C:\\\\Windows\\\\Fonts\\\\LBRITEI.TTF',\n",
       " u'c:\\\\windows\\\\fonts\\\\sylfaen.ttf',\n",
       " u'c:\\\\windows\\\\fonts\\\\swissl.ttf',\n",
       " u'c:\\\\windows\\\\fonts\\\\roccb___.ttf',\n",
       " u'C:\\\\Windows\\\\Fonts\\\\monbaiti.ttf',\n",
       " u'C:\\\\Windows\\\\Fonts\\\\LSANSD.TTF',\n",
       " u'c:\\\\windows\\\\fonts\\\\isocpeur.ttf',\n",
       " u'C:\\\\Windows\\\\Fonts\\\\calibriz.ttf',\n",
       " u'c:\\\\windows\\\\fonts\\\\ahronbd.ttf',\n",
       " u'c:\\\\windows\\\\fonts\\\\aigdt___.ttf',\n",
       " u'C:\\\\Windows\\\\Fonts\\\\symap_IV25.ttf',\n",
       " u'C:\\\\Windows\\\\Fonts\\\\msjhbd.ttf',\n",
       " u'c:\\\\windows\\\\fonts\\\\utsaahb.ttf',\n",
       " u'C:\\\\Windows\\\\Fonts\\\\complex_IV50.ttf',\n",
       " u'c:\\\\windows\\\\fonts\\\\niageng.ttf',\n",
       " u'c:\\\\windows\\\\fonts\\\\scriptc_.ttf',\n",
       " u'C:\\\\Windows\\\\Fonts\\\\mtproxy6.ttf',\n",
       " u'C:\\\\Windows\\\\Fonts\\\\italicc_.ttf',\n",
       " u'c:\\\\windows\\\\fonts\\\\schlbki.ttf',\n",
       " u'c:\\\\windows\\\\fonts\\\\upcel.ttf',\n",
       " u'C:\\\\Windows\\\\Fonts\\\\BKANT.TTF',\n",
       " u'c:\\\\windows\\\\fonts\\\\monotxt_.ttf',\n",
       " u'C:\\\\Windows\\\\Fonts\\\\greekc__.ttf',\n",
       " u'c:\\\\windows\\\\fonts\\\\vineritc.ttf',\n",
       " u'c:\\\\windows\\\\fonts\\\\upclb.ttf',\n",
       " u'C:\\\\Windows\\\\Fonts\\\\AIGDT___.TTF',\n",
       " u'c:\\\\windows\\\\fonts\\\\cambriai.ttf',\n",
       " u'C:\\\\Windows\\\\Fonts\\\\complex_.ttf',\n",
       " u'C:\\\\Windows\\\\Fonts\\\\ARIALN.TTF',\n",
       " u'C:\\\\Windows\\\\Fonts\\\\txt_IV50.ttf',\n",
       " u'c:\\\\windows\\\\fonts\\\\onyx.ttf',\n",
       " u'c:\\\\windows\\\\fonts\\\\angsaui.ttf',\n",
       " u'C:\\\\Windows\\\\Fonts\\\\FRADMCN.TTF',\n",
       " u'C:\\\\Windows\\\\Fonts\\\\saswcubi.ttf',\n",
       " u'c:\\\\windows\\\\fonts\\\\romab___.ttf',\n",
       " u'C:\\\\Windows\\\\Fonts\\\\sasgtsr.ttf',\n",
       " u'C:\\\\Windows\\\\Fonts\\\\symath_IV50.ttf',\n",
       " u'C:\\\\Windows\\\\Fonts\\\\eurr____.ttf',\n",
       " u'C:\\\\Windows\\\\Fonts\\\\ANTQUABI.TTF',\n",
       " u'C:\\\\Windows\\\\Fonts\\\\taile.ttf',\n",
       " u'C:\\\\Windows\\\\Fonts\\\\upckbi.ttf',\n",
       " u'c:\\\\windows\\\\fonts\\\\symusic_iv25.ttf',\n",
       " u'C:\\\\Windows\\\\Fonts\\\\SCHLBKBI.TTF',\n",
       " u'C:\\\\Windows\\\\Fonts\\\\BERNHC.TTF',\n",
       " u'C:\\\\Windows\\\\Fonts\\\\upcebi.ttf',\n",
       " u'c:\\\\windows\\\\fonts\\\\bookosi.ttf',\n",
       " u'c:\\\\windows\\\\fonts\\\\greeks_iv50.ttf',\n",
       " u'C:\\\\Windows\\\\Fonts\\\\LFAXD.TTF',\n",
       " u'c:\\\\windows\\\\fonts\\\\mtproxy4.ttf',\n",
       " u'c:\\\\windows\\\\fonts\\\\glecb.ttf',\n",
       " u'C:\\\\Windows\\\\Fonts\\\\CHILLER.TTF',\n",
       " u'C:\\\\Windows\\\\Fonts\\\\GILLUBCD.TTF',\n",
       " u'c:\\\\windows\\\\fonts\\\\upcfi.ttf',\n",
       " u'C:\\\\Windows\\\\Fonts\\\\framd.ttf',\n",
       " u'C:\\\\Windows\\\\Fonts\\\\LSANSI.TTF',\n",
       " u'C:\\\\Windows\\\\Fonts\\\\ZWAdobeF.TTF',\n",
       " u'c:\\\\windows\\\\fonts\\\\taile.ttf',\n",
       " u'c:\\\\windows\\\\fonts\\\\isoct3__.ttf',\n",
       " u'C:\\\\Windows\\\\Fonts\\\\isocpeur.ttf',\n",
       " u'C:\\\\Windows\\\\Fonts\\\\Candaraz.ttf',\n",
       " u'c:\\\\windows\\\\fonts\\\\calibri.ttf',\n",
       " u'C:\\\\Windows\\\\Fonts\\\\FELIXTI.TTF',\n",
       " u'C:\\\\Windows\\\\Fonts\\\\browab.ttf',\n",
       " u'C:\\\\Windows\\\\Fonts\\\\saswthi.ttf',\n",
       " u'C:\\\\Windows\\\\Fonts\\\\dutchbi.ttf',\n",
       " u'C:\\\\Windows\\\\Fonts\\\\sansso__.ttf',\n",
       " u'C:\\\\Windows\\\\Fonts\\\\LEELAWAD.TTF',\n",
       " u'C:\\\\Windows\\\\Fonts\\\\impact.ttf',\n",
       " u'c:\\\\windows\\\\fonts\\\\centaur.ttf',\n",
       " u'c:\\\\windows\\\\fonts\\\\upcil.ttf',\n",
       " u'C:\\\\Windows\\\\Fonts\\\\BROADW.TTF',\n",
       " u'C:\\\\Windows\\\\Fonts\\\\COLONNA.TTF',\n",
       " u'c:\\\\windows\\\\fonts\\\\gothice_.ttf',\n",
       " u'c:\\\\windows\\\\fonts\\\\isocp_iv50.ttf',\n",
       " u'C:\\\\Windows\\\\Fonts\\\\CALISTI.TTF',\n",
       " u'c:\\\\windows\\\\fonts\\\\latha.ttf',\n",
       " u'c:\\\\windows\\\\fonts\\\\panroman.ttf',\n",
       " u'C:\\\\Windows\\\\Fonts\\\\mangalb.ttf',\n",
       " u'C:\\\\Windows\\\\Fonts\\\\kartika.ttf',\n",
       " u'c:\\\\windows\\\\fonts\\\\vani.ttf',\n",
       " u'c:\\\\windows\\\\fonts\\\\arlrdbd.ttf',\n",
       " u'c:\\\\windows\\\\fonts\\\\upcdl.ttf',\n",
       " u'C:\\\\Windows\\\\Fonts\\\\CALISTBI.TTF',\n",
       " u'c:\\\\windows\\\\fonts\\\\bernhc.ttf',\n",
       " u'C:\\\\Windows\\\\Fonts\\\\l_10646.ttf',\n",
       " u'c:\\\\windows\\\\fonts\\\\upckbi.ttf',\n",
       " u'c:\\\\windows\\\\fonts\\\\castelar.ttf',\n",
       " u'c:\\\\windows\\\\fonts\\\\magnetob.ttf',\n",
       " u'c:\\\\program files (x86)\\\\ibm\\\\spss\\\\amos\\\\22\\\\jre\\\\lib\\\\fonts\\\\lucidatypewriterregular.ttf',\n",
       " u'C:\\\\Windows\\\\Fonts\\\\SCRIPTBL.TTF',\n",
       " u'c:\\\\windows\\\\fonts\\\\isoct___.ttf',\n",
       " u'C:\\\\Windows\\\\Fonts\\\\BRLNSDB.TTF',\n",
       " u'C:\\\\Windows\\\\Fonts\\\\isoct2_IV50.ttf',\n",
       " u'c:\\\\program files (x86)\\\\ibm\\\\spss\\\\amos\\\\22\\\\jre\\\\lib\\\\fonts\\\\lucidabrightdemibold.ttf',\n",
       " u'c:\\\\windows\\\\fonts\\\\arialuni.ttf',\n",
       " u'c:\\\\windows\\\\fonts\\\\aparajbi.ttf',\n",
       " u'c:\\\\windows\\\\fonts\\\\symeteo_iv25.ttf',\n",
       " u'c:\\\\windows\\\\fonts\\\\ebrimabd.ttf',\n",
       " u'C:\\\\Windows\\\\Fonts\\\\swissl.ttf',\n",
       " u'C:\\\\Windows\\\\Fonts\\\\segoepr.ttf',\n",
       " u'C:\\\\Windows\\\\Fonts\\\\micross.ttf',\n",
       " u'C:\\\\Windows\\\\Fonts\\\\sasgsort.ttf',\n",
       " u'c:\\\\windows\\\\fonts\\\\swisse.ttf',\n",
       " u'c:\\\\windows\\\\fonts\\\\complex_iv50.ttf',\n",
       " u'C:\\\\Windows\\\\Fonts\\\\kokilabi.ttf',\n",
       " u'C:\\\\Windows\\\\Fonts\\\\GILBI___.TTF',\n",
       " u'C:\\\\Windows\\\\Fonts\\\\PALSCRI.TTF',\n",
       " u'C:\\\\Windows\\\\Fonts\\\\kartikab.ttf',\n",
       " u'C:\\\\Windows\\\\Fonts\\\\segoeprb.ttf',\n",
       " u'C:\\\\Windows\\\\Fonts\\\\upcfl.ttf',\n",
       " u'c:\\\\windows\\\\fonts\\\\peri____.ttf',\n",
       " u'c:\\\\windows\\\\fonts\\\\mriamc.ttf',\n",
       " u'C:\\\\Windows\\\\Fonts\\\\GIGI.TTF',\n",
       " u'c:\\\\windows\\\\fonts\\\\upcii.ttf',\n",
       " u'c:\\\\windows\\\\fonts\\\\coprgtl.ttf',\n",
       " u'c:\\\\windows\\\\fonts\\\\tcmi____.ttf',\n",
       " u'C:\\\\Windows\\\\Fonts\\\\verdanai.ttf',\n",
       " u'C:\\\\Windows\\\\Fonts\\\\monotxt_IV25.ttf',\n",
       " u'c:\\\\windows\\\\fonts\\\\swisscb.ttf',\n",
       " u'C:\\\\Windows\\\\Fonts\\\\cordiaz.ttf',\n",
       " u'c:\\\\windows\\\\fonts\\\\segoepr.ttf',\n",
       " u'c:\\\\windows\\\\fonts\\\\micross.ttf',\n",
       " u'c:\\\\windows\\\\fonts\\\\times.ttf',\n",
       " u'c:\\\\windows\\\\fonts\\\\wingdng2.ttf',\n",
       " u'c:\\\\windows\\\\fonts\\\\consolab.ttf',\n",
       " u'C:\\\\Windows\\\\Fonts\\\\swissk.ttf',\n",
       " u'c:\\\\windows\\\\fonts\\\\kalingab.ttf',\n",
       " u'C:\\\\Windows\\\\Fonts\\\\sasgtsi.ttf',\n",
       " u'c:\\\\windows\\\\fonts\\\\vijayab.ttf',\n",
       " u'C:\\\\Windows\\\\Fonts\\\\Anonymous.ttf',\n",
       " u'c:\\\\windows\\\\fonts\\\\couri.ttf',\n",
       " u'C:\\\\Windows\\\\Fonts\\\\shrutib.ttf',\n",
       " u'C:\\\\Windows\\\\Fonts\\\\sasgasi.ttf',\n",
       " u'c:\\\\windows\\\\fonts\\\\cordiauz.ttf',\n",
       " u'c:\\\\windows\\\\fonts\\\\leelawad.ttf',\n",
       " u'c:\\\\windows\\\\fonts\\\\anonymous.ttf',\n",
       " u'C:\\\\Windows\\\\Fonts\\\\scripts_.ttf',\n",
       " u'c:\\\\windows\\\\fonts\\\\arial.ttf',\n",
       " u'c:\\\\windows\\\\fonts\\\\bod_i.ttf',\n",
       " u'C:\\\\Windows\\\\Fonts\\\\LaoUI.ttf',\n",
       " u'c:\\\\windows\\\\fonts\\\\shonarb.ttf',\n",
       " u'C:\\\\Windows\\\\Fonts\\\\swissek.ttf',\n",
       " u'c:\\\\windows\\\\fonts\\\\engr.ttf',\n",
       " u'C:\\\\Windows\\\\Fonts\\\\kokilab.ttf',\n",
       " u'C:\\\\Windows\\\\Fonts\\\\GOTHIC.TTF',\n",
       " u'C:\\\\Windows\\\\Fonts\\\\BAUHS93.TTF',\n",
       " u'c:\\\\windows\\\\fonts\\\\l_10646.ttf',\n",
       " u'C:\\\\Windows\\\\Fonts\\\\sasmonob.ttf',\n",
       " u'c:\\\\windows\\\\fonts\\\\scriptbl.ttf',\n",
       " u'C:\\\\Windows\\\\Fonts\\\\mriamc.ttf',\n",
       " u'C:\\\\Windows\\\\Fonts\\\\swisscl.ttf',\n",
       " u'c:\\\\windows\\\\fonts\\\\sasgtsi.ttf',\n",
       " u'C:\\\\Windows\\\\Fonts\\\\seguisb.ttf',\n",
       " u'C:\\\\Windows\\\\Fonts\\\\csongl.ttf',\n",
       " u'C:\\\\Windows\\\\Fonts\\\\symusic_IV50.ttf',\n",
       " u'c:\\\\windows\\\\fonts\\\\msjh.ttf',\n",
       " u'c:\\\\windows\\\\fonts\\\\simplex_iv25.ttf',\n",
       " u'c:\\\\windows\\\\fonts\\\\complex_iv25.ttf',\n",
       " u'c:\\\\windows\\\\fonts\\\\refsan.ttf',\n",
       " u'c:\\\\windows\\\\fonts\\\\bookosb.ttf',\n",
       " u'c:\\\\windows\\\\fonts\\\\browaub.ttf',\n",
       " u'C:\\\\Windows\\\\Fonts\\\\moolbor.ttf',\n",
       " u'c:\\\\windows\\\\fonts\\\\upcdbi.ttf',\n",
       " u'c:\\\\windows\\\\fonts\\\\felixti.ttf',\n",
       " u'C:\\\\Windows\\\\Fonts\\\\romai___.ttf',\n",
       " u'C:\\\\Windows\\\\Fonts\\\\isoct3_IV50.ttf',\n",
       " u'C:\\\\Windows\\\\Fonts\\\\kokilai.ttf',\n",
       " u'C:\\\\Windows\\\\Fonts\\\\segoesc.ttf',\n",
       " u'c:\\\\windows\\\\fonts\\\\palai.ttf',\n",
       " u'c:\\\\windows\\\\fonts\\\\frahvit.ttf',\n",
       " u'C:\\\\Windows\\\\Fonts\\\\malgun.ttf',\n",
       " u'C:\\\\Windows\\\\Fonts\\\\BRLNSR.TTF',\n",
       " u'C:\\\\Windows\\\\Fonts\\\\swissbo.ttf',\n",
       " u'C:\\\\Windows\\\\Fonts\\\\trebucit.ttf',\n",
       " u'c:\\\\windows\\\\fonts\\\\sasgtsbi.ttf',\n",
       " u'c:\\\\windows\\\\fonts\\\\stylu.ttf',\n",
       " u'C:\\\\Windows\\\\Fonts\\\\swissci.ttf',\n",
       " u'c:\\\\windows\\\\fonts\\\\dutchi.ttf',\n",
       " u'C:\\\\Windows\\\\Fonts\\\\verdana.ttf',\n",
       " u'C:\\\\Windows\\\\Fonts\\\\swissb.ttf',\n",
       " u'c:\\\\windows\\\\fonts\\\\upcjb.ttf',\n",
       " u'c:\\\\windows\\\\fonts\\\\davidbd.ttf',\n",
       " u'C:\\\\Windows\\\\Fonts\\\\constani.ttf',\n",
       " u'C:\\\\Windows\\\\Fonts\\\\GILB____.TTF',\n",
       " u'c:\\\\windows\\\\fonts\\\\bod_b.ttf',\n",
       " u'C:\\\\Windows\\\\Fonts\\\\myinghwl.ttf',\n",
       " u'c:\\\\windows\\\\fonts\\\\kokilai.ttf',\n",
       " u'C:\\\\Windows\\\\Fonts\\\\isocp2_IV25.ttf',\n",
       " u'c:\\\\windows\\\\fonts\\\\schlbkb.ttf',\n",
       " u'C:\\\\Windows\\\\Fonts\\\\techl___.ttf',\n",
       " u'c:\\\\windows\\\\fonts\\\\chiller.ttf',\n",
       " u'C:\\\\Windows\\\\Fonts\\\\ANTQUAB.TTF',\n",
       " u'C:\\\\Windows\\\\Fonts\\\\stylu.ttf',\n",
       " u'c:\\\\windows\\\\fonts\\\\constan.ttf',\n",
       " u'C:\\\\Windows\\\\Fonts\\\\pala.ttf',\n",
       " u'C:\\\\Windows\\\\Fonts\\\\ARIALNI.TTF',\n",
       " u'c:\\\\windows\\\\fonts\\\\simpfxo.ttf',\n",
       " u'c:\\\\windows\\\\fonts\\\\mangal.ttf',\n",
       " u'c:\\\\windows\\\\fonts\\\\trebuc.ttf',\n",
       " u'c:\\\\windows\\\\fonts\\\\simhei.ttf',\n",
       " u'C:\\\\Windows\\\\Fonts\\\\MATURASC.TTF',\n",
       " u'c:\\\\windows\\\\fonts\\\\gil_____.ttf',\n",
       " u'c:\\\\windows\\\\fonts\\\\laoui.ttf',\n",
       " u'C:\\\\Windows\\\\Fonts\\\\GLSNECB.TTF',\n",
       " u'c:\\\\windows\\\\fonts\\\\monosb.ttf',\n",
       " u'C:\\\\Windows\\\\Fonts\\\\vinet.ttf',\n",
       " u'c:\\\\windows\\\\fonts\\\\per_____.ttf',\n",
       " u'C:\\\\Windows\\\\Fonts\\\\ERASMD.TTF',\n",
       " u'C:\\\\Windows\\\\Fonts\\\\monos.ttf',\n",
       " u'C:\\\\Windows\\\\Fonts\\\\symeteo_.ttf',\n",
       " u'C:\\\\Windows\\\\Fonts\\\\BRUSHSCI.TTF',\n",
       " u'c:\\\\windows\\\\fonts\\\\cour.ttf',\n",
       " u'C:\\\\Windows\\\\Fonts\\\\latha.ttf',\n",
       " u'C:\\\\Windows\\\\Fonts\\\\browaui.ttf',\n",
       " u'c:\\\\windows\\\\fonts\\\\daunpenh.ttf',\n",
       " u'c:\\\\windows\\\\fonts\\\\palabi.ttf',\n",
       " u'c:\\\\windows\\\\fonts\\\\califr.ttf',\n",
       " u'C:\\\\Windows\\\\Fonts\\\\CALIST.TTF',\n",
       " u'c:\\\\windows\\\\fonts\\\\tradbdo.ttf',\n",
       " u'C:\\\\Windows\\\\Fonts\\\\ariblk.ttf',\n",
       " u'c:\\\\windows\\\\fonts\\\\censcbk.ttf',\n",
       " u'C:\\\\Windows\\\\Fonts\\\\corbel.ttf',\n",
       " u'C:\\\\Windows\\\\Fonts\\\\GLECB.TTF',\n",
       " u'C:\\\\Windows\\\\Fonts\\\\gautami.ttf',\n",
       " u'C:\\\\Windows\\\\Fonts\\\\NIAGSOL.TTF',\n",
       " u'c:\\\\windows\\\\fonts\\\\swissel.ttf',\n",
       " u'C:\\\\Windows\\\\Fonts\\\\msyi.ttf',\n",
       " u'C:\\\\Windows\\\\Fonts\\\\calibrib.ttf',\n",
       " u'c:\\\\windows\\\\fonts\\\\techb___.ttf',\n",
       " u'C:\\\\Windows\\\\Fonts\\\\lvnm.ttf',\n",
       " u'C:\\\\Windows\\\\Fonts\\\\BOOKOSB.TTF',\n",
       " u'c:\\\\windows\\\\fonts\\\\upcdb.ttf',\n",
       " u'C:\\\\Windows\\\\Fonts\\\\FRAHVIT.TTF',\n",
       " u'C:\\\\Windows\\\\Fonts\\\\saswcub.ttf',\n",
       " u'c:\\\\windows\\\\fonts\\\\tcbi____.ttf',\n",
       " u'C:\\\\Windows\\\\Fonts\\\\upceb.ttf',\n",
       " u'C:\\\\Windows\\\\Fonts\\\\upcjbi.ttf',\n",
       " u'c:\\\\windows\\\\fonts\\\\verdanab.ttf',\n",
       " u'C:\\\\Windows\\\\Fonts\\\\comic.ttf',\n",
       " u'c:\\\\windows\\\\fonts\\\\courbi.ttf',\n",
       " u'C:\\\\Windows\\\\Fonts\\\\simpfxo.ttf',\n",
       " u'c:\\\\windows\\\\fonts\\\\phagspa.ttf',\n",
       " u'c:\\\\windows\\\\fonts\\\\swissko.ttf',\n",
       " u'c:\\\\windows\\\\fonts\\\\wingdng3.ttf',\n",
       " u'c:\\\\windows\\\\fonts\\\\dutchbi.ttf',\n",
       " u'c:\\\\windows\\\\fonts\\\\romantic.ttf',\n",
       " u'C:\\\\Windows\\\\Fonts\\\\upcib.ttf',\n",
       " u'c:\\\\windows\\\\fonts\\\\calistb.ttf',\n",
       " u'C:\\\\Windows\\\\Fonts\\\\upcdb.ttf',\n",
       " u'C:\\\\Windows\\\\Fonts\\\\isoct_IV50.ttf',\n",
       " u'c:\\\\windows\\\\fonts\\\\coprgtb.ttf',\n",
       " u'C:\\\\Windows\\\\Fonts\\\\shruti.ttf',\n",
       " u'c:\\\\windows\\\\fonts\\\\calisti.ttf',\n",
       " u'C:\\\\Windows\\\\Fonts\\\\angsa.ttf',\n",
       " u'c:\\\\windows\\\\fonts\\\\mtproxy2.ttf',\n",
       " u'C:\\\\Windows\\\\Fonts\\\\vrinda.ttf',\n",
       " u'C:\\\\Windows\\\\Fonts\\\\swisscbo.ttf',\n",
       " u'c:\\\\windows\\\\fonts\\\\monotxt_iv25.ttf',\n",
       " u'c:\\\\windows\\\\fonts\\\\jokerman.ttf',\n",
       " u'C:\\\\Windows\\\\Fonts\\\\swisscb.ttf',\n",
       " u'C:\\\\Windows\\\\Fonts\\\\LHANDW.TTF',\n",
       " u'C:\\\\Windows\\\\Fonts\\\\segoeuib.ttf',\n",
       " u'C:\\\\Windows\\\\Fonts\\\\ebrima.ttf',\n",
       " u'c:\\\\windows\\\\fonts\\\\dutcheb.ttf',\n",
       " u'c:\\\\windows\\\\fonts\\\\itcblkad.ttf',\n",
       " u'C:\\\\Windows\\\\Fonts\\\\BOD_CBI.TTF',\n",
       " u'c:\\\\windows\\\\fonts\\\\baskvill.ttf',\n",
       " u'C:\\\\Windows\\\\Fonts\\\\LFAX.TTF',\n",
       " u'C:\\\\Windows\\\\Fonts\\\\aparajb.ttf',\n",
       " u'C:\\\\Windows\\\\Fonts\\\\SEGOEUISL.TTF',\n",
       " u'c:\\\\windows\\\\fonts\\\\swissbo.ttf',\n",
       " u'c:\\\\windows\\\\fonts\\\\gothicg_.ttf',\n",
       " u'c:\\\\windows\\\\fonts\\\\rocki.ttf',\n",
       " u'C:\\\\Windows\\\\Fonts\\\\monosbi.ttf',\n",
       " u'C:\\\\Windows\\\\Fonts\\\\ANTQUAI.TTF',\n",
       " u'c:\\\\windows\\\\fonts\\\\bkant.ttf',\n",
       " u'C:\\\\Windows\\\\Fonts\\\\BOD_I.TTF',\n",
       " u'C:\\\\Windows\\\\Fonts\\\\daunpenh.ttf',\n",
       " u'C:\\\\Windows\\\\Fonts\\\\consolai.ttf',\n",
       " u'C:\\\\Windows\\\\Fonts\\\\angsau.ttf',\n",
       " u'c:\\\\windows\\\\fonts\\\\garabd.ttf',\n",
       " u'C:\\\\Windows\\\\Fonts\\\\saswthb.ttf',\n",
       " u'c:\\\\windows\\\\fonts\\\\gost common italic.ttf',\n",
       " u'c:\\\\windows\\\\fonts\\\\kokilabi.ttf',\n",
       " u'C:\\\\Windows\\\\Fonts\\\\courbd.ttf',\n",
       " u'C:\\\\Windows\\\\Fonts\\\\swisscbi.ttf',\n",
       " u'c:\\\\windows\\\\fonts\\\\isoct3_iv50.ttf',\n",
       " u'C:\\\\Windows\\\\Fonts\\\\BRADHITC.TTF',\n",
       " u'C:\\\\Windows\\\\Fonts\\\\SNAP____.TTF',\n",
       " u'c:\\\\windows\\\\fonts\\\\gisha.ttf',\n",
       " u'c:\\\\windows\\\\fonts\\\\angsai.ttf',\n",
       " u'C:\\\\Windows\\\\Fonts\\\\BELLB.TTF',\n",
       " u'C:\\\\Windows\\\\Fonts\\\\browauz.ttf',\n",
       " u'c:\\\\windows\\\\fonts\\\\calist.ttf',\n",
       " u'c:\\\\windows\\\\fonts\\\\curlz___.ttf',\n",
       " u'c:\\\\windows\\\\fonts\\\\arialbi.ttf',\n",
       " u'c:\\\\windows\\\\fonts\\\\trebucit.ttf',\n",
       " u'C:\\\\Windows\\\\Fonts\\\\BOOKOSI.TTF',\n",
       " u'c:\\\\windows\\\\fonts\\\\britanic.ttf',\n",
       " u'C:\\\\Windows\\\\Fonts\\\\ROCKB.TTF',\n",
       " u'c:\\\\windows\\\\fonts\\\\courbd.ttf',\n",
       " u'c:\\\\windows\\\\fonts\\\\pertili.ttf',\n",
       " u'c:\\\\windows\\\\fonts\\\\monos.ttf',\n",
       " u'C:\\\\Windows\\\\Fonts\\\\txt_IV25.ttf',\n",
       " u'c:\\\\windows\\\\fonts\\\\simsunb.ttf',\n",
       " u'c:\\\\windows\\\\fonts\\\\shrutib.ttf',\n",
       " u'C:\\\\Windows\\\\Fonts\\\\TCCEB.TTF',\n",
       " u'C:\\\\Windows\\\\Fonts\\\\trebucbi.ttf',\n",
       " u'c:\\\\windows\\\\fonts\\\\browaui.ttf',\n",
       " u'C:\\\\Windows\\\\Fonts\\\\LSANS.TTF',\n",
       " u'C:\\\\Windows\\\\Fonts\\\\REFSAN.TTF',\n",
       " u'C:\\\\Windows\\\\Fonts\\\\trado.ttf',\n",
       " u'c:\\\\windows\\\\fonts\\\\framdit.ttf',\n",
       " u'c:\\\\windows\\\\fonts\\\\bauhs93.ttf',\n",
       " u'C:\\\\Windows\\\\Fonts\\\\CALIFB.TTF',\n",
       " u'c:\\\\windows\\\\fonts\\\\lcallig.ttf',\n",
       " u'C:\\\\Windows\\\\Fonts\\\\GADUGIB.TTF',\n",
       " u'C:\\\\Windows\\\\Fonts\\\\gdt_____.ttf',\n",
       " u'c:\\\\windows\\\\fonts\\\\techl___.ttf',\n",
       " u'C:\\\\Windows\\\\Fonts\\\\isocteur.ttf',\n",
       " u'C:\\\\Windows\\\\Fonts\\\\wingding.ttf',\n",
       " u'C:\\\\Windows\\\\Fonts\\\\sasgasb.ttf',\n",
       " u'c:\\\\windows\\\\fonts\\\\isoct2_iv50.ttf',\n",
       " u'c:\\\\windows\\\\fonts\\\\mriam.ttf',\n",
       " u'C:\\\\Windows\\\\Fonts\\\\upcii.ttf',\n",
       " u'c:\\\\windows\\\\fonts\\\\msuighub.ttf',\n",
       " u'c:\\\\windows\\\\fonts\\\\timesbi.ttf',\n",
       " u'c:\\\\windows\\\\fonts\\\\mangalb.ttf',\n",
       " u'c:\\\\windows\\\\fonts\\\\comicbd.ttf',\n",
       " u'c:\\\\windows\\\\fonts\\\\candarab.ttf',\n",
       " u'C:\\\\Windows\\\\Fonts\\\\MOD20.TTF',\n",
       " u'C:\\\\Windows\\\\Fonts\\\\HATTEN.TTF',\n",
       " u'c:\\\\windows\\\\fonts\\\\scripts_iv50.ttf',\n",
       " u'C:\\\\Windows\\\\Fonts\\\\LTYPE.TTF',\n",
       " u'c:\\\\windows\\\\fonts\\\\upcjbi.ttf',\n",
       " u'c:\\\\windows\\\\fonts\\\\ltypeo.ttf',\n",
       " u'C:\\\\Windows\\\\Fonts\\\\georgiaz.ttf',\n",
       " u'c:\\\\windows\\\\fonts\\\\cordia.ttf',\n",
       " u'C:\\\\Windows\\\\Fonts\\\\technic_.ttf',\n",
       " u'c:\\\\windows\\\\fonts\\\\mtproxy1.ttf',\n",
       " u'C:\\\\Windows\\\\Fonts\\\\simplex_IV25.ttf',\n",
       " u'C:\\\\Windows\\\\Fonts\\\\ERASLGHT.TTF',\n",
       " u'C:\\\\Windows\\\\Fonts\\\\sasgasbi.ttf',\n",
       " u'C:\\\\Windows\\\\Fonts\\\\TCM_____.TTF',\n",
       " u'c:\\\\windows\\\\fonts\\\\goudysto.ttf',\n",
       " u'C:\\\\Windows\\\\Fonts\\\\sasgtsb.ttf',\n",
       " u'C:\\\\Windows\\\\Fonts\\\\arialbi.ttf',\n",
       " u'c:\\\\windows\\\\fonts\\\\upcebi.ttf',\n",
       " u'C:\\\\Windows\\\\Fonts\\\\dutchb.ttf',\n",
       " u'C:\\\\Windows\\\\Fonts\\\\upckl.ttf',\n",
       " u'c:\\\\windows\\\\fonts\\\\saswalr.ttf',\n",
       " u'c:\\\\program files (x86)\\\\ibm\\\\spss\\\\amos\\\\22\\\\jre\\\\lib\\\\fonts\\\\lucidatypewriterbold.ttf',\n",
       " u'c:\\\\windows\\\\fonts\\\\calibrili.ttf',\n",
       " u'C:\\\\Windows\\\\Fonts\\\\david.ttf',\n",
       " u'c:\\\\windows\\\\fonts\\\\gillubcd.ttf',\n",
       " u'C:\\\\Windows\\\\Fonts\\\\swissel.ttf',\n",
       " u'c:\\\\windows\\\\fonts\\\\palab.ttf',\n",
       " u'C:\\\\Windows\\\\Fonts\\\\ROCCB___.TTF',\n",
       " u'c:\\\\windows\\\\fonts\\\\eurr____.ttf',\n",
       " u'C:\\\\Windows\\\\Fonts\\\\cambriai.ttf',\n",
       " u'c:\\\\windows\\\\fonts\\\\stencil.ttf',\n",
       " u'C:\\\\Windows\\\\Fonts\\\\CALIFR.TTF',\n",
       " u'c:\\\\windows\\\\fonts\\\\italict_.ttf',\n",
       " u'C:\\\\Windows\\\\Fonts\\\\swissi.ttf',\n",
       " u'C:\\\\Windows\\\\Fonts\\\\upcdbi.ttf',\n",
       " u'C:\\\\Windows\\\\Fonts\\\\WINGDNG3.TTF',\n",
       " u'c:\\\\windows\\\\fonts\\\\glsnecb.ttf',\n",
       " u'C:\\\\Windows\\\\Fonts\\\\angsab.ttf',\n",
       " u'C:\\\\Windows\\\\Fonts\\\\greeks_IV50.ttf',\n",
       " u'c:\\\\windows\\\\fonts\\\\upceb.ttf',\n",
       " u'c:\\\\windows\\\\fonts\\\\frabk.ttf',\n",
       " u'c:\\\\windows\\\\fonts\\\\aparaj.ttf',\n",
       " u'C:\\\\Windows\\\\Fonts\\\\gothicg_.ttf',\n",
       " u'c:\\\\windows\\\\fonts\\\\goudosb.ttf',\n",
       " u'C:\\\\Windows\\\\Fonts\\\\saswthr.ttf',\n",
       " u'C:\\\\Windows\\\\Fonts\\\\cordiaub.ttf',\n",
       " u'c:\\\\windows\\\\fonts\\\\eraslght.ttf',\n",
       " u'C:\\\\Windows\\\\Fonts\\\\TCBI____.TTF',\n",
       " u'c:\\\\windows\\\\fonts\\\\amgdt_iv50.ttf',\n",
       " u'C:\\\\Windows\\\\Fonts\\\\tunga.ttf',\n",
       " u'c:\\\\windows\\\\fonts\\\\constanb.ttf',\n",
       " u'c:\\\\windows\\\\fonts\\\\csonghwl.ttf',\n",
       " u'c:\\\\windows\\\\fonts\\\\romans_iv25.ttf',\n",
       " u'c:\\\\windows\\\\fonts\\\\complex_.ttf',\n",
       " u'C:\\\\Windows\\\\Fonts\\\\upcli.ttf',\n",
       " u'C:\\\\Windows\\\\Fonts\\\\saswalb.ttf',\n",
       " u'c:\\\\windows\\\\fonts\\\\pertibd.ttf',\n",
       " u'c:\\\\windows\\\\fonts\\\\gautami.ttf',\n",
       " u'C:\\\\Windows\\\\Fonts\\\\utsaahbi.ttf',\n",
       " u'c:\\\\windows\\\\fonts\\\\elephnti.ttf',\n",
       " u'C:\\\\Windows\\\\Fonts\\\\palab.ttf',\n",
       " u'c:\\\\windows\\\\fonts\\\\gothicbi.ttf',\n",
       " u'C:\\\\Windows\\\\Fonts\\\\symap___.ttf',\n",
       " u'C:\\\\Windows\\\\Fonts\\\\italic__.ttf',\n",
       " u'C:\\\\Windows\\\\Fonts\\\\Gabriola.ttf',\n",
       " u'C:\\\\Windows\\\\Fonts\\\\heit.ttf',\n",
       " u'c:\\\\windows\\\\fonts\\\\harngton.ttf',\n",
       " u'C:\\\\Windows\\\\Fonts\\\\isocp2__.ttf',\n",
       " u'c:\\\\windows\\\\fonts\\\\calibriz.ttf',\n",
       " u'C:\\\\Windows\\\\Fonts\\\\GILSANUB.TTF',\n",
       " u'C:\\\\Windows\\\\Fonts\\\\TCB_____.TTF',\n",
       " u'c:\\\\windows\\\\fonts\\\\iskpota.ttf',\n",
       " u'C:\\\\Windows\\\\Fonts\\\\BOD_CB.TTF',\n",
       " u'c:\\\\windows\\\\fonts\\\\saswalbi.ttf',\n",
       " u'C:\\\\Windows\\\\Fonts\\\\Candarai.ttf',\n",
       " u'C:\\\\Windows\\\\Fonts\\\\angsauz.ttf',\n",
       " u'c:\\\\windows\\\\fonts\\\\garait.ttf',\n",
       " u'c:\\\\windows\\\\fonts\\\\dutch.ttf',\n",
       " u'c:\\\\windows\\\\fonts\\\\upcib.ttf',\n",
       " u'C:\\\\Windows\\\\Fonts\\\\couri.ttf',\n",
       " u'c:\\\\windows\\\\fonts\\\\gilb____.ttf',\n",
       " u'C:\\\\Windows\\\\Fonts\\\\mtproxy3.ttf',\n",
       " u'C:\\\\Windows\\\\Fonts\\\\cordiauz.ttf',\n",
       " u'C:\\\\Windows\\\\Fonts\\\\msyh.ttf',\n",
       " u'c:\\\\windows\\\\fonts\\\\scripts_iv25.ttf',\n",
       " u'c:\\\\windows\\\\fonts\\\\euphemia.ttf',\n",
       " u'c:\\\\windows\\\\fonts\\\\century.ttf',\n",
       " u'c:\\\\windows\\\\fonts\\\\angsab.ttf',\n",
       " u'c:\\\\windows\\\\fonts\\\\dutchb.ttf',\n",
       " u'c:\\\\windows\\\\fonts\\\\aparaji.ttf',\n",
       " u'c:\\\\windows\\\\fonts\\\\frabkit.ttf',\n",
       " u'c:\\\\windows\\\\fonts\\\\constanz.ttf',\n",
       " u'C:\\\\Windows\\\\Fonts\\\\BOD_PSTC.TTF',\n",
       " u'C:\\\\Windows\\\\Fonts\\\\aparaj.ttf',\n",
       " u'c:\\\\windows\\\\fonts\\\\gilbi___.ttf',\n",
       " u'c:\\\\windows\\\\fonts\\\\outlook.ttf',\n",
       " u'C:\\\\Windows\\\\Fonts\\\\sylfaen.ttf',\n",
       " u'c:\\\\windows\\\\fonts\\\\lfaxdi.ttf',\n",
       " u'c:\\\\windows\\\\fonts\\\\candara.ttf',\n",
       " u'C:\\\\Windows\\\\Fonts\\\\arial.ttf',\n",
       " u'C:\\\\Windows\\\\Fonts\\\\COPRGTL.TTF',\n",
       " u'c:\\\\windows\\\\fonts\\\\sasgasbi.ttf',\n",
       " u'C:\\\\Windows\\\\Fonts\\\\PER_____.TTF',\n",
       " u'c:\\\\windows\\\\fonts\\\\maturasc.ttf',\n",
       " u'c:\\\\windows\\\\fonts\\\\swiss.ttf',\n",
       " u'c:\\\\windows\\\\fonts\\\\vijaya.ttf',\n",
       " u'c:\\\\windows\\\\fonts\\\\arialn.ttf',\n",
       " u'c:\\\\windows\\\\fonts\\\\colonna.ttf',\n",
       " u'c:\\\\windows\\\\fonts\\\\isoct_iv25.ttf',\n",
       " u'c:\\\\windows\\\\fonts\\\\mtproxy9.ttf',\n",
       " u'c:\\\\windows\\\\fonts\\\\romai___.ttf',\n",
       " u'C:\\\\Windows\\\\Fonts\\\\romans__.ttf',\n",
       " u'C:\\\\Windows\\\\Fonts\\\\segoeuil.ttf',\n",
       " u'C:\\\\Windows\\\\Fonts\\\\symeteo_IV50.ttf',\n",
       " u'C:\\\\Windows\\\\Fonts\\\\simpbdo.ttf',\n",
       " u'C:\\\\Windows\\\\Fonts\\\\saswcui.ttf',\n",
       " u'c:\\\\windows\\\\fonts\\\\lfax.ttf',\n",
       " u'C:\\\\Windows\\\\Fonts\\\\tungab.ttf',\n",
       " u'C:\\\\Windows\\\\Fonts\\\\isocp3__.ttf',\n",
       " u'C:\\\\Windows\\\\Fonts\\\\mriam.ttf',\n",
       " u'c:\\\\windows\\\\fonts\\\\txt_iv25.ttf',\n",
       " u'c:\\\\windows\\\\fonts\\\\sanssbo_.ttf',\n",
       " u'C:\\\\Windows\\\\Fonts\\\\GILI____.TTF',\n",
       " u'C:\\\\Windows\\\\Fonts\\\\majallab.ttf',\n",
       " u'C:\\\\Windows\\\\Fonts\\\\syastro_IV50.ttf',\n",
       " u'C:\\\\Windows\\\\Fonts\\\\comicbd.ttf',\n",
       " u'C:\\\\Windows\\\\Fonts\\\\RAGE.TTF',\n",
       " u'c:\\\\windows\\\\fonts\\\\hatten.ttf',\n",
       " u'c:\\\\windows\\\\fonts\\\\sasgasr.ttf',\n",
       " u'C:\\\\Windows\\\\Fonts\\\\iskpota.ttf',\n",
       " u'C:\\\\Windows\\\\Fonts\\\\PERBI___.TTF',\n",
       " u'c:\\\\windows\\\\fonts\\\\romans__.ttf',\n",
       " u'c:\\\\windows\\\\fonts\\\\frank.ttf',\n",
       " u'C:\\\\Windows\\\\Fonts\\\\Amgdt_IV25.ttf',\n",
       " u'C:\\\\Windows\\\\Fonts\\\\Shonar.ttf',\n",
       " u'C:\\\\Windows\\\\Fonts\\\\saswcur.ttf',\n",
       " u'c:\\\\windows\\\\fonts\\\\brlnsr.ttf',\n",
       " u'C:\\\\Windows\\\\Fonts\\\\LATINWD.TTF',\n",
       " u'C:\\\\Windows\\\\Fonts\\\\BSSYM7.TTF',\n",
       " u'c:\\\\windows\\\\fonts\\\\msyi.ttf',\n",
       " u'c:\\\\windows\\\\fonts\\\\wingding.ttf',\n",
       " u'C:\\\\Windows\\\\Fonts\\\\isocp2_IV50.ttf',\n",
       " u'C:\\\\Windows\\\\Fonts\\\\sasgtsbi.ttf',\n",
       " u'c:\\\\windows\\\\fonts\\\\bell.ttf',\n",
       " u'C:\\\\Windows\\\\Fonts\\\\tradbdo.ttf',\n",
       " u'C:\\\\Windows\\\\Fonts\\\\utsaah.ttf',\n",
       " u'C:\\\\Windows\\\\Fonts\\\\simhei.ttf',\n",
       " u'C:\\\\Windows\\\\Fonts\\\\browai.ttf',\n",
       " u'C:\\\\Windows\\\\Fonts\\\\corbelz.ttf',\n",
       " u'C:\\\\Windows\\\\Fonts\\\\FORTE.TTF',\n",
       " u'c:\\\\windows\\\\fonts\\\\symap_iv50.ttf',\n",
       " u'C:\\\\Windows\\\\Fonts\\\\BOD_B.TTF',\n",
       " u'C:\\\\Windows\\\\Fonts\\\\monosi.ttf',\n",
       " u'c:\\\\windows\\\\fonts\\\\segoescb.ttf',\n",
       " u'C:\\\\Windows\\\\Fonts\\\\arialbd.ttf',\n",
       " u'C:\\\\Windows\\\\Fonts\\\\compi.ttf',\n",
       " u'c:\\\\program files (x86)\\\\ibm\\\\spss\\\\amos\\\\22\\\\jre\\\\lib\\\\fonts\\\\lucidasansdemibold.ttf',\n",
       " u'C:\\\\Windows\\\\Fonts\\\\TCCM____.TTF',\n",
       " u'c:\\\\windows\\\\fonts\\\\juice___.ttf',\n",
       " u'C:\\\\Windows\\\\Fonts\\\\isoct2_IV25.ttf',\n",
       " u'C:\\\\Windows\\\\Fonts\\\\FRSCRIPT.TTF',\n",
       " u'C:\\\\Windows\\\\Fonts\\\\SCHLBKB.TTF',\n",
       " u'c:\\\\windows\\\\fonts\\\\angsa.ttf',\n",
       " u'c:\\\\windows\\\\fonts\\\\calibril.ttf',\n",
       " u'C:\\\\Windows\\\\Fonts\\\\MISTRAL.TTF',\n",
       " u'c:\\\\windows\\\\fonts\\\\framdcn.ttf',\n",
       " u'C:\\\\Windows\\\\Fonts\\\\consola.ttf',\n",
       " u'C:\\\\Windows\\\\Fonts\\\\upcel.ttf',\n",
       " u'C:\\\\Windows\\\\Fonts\\\\sasgsymb.ttf',\n",
       " u'C:\\\\Windows\\\\Fonts\\\\monotxt_.ttf',\n",
       " u'C:\\\\Windows\\\\Fonts\\\\GARABD.TTF',\n",
       " u'C:\\\\Windows\\\\Fonts\\\\FRABKIT.TTF',\n",
       " u'C:\\\\Windows\\\\Fonts\\\\symap_IV50.ttf',\n",
       " u'C:\\\\Windows\\\\Fonts\\\\vijayab.ttf',\n",
       " u'C:\\\\Windows\\\\Fonts\\\\LFAXDI.TTF',\n",
       " u'C:\\\\Windows\\\\Fonts\\\\upcjl.ttf',\n",
       " u'c:\\\\windows\\\\fonts\\\\monotxt_iv50.ttf',\n",
       " u'C:\\\\Windows\\\\Fonts\\\\CASTELAR.TTF',\n",
       " u'C:\\\\Windows\\\\Fonts\\\\upcil.ttf',\n",
       " u'c:\\\\windows\\\\fonts\\\\comsc.ttf',\n",
       " u'c:\\\\windows\\\\fonts\\\\antquab.ttf',\n",
       " u'C:\\\\Windows\\\\Fonts\\\\italic_IV25.ttf',\n",
       " u'c:\\\\windows\\\\fonts\\\\brushsci.ttf',\n",
       " u'C:\\\\Windows\\\\Fonts\\\\LFAXI.TTF',\n",
       " u'c:\\\\windows\\\\fonts\\\\freescpt.ttf',\n",
       " u'C:\\\\Windows\\\\Fonts\\\\sasmono.ttf',\n",
       " u'c:\\\\windows\\\\fonts\\\\bod_ci.ttf',\n",
       " u'C:\\\\Windows\\\\Fonts\\\\BELL.TTF',\n",
       " u'c:\\\\windows\\\\fonts\\\\swisscli.ttf',\n",
       " u'c:\\\\windows\\\\fonts\\\\gilsanub.ttf',\n",
       " u'C:\\\\Windows\\\\Fonts\\\\PAPYRUS.TTF',\n",
       " u'c:\\\\windows\\\\fonts\\\\gigi.ttf',\n",
       " u'c:\\\\windows\\\\fonts\\\\tempsitc.ttf',\n",
       " u'C:\\\\Windows\\\\Fonts\\\\LBRITED.TTF',\n",
       " u'C:\\\\Windows\\\\Fonts\\\\BRLNSB.TTF',\n",
       " u'C:\\\\Windows\\\\Fonts\\\\saswalr.ttf',\n",
       " u'c:\\\\windows\\\\fonts\\\\upclbi.ttf',\n",
       " u'C:\\\\Windows\\\\Fonts\\\\italict_.ttf',\n",
       " u'C:\\\\Windows\\\\Fonts\\\\romantic.ttf',\n",
       " u'c:\\\\windows\\\\fonts\\\\aparajb.ttf',\n",
       " u'c:\\\\windows\\\\fonts\\\\vinet.ttf',\n",
       " u'c:\\\\windows\\\\fonts\\\\latinwd.ttf',\n",
       " u'C:\\\\Windows\\\\Fonts\\\\raavib.ttf',\n",
       " u'c:\\\\windows\\\\fonts\\\\htowert.ttf',\n",
       " u'c:\\\\windows\\\\fonts\\\\papyrus.ttf',\n",
       " u'C:\\\\Windows\\\\Fonts\\\\simplex_IV50.ttf',\n",
       " u'C:\\\\Windows\\\\Fonts\\\\dutchi.ttf',\n",
       " u'C:\\\\Windows\\\\Fonts\\\\isoct___.ttf',\n",
       " u'C:\\\\Windows\\\\Fonts\\\\utsaahb.ttf',\n",
       " u'c:\\\\windows\\\\fonts\\\\elephnt.ttf',\n",
       " u'c:\\\\windows\\\\fonts\\\\syastro_iv50.ttf',\n",
       " u'C:\\\\Windows\\\\Fonts\\\\davidbd.ttf',\n",
       " u'c:\\\\windows\\\\fonts\\\\ariblk.ttf',\n",
       " u'C:\\\\Windows\\\\Fonts\\\\swisse.ttf',\n",
       " u'C:\\\\Windows\\\\Fonts\\\\ntailu.ttf',\n",
       " u'C:\\\\Windows\\\\Fonts\\\\eurro___.ttf',\n",
       " u'c:\\\\windows\\\\fonts\\\\amdt_symbols.ttf',\n",
       " u'c:\\\\windows\\\\fonts\\\\fradmcn.ttf',\n",
       " u'c:\\\\windows\\\\fonts\\\\saswcur.ttf',\n",
       " u'c:\\\\windows\\\\fonts\\\\consolaz.ttf',\n",
       " u'c:\\\\windows\\\\fonts\\\\bookosbi.ttf',\n",
       " u'c:\\\\windows\\\\fonts\\\\raavib.ttf',\n",
       " u'C:\\\\Windows\\\\Fonts\\\\HTOWERT.TTF',\n",
       " u'c:\\\\windows\\\\fonts\\\\upcei.ttf',\n",
       " u'c:\\\\windows\\\\fonts\\\\upckb.ttf',\n",
       " u'C:\\\\Windows\\\\Fonts\\\\Vanib.ttf',\n",
       " u'C:\\\\Windows\\\\Fonts\\\\TEMPSITC.TTF',\n",
       " u'C:\\\\Windows\\\\Fonts\\\\trebuc.ttf',\n",
       " u'C:\\\\Windows\\\\Fonts\\\\corbeli.ttf',\n",
       " u'C:\\\\Windows\\\\Fonts\\\\gdt_IV25.ttf',\n",
       " u'C:\\\\Windows\\\\Fonts\\\\gishabd.ttf',\n",
       " u'C:\\\\Windows\\\\Fonts\\\\consolab.ttf',\n",
       " u'C:\\\\Windows\\\\Fonts\\\\simplex_.ttf',\n",
       " u'C:\\\\Windows\\\\Fonts\\\\PERB____.TTF',\n",
       " u'C:\\\\Windows\\\\Fonts\\\\estre.ttf',\n",
       " u'c:\\\\windows\\\\fonts\\\\nyala.ttf',\n",
       " u'c:\\\\windows\\\\fonts\\\\upcjl.ttf',\n",
       " u'c:\\\\windows\\\\fonts\\\\sasgsort.ttf',\n",
       " u'c:\\\\windows\\\\fonts\\\\rock.ttf',\n",
       " u'c:\\\\windows\\\\fonts\\\\upcll.ttf',\n",
       " u'C:\\\\Windows\\\\Fonts\\\\AGENCYB.TTF',\n",
       " u'c:\\\\windows\\\\fonts\\\\scripts_.ttf',\n",
       " u'C:\\\\Windows\\\\Fonts\\\\swiss.ttf',\n",
       " u'c:\\\\windows\\\\fonts\\\\lsansdi.ttf',\n",
       " u'C:\\\\Windows\\\\Fonts\\\\symath__.ttf',\n",
       " u'c:\\\\windows\\\\fonts\\\\corbeli.ttf',\n",
       " u'c:\\\\windows\\\\fonts\\\\tcb_____.ttf',\n",
       " u'c:\\\\windows\\\\fonts\\\\saswali.ttf',\n",
       " u'C:\\\\Windows\\\\Fonts\\\\FRADMIT.TTF',\n",
       " u'C:\\\\Windows\\\\Fonts\\\\GOTHICB.TTF',\n",
       " u'c:\\\\windows\\\\fonts\\\\rockbi.ttf',\n",
       " u'C:\\\\Windows\\\\Fonts\\\\georgia.ttf',\n",
       " u'c:\\\\windows\\\\fonts\\\\niagsol.ttf',\n",
       " u'c:\\\\windows\\\\fonts\\\\calibrii.ttf',\n",
       " u'c:\\\\windows\\\\fonts\\\\timesi.ttf',\n",
       " u'c:\\\\windows\\\\fonts\\\\swisscbi.ttf',\n",
       " u'C:\\\\Windows\\\\Fonts\\\\PERTILI.TTF',\n",
       " u'c:\\\\windows\\\\fonts\\\\browa.ttf',\n",
       " u'C:\\\\Windows\\\\Fonts\\\\ELEPHNT.TTF',\n",
       " u'C:\\\\Windows\\\\Fonts\\\\ROCKI.TTF',\n",
       " u'c:\\\\windows\\\\fonts\\\\swissbi.ttf',\n",
       " u'C:\\\\Windows\\\\Fonts\\\\courbi.ttf',\n",
       " u'C:\\\\Windows\\\\Fonts\\\\corbelb.ttf',\n",
       " u'C:\\\\Windows\\\\Fonts\\\\OCRAEXT.TTF',\n",
       " u'c:\\\\windows\\\\fonts\\\\msuighur.ttf',\n",
       " u'c:\\\\windows\\\\fonts\\\\upcfb.ttf',\n",
       " u'C:\\\\Windows\\\\Fonts\\\\monotxt_IV50.ttf',\n",
       " u'C:\\\\Windows\\\\Fonts\\\\palai.ttf',\n",
       " u'c:\\\\windows\\\\fonts\\\\heit.ttf',\n",
       " u'C:\\\\Windows\\\\Fonts\\\\BELLI.TTF',\n",
       " u'C:\\\\Windows\\\\Fonts\\\\ERASBD.TTF',\n",
       " u'C:\\\\Windows\\\\Fonts\\\\angsaub.ttf',\n",
       " u'C:\\\\Windows\\\\Fonts\\\\NIRMALAB.TTF',\n",
       " u'c:\\\\windows\\\\fonts\\\\vivaldii.ttf',\n",
       " u'C:\\\\Windows\\\\Fonts\\\\LaoUIb.ttf',\n",
       " u'c:\\\\windows\\\\fonts\\\\saswalb.ttf',\n",
       " u'C:\\\\Windows\\\\Fonts\\\\PLAYBILL.TTF',\n",
       " u'c:\\\\windows\\\\fonts\\\\alger.ttf',\n",
       " u'c:\\\\windows\\\\fonts\\\\symusic_iv50.ttf',\n",
       " u'c:\\\\windows\\\\fonts\\\\segoeui.ttf',\n",
       " u'c:\\\\windows\\\\fonts\\\\cordiaui.ttf',\n",
       " u'C:\\\\Windows\\\\Fonts\\\\GARA.TTF',\n",
       " u'c:\\\\windows\\\\fonts\\\\syastro_.ttf',\n",
       " u'c:\\\\program files (x86)\\\\ibm\\\\spss\\\\amos\\\\22\\\\jre\\\\lib\\\\fonts\\\\lucidabrightregular.ttf',\n",
       " u'c:\\\\windows\\\\fonts\\\\palscri.ttf',\n",
       " u'C:\\\\Windows\\\\Fonts\\\\nyala.ttf',\n",
       " u'c:\\\\windows\\\\fonts\\\\gothic.ttf',\n",
       " u'c:\\\\windows\\\\fonts\\\\isocp3_iv25.ttf',\n",
       " u'C:\\\\Windows\\\\Fonts\\\\simsunb.ttf',\n",
       " u'c:\\\\windows\\\\fonts\\\\malgunbd.ttf',\n",
       " u'c:\\\\windows\\\\fonts\\\\pristina.ttf',\n",
       " u'C:\\\\Windows\\\\Fonts\\\\Shonarb.ttf',\n",
       " u'C:\\\\Windows\\\\Fonts\\\\GARAIT.TTF',\n",
       " u'C:\\\\Windows\\\\Fonts\\\\isocteui.ttf',\n",
       " u'c:\\\\windows\\\\fonts\\\\ntailu.ttf',\n",
       " u'c:\\\\windows\\\\fonts\\\\kartikab.ttf',\n",
       " u'C:\\\\Windows\\\\Fonts\\\\mtproxy1.ttf',\n",
       " u'c:\\\\windows\\\\fonts\\\\mtproxy6.ttf',\n",
       " u'C:\\\\Windows\\\\Fonts\\\\calibrili.ttf',\n",
       " u'c:\\\\windows\\\\fonts\\\\romand__.ttf',\n",
       " u'C:\\\\Windows\\\\Fonts\\\\SHOWG.TTF',\n",
       " u'c:\\\\windows\\\\fonts\\\\lfaxi.ttf',\n",
       " u'C:\\\\Windows\\\\Fonts\\\\CALIFI.TTF',\n",
       " u'C:\\\\Windows\\\\Fonts\\\\browau.ttf',\n",
       " u'c:\\\\windows\\\\fonts\\\\frahv.ttf',\n",
       " u'c:\\\\windows\\\\fonts\\\\simplex_iv50.ttf',\n",
       " u'C:\\\\Windows\\\\Fonts\\\\swissbi.ttf',\n",
       " u'C:\\\\Windows\\\\Fonts\\\\NIAGENG.TTF',\n",
       " u'c:\\\\windows\\\\fonts\\\\swissb.ttf',\n",
       " u'c:\\\\windows\\\\fonts\\\\supef___.ttf',\n",
       " u'c:\\\\windows\\\\fonts\\\\upcfbi.ttf',\n",
       " u'c:\\\\windows\\\\fonts\\\\leelawdb.ttf',\n",
       " u'c:\\\\windows\\\\fonts\\\\romant__.ttf',\n",
       " u'c:\\\\windows\\\\fonts\\\\symbol.ttf',\n",
       " u'c:\\\\windows\\\\fonts\\\\greekc__.ttf',\n",
       " u'C:\\\\Windows\\\\Fonts\\\\browa.ttf',\n",
       " u'C:\\\\Windows\\\\Fonts\\\\romanc__.ttf',\n",
       " u'c:\\\\windows\\\\fonts\\\\perb____.ttf',\n",
       " u'c:\\\\windows\\\\fonts\\\\webdings.ttf',\n",
       " u'C:\\\\Windows\\\\Fonts\\\\upclbi.ttf',\n",
       " u'c:\\\\windows\\\\fonts\\\\sasgasi.ttf',\n",
       " u'C:\\\\Windows\\\\Fonts\\\\andlso.ttf',\n",
       " u'C:\\\\Windows\\\\Fonts\\\\segoeuiz.ttf',\n",
       " u'C:\\\\Windows\\\\Fonts\\\\INFROMAN.TTF',\n",
       " u'C:\\\\Windows\\\\Fonts\\\\ntailub.ttf',\n",
       " u'C:\\\\Windows\\\\Fonts\\\\scriptc_.ttf',\n",
       " u'c:\\\\windows\\\\fonts\\\\vanib.ttf',\n",
       " u'C:\\\\Windows\\\\Fonts\\\\supef___.ttf',\n",
       " u'c:\\\\windows\\\\fonts\\\\consolai.ttf',\n",
       " u'c:\\\\windows\\\\fonts\\\\refspcl.ttf',\n",
       " u'C:\\\\Windows\\\\Fonts\\\\syastro_.ttf',\n",
       " u'c:\\\\windows\\\\fonts\\\\rage.ttf',\n",
       " u'c:\\\\windows\\\\fonts\\\\goudosi.ttf',\n",
       " u'c:\\\\windows\\\\fonts\\\\antquai.ttf',\n",
       " u'c:\\\\windows\\\\fonts\\\\sanss___.ttf',\n",
       " u'c:\\\\windows\\\\fonts\\\\lbrite.ttf',\n",
       " u'C:\\\\Windows\\\\Fonts\\\\CENTAUR.TTF',\n",
       " u'c:\\\\windows\\\\fonts\\\\swissc.ttf',\n",
       " u'C:\\\\Windows\\\\Fonts\\\\kokila.ttf',\n",
       " u'C:\\\\Windows\\\\Fonts\\\\FREESCPT.TTF',\n",
       " u'c:\\\\windows\\\\fonts\\\\txt_iv50.ttf',\n",
       " u'c:\\\\windows\\\\fonts\\\\segoeuii.ttf',\n",
       " u'c:\\\\windows\\\\fonts\\\\frscript.ttf',\n",
       " u'C:\\\\Windows\\\\Fonts\\\\ROCK.TTF',\n",
       " u'c:\\\\windows\\\\fonts\\\\bgothl.ttf',\n",
       " u'c:\\\\windows\\\\fonts\\\\upcli.ttf',\n",
       " u'c:\\\\windows\\\\fonts\\\\monbaiti.ttf',\n",
       " u'C:\\\\Windows\\\\Fonts\\\\ARIALNBI.TTF',\n",
       " u'c:\\\\windows\\\\fonts\\\\kaiu.ttf',\n",
       " u'c:\\\\windows\\\\fonts\\\\bod_blar.ttf',\n",
       " u'c:\\\\windows\\\\fonts\\\\swissci.ttf',\n",
       " u'c:\\\\windows\\\\fonts\\\\corbel.ttf',\n",
       " u'C:\\\\Windows\\\\Fonts\\\\dutcheb.ttf',\n",
       " u'C:\\\\Windows\\\\Fonts\\\\GOUDOSI.TTF',\n",
       " u'C:\\\\Windows\\\\Fonts\\\\AMDT_Symbols.ttf',\n",
       " u'c:\\\\windows\\\\fonts\\\\gilc____.ttf',\n",
       " u'c:\\\\windows\\\\fonts\\\\kokila.ttf',\n",
       " u'C:\\\\Windows\\\\Fonts\\\\utsaahi.ttf',\n",
       " u'c:\\\\windows\\\\fonts\\\\saswthr.ttf',\n",
       " u'c:\\\\windows\\\\fonts\\\\gdt_iv50.ttf',\n",
       " u'C:\\\\Windows\\\\Fonts\\\\BOD_BI.TTF',\n",
       " u'C:\\\\Windows\\\\Fonts\\\\PARCHM.TTF',\n",
       " u'c:\\\\windows\\\\fonts\\\\mistral.ttf',\n",
       " u'c:\\\\windows\\\\fonts\\\\majallab.ttf',\n",
       " u'c:\\\\windows\\\\fonts\\\\browaz.ttf',\n",
       " u'c:\\\\windows\\\\fonts\\\\rocc____.ttf',\n",
       " u'C:\\\\Windows\\\\Fonts\\\\symbol.ttf',\n",
       " u'C:\\\\Windows\\\\Fonts\\\\upcdi.ttf',\n",
       " u'C:\\\\Windows\\\\Fonts\\\\browaub.ttf',\n",
       " u'C:\\\\Windows\\\\Fonts\\\\aparaji.ttf',\n",
       " u'C:\\\\Windows\\\\Fonts\\\\sanssb__.ttf',\n",
       " u'C:\\\\Windows\\\\Fonts\\\\raavi.ttf',\n",
       " u'c:\\\\windows\\\\fonts\\\\cordiau.ttf',\n",
       " u'c:\\\\windows\\\\fonts\\\\swisseb.ttf',\n",
       " u'c:\\\\windows\\\\fonts\\\\segoesc.ttf',\n",
       " u'c:\\\\windows\\\\fonts\\\\segoeuisl.ttf',\n",
       " u'C:\\\\Windows\\\\Fonts\\\\VIVALDII.TTF',\n",
       " u'C:\\\\Windows\\\\Fonts\\\\BOOKOS.TTF',\n",
       " u'c:\\\\windows\\\\fonts\\\\sasgasb.ttf',\n",
       " u'C:\\\\Windows\\\\Fonts\\\\gisha.ttf',\n",
       " u'c:\\\\windows\\\\fonts\\\\italic__.ttf',\n",
       " u'C:\\\\Windows\\\\Fonts\\\\msjh.ttf',\n",
       " u'c:\\\\windows\\\\fonts\\\\technic_.ttf',\n",
       " u'c:\\\\windows\\\\fonts\\\\swisscl.ttf',\n",
       " u'c:\\\\windows\\\\fonts\\\\corbelz.ttf',\n",
       " u'c:\\\\windows\\\\fonts\\\\lvnmbd.ttf',\n",
       " u'C:\\\\Windows\\\\Fonts\\\\romant__.ttf',\n",
       " u'C:\\\\Windows\\\\Fonts\\\\MAGNETOB.TTF',\n",
       " u'c:\\\\windows\\\\fonts\\\\tccm____.ttf',\n",
       " u'c:\\\\windows\\\\fonts\\\\candarai.ttf',\n",
       " u'C:\\\\Windows\\\\Fonts\\\\complex_IV25.ttf',\n",
       " u'c:\\\\windows\\\\fonts\\\\comic.ttf',\n",
       " u'C:\\\\Windows\\\\Fonts\\\\frank.ttf',\n",
       " u'c:\\\\windows\\\\fonts\\\\segoeprb.ttf',\n",
       " u'C:\\\\Windows\\\\Fonts\\\\cordiaui.ttf',\n",
       " u'c:\\\\windows\\\\fonts\\\\angsaz.ttf',\n",
       " u'c:\\\\windows\\\\fonts\\\\swisski.ttf',\n",
       " u'C:\\\\Windows\\\\Fonts\\\\italic_IV50.ttf',\n",
       " u'C:\\\\Windows\\\\Fonts\\\\FRAMDCN.TTF',\n",
       " u'C:\\\\Windows\\\\Fonts\\\\isocp___.ttf',\n",
       " u'C:\\\\Windows\\\\Fonts\\\\IMPRISHA.TTF',\n",
       " u'c:\\\\windows\\\\fonts\\\\eurro___.ttf',\n",
       " u'C:\\\\Windows\\\\Fonts\\\\ahronbd.ttf',\n",
       " u'C:\\\\Windows\\\\Fonts\\\\verdanab.ttf',\n",
       " u'c:\\\\windows\\\\fonts\\\\umath.ttf',\n",
       " u'c:\\\\windows\\\\fonts\\\\tahoma.ttf',\n",
       " u'c:\\\\windows\\\\fonts\\\\gothicb.ttf',\n",
       " u'c:\\\\windows\\\\fonts\\\\kalinga.ttf',\n",
       " u'c:\\\\windows\\\\fonts\\\\cordiaub.ttf',\n",
       " u'C:\\\\Windows\\\\Fonts\\\\simpo.ttf',\n",
       " u'c:\\\\windows\\\\fonts\\\\symath_iv50.ttf',\n",
       " u'c:\\\\windows\\\\fonts\\\\andlso.ttf',\n",
       " u'C:\\\\Windows\\\\Fonts\\\\umath.ttf',\n",
       " u'c:\\\\windows\\\\fonts\\\\bookos.ttf',\n",
       " u'c:\\\\windows\\\\fonts\\\\moolbor.ttf',\n",
       " u'c:\\\\windows\\\\fonts\\\\calibrib.ttf',\n",
       " u'c:\\\\windows\\\\fonts\\\\framd.ttf',\n",
       " u'c:\\\\windows\\\\fonts\\\\isocp2_iv50.ttf',\n",
       " u'c:\\\\program files (x86)\\\\ibm\\\\spss\\\\amos\\\\22\\\\jre\\\\lib\\\\fonts\\\\lucidasansregular.ttf',\n",
       " u'c:\\\\windows\\\\fonts\\\\brlnsdb.ttf',\n",
       " u'c:\\\\windows\\\\fonts\\\\greekc_iv50.ttf',\n",
       " u'c:\\\\windows\\\\fonts\\\\schlbkbi.ttf',\n",
       " u'C:\\\\Windows\\\\Fonts\\\\sanss___.ttf',\n",
       " u'C:\\\\Windows\\\\Fonts\\\\upcjb.ttf',\n",
       " u'c:\\\\windows\\\\fonts\\\\monosi.ttf',\n",
       " u'c:\\\\windows\\\\fonts\\\\arialnbi.ttf',\n",
       " u'C:\\\\Windows\\\\Fonts\\\\NIRMALA.TTF',\n",
       " u'c:\\\\windows\\\\fonts\\\\swissi.ttf',\n",
       " u'c:\\\\windows\\\\fonts\\\\bod_cb.ttf',\n",
       " u'c:\\\\windows\\\\fonts\\\\cordiai.ttf',\n",
       " u'C:\\\\Windows\\\\Fonts\\\\constanz.ttf',\n",
       " u'c:\\\\windows\\\\fonts\\\\parchm.ttf',\n",
       " u'c:\\\\windows\\\\fonts\\\\harlowsi.ttf',\n",
       " u'c:\\\\windows\\\\fonts\\\\isocp2_iv25.ttf',\n",
       " u'C:\\\\Windows\\\\Fonts\\\\AcadEref.ttf',\n",
       " u'C:\\\\Windows\\\\Fonts\\\\POORICH.TTF',\n",
       " u'C:\\\\Windows\\\\Fonts\\\\ITCEDSCR.TTF',\n",
       " u'c:\\\\windows\\\\fonts\\\\impact.ttf',\n",
       " u'c:\\\\windows\\\\fonts\\\\malgun.ttf',\n",
       " u'C:\\\\Windows\\\\Fonts\\\\BOD_CR.TTF',\n",
       " u'c:\\\\windows\\\\fonts\\\\showg.ttf',\n",
       " u'C:\\\\Windows\\\\Fonts\\\\sanssbo_.ttf',\n",
       " u'c:\\\\windows\\\\fonts\\\\arialni.ttf',\n",
       " u'C:\\\\Windows\\\\Fonts\\\\romans_IV50.ttf',\n",
       " u'C:\\\\Windows\\\\Fonts\\\\LSANSDI.TTF',\n",
       " u'c:\\\\windows\\\\fonts\\\\gothici.ttf',\n",
       " u'c:\\\\windows\\\\fonts\\\\swisscbo.ttf',\n",
       " u'C:\\\\Windows\\\\Fonts\\\\ENGR.TTF',\n",
       " u'C:\\\\Windows\\\\Fonts\\\\cambriab.ttf',\n",
       " u'C:\\\\Windows\\\\Fonts\\\\ROCKEB.TTF',\n",
       " u'C:\\\\Windows\\\\Fonts\\\\txt_____.ttf',\n",
       " u'C:\\\\Windows\\\\Fonts\\\\tahoma.ttf',\n",
       " u'C:\\\\Windows\\\\Fonts\\\\msyhbd.ttf',\n",
       " u'C:\\\\Windows\\\\Fonts\\\\FTLTLT.TTF',\n",
       " u'C:\\\\Windows\\\\Fonts\\\\ERASDEMI.TTF',\n",
       " u'c:\\\\windows\\\\fonts\\\\isocp_iv25.ttf',\n",
       " u'c:\\\\windows\\\\fonts\\\\gothici_.ttf',\n",
       " u'c:\\\\windows\\\\fonts\\\\georgiai.ttf',\n",
       " u'c:\\\\windows\\\\fonts\\\\laouib.ttf',\n",
       " u'C:\\\\Windows\\\\Fonts\\\\LBRITE.TTF',\n",
       " u'C:\\\\Windows\\\\Fonts\\\\isoct_IV25.ttf',\n",
       " u'c:\\\\windows\\\\fonts\\\\himalaya.ttf',\n",
       " u'c:\\\\windows\\\\fonts\\\\forte.ttf',\n",
       " u'C:\\\\Windows\\\\Fonts\\\\mtproxy9.ttf',\n",
       " u'c:\\\\windows\\\\fonts\\\\pala.ttf',\n",
       " u'C:\\\\Windows\\\\Fonts\\\\romans_IV25.ttf',\n",
       " u'C:\\\\Windows\\\\Fonts\\\\AGENCYR.TTF',\n",
       " u'c:\\\\windows\\\\fonts\\\\estre.ttf',\n",
       " u'C:\\\\Windows\\\\Fonts\\\\simkai.ttf',\n",
       " u'c:\\\\windows\\\\fonts\\\\goudos.ttf',\n",
       " u'c:\\\\windows\\\\fonts\\\\tcceb.ttf',\n",
       " u'c:\\\\windows\\\\fonts\\\\kunstler.ttf',\n",
       " u'C:\\\\Windows\\\\Fonts\\\\ARIALUNI.TTF',\n",
       " u'C:\\\\Windows\\\\Fonts\\\\ALGER.TTF',\n",
       " u'c:\\\\windows\\\\fonts\\\\upcfl.ttf',\n",
       " u'c:\\\\windows\\\\fonts\\\\cordiaz.ttf',\n",
       " u'C:\\\\Windows\\\\Fonts\\\\ariali.ttf',\n",
       " ...]"
      ]
     },
     "execution_count": 30,
     "metadata": {},
     "output_type": "execute_result"
    }
   ],
   "source": [
    "import matplotlib.font_manager\n",
    "matplotlib.font_manager.findSystemFonts(fontpaths=None, fontext='ttf')\n"
   ]
  },
  {
   "cell_type": "code",
   "execution_count": 32,
   "metadata": {
    "collapsed": false
   },
   "outputs": [
    {
     "data": {
      "image/png": "[encoded data removed]",
      "text/plain": [
       "<matplotlib.figure.Figure at 0x10b4cc90>"
      ]
     },
     "metadata": {},
     "output_type": "display_data"
    }
   ],
   "source": [
    "\n",
    "\n",
    "plt.plot(x,y)\n",
    "plt.plot(x_prime,z)\n",
    "plt.suptitle('Super title - font size 24',y=1.08, fontname='Cambria', verticalalignment='top')\n",
    "plt.title('Your Title in italics',style='italic')\n",
    "plt.xlabel('X axis label - in bold and red',fontweight='bold',color='red')\n",
    "plt.ylabel('Y axis label - in font size 8',fontsize=8)\n",
    "plt.show()\n",
    "\n",
    "\n"
   ]
  },
  {
   "cell_type": "markdown",
   "metadata": {},
   "source": [
    "\n",
    "\n",
    "\n",
    "## Ticks\n",
    "\n",
    "In Matplotlib we can set what exis labels are used by giving matplotlib a list or array of numbers or strings. For small lists/arrays it isn't too much of a hassle to create them manually, but with larger lists you will want to create them with a bit of code. \n",
    "\n",
    "So let's start by updating the x axis tick labels using a manually generated list."
   ]
  },
  {
   "cell_type": "code",
   "execution_count": 9,
   "metadata": {
    "collapsed": false
   },
   "outputs": [
    {
     "data": {
      "image/png": "[encoded data removed]",
      "text/plain": [
       "<matplotlib.figure.Figure at 0x10846b10>"
      ]
     },
     "metadata": {},
     "output_type": "display_data"
    }
   ],
   "source": [
    "\n",
    "plt.plot(x,y)\n",
    "\n",
    "plt.xticks([1,2,3,4,5,6,7,8,9,10])\n",
    "plt.show()"
   ]
  },
  {
   "cell_type": "markdown",
   "metadata": {},
   "source": [
    "Alternatively we could have used the linspace command from earlier to generate the same data;"
   ]
  },
  {
   "cell_type": "code",
   "execution_count": 34,
   "metadata": {
    "collapsed": false
   },
   "outputs": [
    {
     "name": "stdout",
     "output_type": "stream",
     "text": [
      "[ 1  2  3  4  5  6  7  8  9 10]\n"
     ]
    }
   ],
   "source": [
    "x_ticks = np.linspace(1,10,10,dtype='int16') #dtype means data type, using a integer means we wont have a decimal point \n",
    "print(x_ticks)"
   ]
  },
  {
   "cell_type": "markdown",
   "metadata": {},
   "source": [
    "And just to demonstrate using strings rather than numbers; "
   ]
  },
  {
   "cell_type": "code",
   "execution_count": 11,
   "metadata": {
    "collapsed": false
   },
   "outputs": [
    {
     "data": {
      "image/png": "[encoded data removed]",
      "text/plain": [
       "<matplotlib.figure.Figure at 0x10b5b370>"
      ]
     },
     "metadata": {},
     "output_type": "display_data"
    }
   ],
   "source": [
    "\n",
    "plt.plot(x,y)\n",
    "\n",
    "plt.xticks([0, 2, 4, 6, 8,10],['zero','two','four','six','eight','ten'])\n",
    "plt.show()"
   ]
  },
  {
   "cell_type": "markdown",
   "metadata": {},
   "source": [
    "Notice how xticks now takes two arguments when using text, the first for the numerical positon along the axis, the second for the actual text label."
   ]
  },
  {
   "cell_type": "markdown",
   "metadata": {},
   "source": [
    "\n",
    "<style> code {background-color : blue !important;} </style>\n",
    "\n",
    "To change the y axis tick labels we instead use\n",
    "\n",
    "    plt.yticks(y_ticks)\n",
    "    \n",
    "Try changing the the y tick labels using either a manually created list or a function like linspace.\n",
    "\n",
    "\n",
    "\n",
    "\n",
    "\n",
    "\n",
    "\n",
    "\n",
    "\n",
    "\n",
    "\n",
    "\n"
   ]
  },
  {
   "cell_type": "markdown",
   "metadata": {},
   "source": [
    "## Axis Limits\n",
    "\n",
    "Changing the limits of the x and y axis uses the following syntax\n",
    "\n",
    "    plt.xlim(x_min, x_max)\n",
    "or\n",
    "    plt.xlim((x_min, x_max))\n",
    "    \n",
    "From our example, say we wanted to restrict our y range to (20, 80) and our x range to (2, 8) we would do the following\n"
   ]
  },
  {
   "cell_type": "code",
   "execution_count": 12,
   "metadata": {
    "collapsed": false
   },
   "outputs": [
    {
     "data": {
      "image/png": "[encoded data removed]",
      "text/plain": [
       "<matplotlib.figure.Figure at 0x10a5a9d0>"
      ]
     },
     "metadata": {},
     "output_type": "display_data"
    }
   ],
   "source": [
    "plt.plot(x,y)\n",
    "plt.xlim(2,8)\n",
    "plt.ylim(10,70)\n",
    "plt.show()"
   ]
  },
  {
   "cell_type": "markdown",
   "metadata": {},
   "source": [
    "## Colours\n",
    "\n",
    "To change the colour of our series, we pass additional aruments to our plot command with the color flag (note the spelling)\n",
    "\n",
    "So our original plot command becomes\n",
    "\n",
    "    plt.plot(x,y,color=\"red\")\n",
    "\n",
    "There are several standard colours which can be either reffered to by a single letter 'b' or the full name 'blue'.\n",
    "\n",
    "Alternatively you can specificy a shade of grey using a value between 0 and 1, a RGB value with values between 0 and 1 i.e (1,0,0) or a hexidecimal number. I would stick to shades of grey and RGB values.\n"
   ]
  },
  {
   "cell_type": "code",
   "execution_count": 13,
   "metadata": {
    "collapsed": false
   },
   "outputs": [
    {
     "data": {
      "image/png": "[encoded data removed]",
      "text/plain": [
       "<matplotlib.figure.Figure at 0x109006f0>"
      ]
     },
     "metadata": {},
     "output_type": "display_data"
    }
   ],
   "source": [
    "plt.plot(x,y)\n",
    "plt.plot(x,y,color=(1,0,0))\n",
    "plt.show()"
   ]
  },
  {
   "cell_type": "markdown",
   "metadata": {},
   "source": [
    "## Lines, Bars and Markers\n",
    "\n",
    "Now that we have seen how to change the colour of our series, we might want to change the style of the series, as well as add some markers.\n",
    "\n",
    "First, we will create a new set of data values, since what we have been using is too dense for plotting markers. Once again we will use the linscpace command to create a series of equally spaced points for our x axis (note that Matplotlib doesn't require them to be equally spaced). Using the random function from NumPy we are going to add some noise to our function to make it slightly less banal (only slightly). The rand function creates a random number between 0 and 1. We have 10 points of data, so we need 10 random numbers, hence the argument we are giving the rand function. \n",
    "\n",
    "\n",
    "\n",
    "\n",
    "\n"
   ]
  },
  {
   "cell_type": "code",
   "execution_count": 14,
   "metadata": {
    "collapsed": false
   },
   "outputs": [
    {
     "data": {
      "image/png": "[encoded data removed]",
      "text/plain": [
       "<matplotlib.figure.Figure at 0x1086bb10>"
      ]
     },
     "metadata": {},
     "output_type": "display_data"
    }
   ],
   "source": [
    "x = np.linspace(0,50,10)\n",
    "y = 2*x +  20*np.random.rand(10)\n",
    "plt.hold(True)\n",
    "plt.plot(x,y,color=\"blue\",linestyle=\"-\",linewidth=10)\n",
    "plt.plot(x,y,marker=\"p\",markerfacecolor=\"green\",markeredgecolor=\"yellow\",markeredgewidth=2,color=\"blue\")\n",
    "\n",
    "plt.show()"
   ]
  },
  {
   "cell_type": "markdown",
   "metadata": {},
   "source": [
    "The graph we have just created is pathologically ugly but demonstrates the how the line and marker features work.\n",
    "\n",
    "Hopefully by now you are setting to see the pattern in how the plot command works, with the _keyword_ = _argument_ form. Once you are comfortable with this idiom, customising your plots becomes less a matter of memory, and more using the matplotlib documentation to find the feature you are interested in. \n",
    "\n",
    "To practise this, you are going to need to change the following "
   ]
  },
  {
   "cell_type": "markdown",
   "metadata": {},
   "source": [
    "# Style Sheets\n",
    "\n",
    "Style sheets are a way of reusing a consistent theme across the figures you are producing. A style sheet can define a variety of formatting choices for your figures that can be loaded into Matplotlib.  For example, you might want to have one style sheet to create figures for a article and another for a presentation.  You define styles in the following way: \n",
    "\n",
    "**property_name1** : *value1*            \n",
    "**property_name2** : *value2*\n",
    "\n",
    "\n",
    "For example \n",
    "\n",
    "    axes.titlesize : 24\n",
    "    axes.labelsize : 20\n",
    "    lines.linewidth : 3\n",
    "    lines.markersize : 10\n",
    "    xtick.labelsize : 16\n",
    "    ytick.labelsize : 16\n",
    "\n",
    "Style sheets have are saved with a .mplstyle file extension. \n",
    "\n",
    "To find where to save the style sheets use the function\n",
    "    print(mpl.get_configdir())\n",
    "and in that folder create a directory called stylelib if it doesnt exist already. In the stylelib folder save you style sheets with  .mplstyle as the file extension. There will already be a number of inbuilt styles you can use, use \n",
    "    plt.style.available\n",
    "to list them. \n",
    "\n",
    "Calling \n",
    "    plt.style.use('style_name')\n",
    "will change the style. If you want to return to the default style of the notebook, use a context manager when changing style sheet(for reasons not worth going into it is very difficult to revert to the default style). This would have the following syntax\n",
    "\n",
    "    with plt.style.use('style_name'):\n",
    "        # Plotting code \n",
    "        \n",
    "In any case the default colour scheme is not very [good](https://github.com/djoshea/matlab-utils/blob/master/libs/perceptuallyImprovedColormaps/Rainbow%20Color%20Map%20-Still-%20Considered%20Harmful.pdf) so please try the others available, or creating and using your own.\n",
    "\n",
    "\n",
    "In our notebook we can use the following styles:"
   ]
  },
  {
   "cell_type": "code",
   "execution_count": 15,
   "metadata": {
    "collapsed": false
   },
   "outputs": [
    {
     "data": {
      "text/plain": [
       "[u'seaborn-darkgrid',\n",
       " u'seaborn-notebook',\n",
       " u'classic',\n",
       " u'seaborn-ticks',\n",
       " u'grayscale',\n",
       " u'bmh',\n",
       " u'seaborn-talk',\n",
       " u'dark_background',\n",
       " u'ggplot',\n",
       " u'fivethirtyeight',\n",
       " u'seaborn-colorblind',\n",
       " u'seaborn-deep',\n",
       " u'seaborn-whitegrid',\n",
       " u'seaborn-bright',\n",
       " u'seaborn-poster',\n",
       " u'seaborn-muted',\n",
       " u'seaborn-paper',\n",
       " u'seaborn-white',\n",
       " u'seaborn-pastel',\n",
       " u'seaborn-dark',\n",
       " u'seaborn-dark-palette']"
      ]
     },
     "execution_count": 15,
     "metadata": {},
     "output_type": "execute_result"
    }
   ],
   "source": [
    "plt.style.available\n"
   ]
  },
  {
   "cell_type": "markdown",
   "metadata": {},
   "source": [
    "Style sheets can be combined together in the following way\n",
    "    plt.style.use(['style_figure, style_presentation'])\n",
    "etc. The styles will overwrite each other, the right most style will overwrite all the others to the left of it and so on. It can be more straightforward to seperate your plotting code into sections and change styles as you go. In the example below, we are using the \n",
    "    with\n",
    "statement to limit where the style is applied. Everything in the \n",
    "    with\n",
    "block has that style applied, after the block ends the style reverst back to what it was. The \n",
    "    with \n",
    "statement is called a [context manager](http://book.pythontips.com/en/latest/context_managers.html), as you read and write more python code you will become familiar with them."
   ]
  },
  {
   "cell_type": "code",
   "execution_count": 37,
   "metadata": {
    "collapsed": false
   },
   "outputs": [
    {
     "data": {
      "image/png": "[encoded data removed]",
      "text/plain": [
       "<matplotlib.figure.Figure at 0x10733ed0>"
      ]
     },
     "metadata": {},
     "output_type": "display_data"
    }
   ],
   "source": [
    "\n",
    "plt.subplot(1,2,1)\n",
    "\n",
    "plt.plot(x,y)\n",
    "plt.plot(x_prime,z)\n",
    "    \n",
    "\n",
    "plt.subplot(1,2,2)\n",
    "\n",
    "with plt.style.context('seaborn-muted'):\n",
    "    plt.plot(x,y)\n",
    "    plt.plot(x_prime,z)\n",
    "\n",
    "plt.show()"
   ]
  },
  {
   "cell_type": "markdown",
   "metadata": {},
   "source": [
    "# Size, Aspect Ratio and DPI\n",
    "\n",
    "When we are creating a figure for publication, or anything else when we want quite granular control over its size, shape and quality, we will be looking to change the \n",
    "* **Size**\n",
    "* **Aspect ratio**\n",
    "* **DPI** (Dots per inch)\n",
    "To control the size and aspect ratio we use the \n",
    "    figsize\n",
    "flag and supply it with a tuple containing the \n",
    "    (width, height)\n",
    "in inches. Similarly we use the dpi keyword to control the dots per inch of the figure. For a high quality figure, 600 dpi is standard. However, it is best to save vectors in a vector form where possible, to preserve the image quality.\n"
   ]
  },
  {
   "cell_type": "markdown",
   "metadata": {},
   "source": [
    "# Saving Figures\n",
    " \n",
    "Now that we have created our figure, it would be nice to save or export it in a format that we could include in a document. Matplotlib can save figures in a wide range of different formats.\n",
    "\n",
    "The savefig command has simple syntax:\n",
    "\n",
    "    plt.savefig(\"fig_name.format\")\n",
    "\n",
    "for example:\n",
    "\n"
   ]
  },
  {
   "cell_type": "code",
   "execution_count": 17,
   "metadata": {
    "collapsed": false
   },
   "outputs": [
    {
     "data": {
      "image/png": "[encoded data removed]",
      "text/plain": [
       "<matplotlib.figure.Figure at 0x1087acb0>"
      ]
     },
     "metadata": {},
     "output_type": "display_data"
    }
   ],
   "source": [
    "plt.plot(x,y)\n",
    "\n",
    "plt.savefig(\"figure_12.png\")\n"
   ]
  },
  {
   "cell_type": "markdown",
   "metadata": {},
   "source": [
    "Matplotlib will infer what file format to use based on the figure name you supply it. If you don't include a file format in the name, you need to supply one using the format flag i.e\n",
    "\n",
    "    plt.savefig(\"figure_12\",format=\"png\")\n",
    "    \n",
    "This can come in handy when you have code that will save the image in different formats based on some conditions."
   ]
  },
  {
   "cell_type": "markdown",
   "metadata": {},
   "source": [
    "# Legends\n",
    "\n",
    "To add a legend to your figure when plotting, we pass in a additional flag to our \n",
    "    label\n",
    "command and supply it with a label\n"
   ]
  },
  {
   "cell_type": "code",
   "execution_count": 29,
   "metadata": {
    "collapsed": false
   },
   "outputs": [
    {
     "data": {
      "image/png": "[encoded data removed]",
      "text/plain": [
       "<matplotlib.figure.Figure at 0x11ca9710>"
      ]
     },
     "metadata": {},
     "output_type": "display_data"
    }
   ],
   "source": [
    "fig = plt.plot(x,y,label=\"Series 1\")\n",
    "plt.legend(loc=(0.3,-0.2))\n",
    "plt.show()"
   ]
  },
  {
   "cell_type": "markdown",
   "metadata": {},
   "source": [
    "The placement of the legend can be controlled using a location code [options](http://matplotlib.org/api/pyplot_api.html#matplotlib.pyplot.legend) rather than co-ordinates "
   ]
  },
  {
   "cell_type": "markdown",
   "metadata": {},
   "source": [
    "# Mutiple Figures"
   ]
  },
  {
   "cell_type": "markdown",
   "metadata": {},
   "source": [
    "So far we have been working with a single figure at a time. While this certainly keeps things simple, we want to able to work with multiple figures and subplots. This does make our code more complex, but as we keep our code clear and structured we wont have too much trouble.\n",
    "\n",
    "The idea behind handling multiple figures is as follows, say we have created 3 figures. To make any given figure active we can use\n",
    "\n",
    "    plt.figure(i)\n",
    "    \n",
    "so to make the 3rd figure the active figure we would use\n",
    "\n",
    "    plt.figure(3)\n",
    "    \n",
    "Note that we are not using zero indexing , the 1st figures index is 1.\n",
    "\n",
    "Now we can create and manipulate the figure as we have done before when we only had a single figure. So dealing with multiple figures doesnt require a drastic change in workflow; we mainly need to keep track of which figure we are interested in changing. This will become clearer in the following example:"
   ]
  },
  {
   "cell_type": "code",
   "execution_count": 19,
   "metadata": {
    "collapsed": false
   },
   "outputs": [
    {
     "data": {
      "image/png": "[encoded data removed]",
      "text/plain": [
       "<matplotlib.figure.Figure at 0x11933890>"
      ]
     },
     "metadata": {},
     "output_type": "display_data"
    },
    {
     "data": {
      "image/png": "[encoded data removed]",
      "text/plain": [
       "<matplotlib.figure.Figure at 0x119f3650>"
      ]
     },
     "metadata": {},
     "output_type": "display_data"
    }
   ],
   "source": [
    "time = np.arange(0.0, 2.0, 0.01)\n",
    "sine_wave = np.sin(1*np.pi*time)\n",
    "cos_wave = np.cos(1*np.pi*time)\n",
    "\n",
    "plt.figure(1)\n",
    "plt.plot(time, sine_wave)\n",
    "plt.title(\"Figure 1: Sine Wave\")\n",
    "plt.show()\n",
    "\n",
    "\n",
    "plt.figure(2)\n",
    "plt.plot(time, cos_wave)\n",
    "plt.title(\"Figure 2: Cos Wave\")\n",
    "plt.show()\n"
   ]
  },
  {
   "cell_type": "markdown",
   "metadata": {},
   "source": [
    "# Subplots\n",
    "\n",
    "The idea behind handling subplots is similair to multiple figures. Rather than use the \n",
    "    plt.figure(i)\n",
    "command we use\n",
    "    plt.subplot(num_rows, num_cols, plot_number)\n",
    "The i and j values refer to the number of rows and columns of subplts respectively. \n",
    "    plt.subplt(2,3,k) \n",
    "would select the kth subplot out of two rows of three subplots.  The subplot is counted across rows rather than down colums i.e\n",
    "\n",
    "||||\n",
    "|---|---|---|\n",
    "|1|2|3|\n",
    "|4|5|6|\n",
    "|7|8|9|"
   ]
  },
  {
   "cell_type": "code",
   "execution_count": 40,
   "metadata": {
    "collapsed": false
   },
   "outputs": [
    {
     "data": {
      "image/png": "[encoded data removed]",
      "text/plain": [
       "<matplotlib.figure.Figure at 0x11a4f470>"
      ]
     },
     "metadata": {},
     "output_type": "display_data"
    },
    {
     "data": {
      "image/png": "[encoded data removed]",
      "text/plain": [
       "<matplotlib.figure.Figure at 0x1087a7b0>"
      ]
     },
     "metadata": {},
     "output_type": "display_data"
    },
    {
     "data": {
      "image/png": "[encoded data removed]",
      "text/plain": [
       "<matplotlib.figure.Figure at 0x10dc1e50>"
      ]
     },
     "metadata": {},
     "output_type": "display_data"
    },
    {
     "data": {
      "image/png": "[encoded data removed]",
      "text/plain": [
       "<matplotlib.figure.Figure at 0x10da0530>"
      ]
     },
     "metadata": {},
     "output_type": "display_data"
    }
   ],
   "source": [
    "time = np.arange(0.0, 2.0, 0.01)\n",
    "sine_wave_1 = np.sin(1*np.pi*time)\n",
    "sine_wave_2 = np.sin(2*np.pi*time)\n",
    "sine_wave_3 = np.sin(3*np.pi*time)\n",
    "sine_wave_4 = np.sin(4*np.pi*time)\n",
    "\n",
    "plt.subplot(4,1,1)\n",
    "plt.plot(time,sine_wave_1)\n",
    "plt.title(\"Position 1\")\n",
    "plt.show()\n",
    "\n",
    "plt.subplot(4,1,2)\n",
    "plt.plot(time,sine_wave_2)\n",
    "plt.title(\"Position 2\")\n",
    "plt.show()\n",
    "\n",
    "plt.subplot(4,1,3)\n",
    "plt.plot(time,sine_wave_3)\n",
    "plt.title(\"Position 3\")\n",
    "plt.show()\n",
    "\n",
    "plt.subplot(4,1,4)\n",
    "plt.plot(time,sine_wave_4)\n",
    "plt.title(\"Position 4\")\n",
    "plt.show()"
   ]
  },
  {
   "cell_type": "markdown",
   "metadata": {},
   "source": [
    "# Combining Multiple Figures and sublplots\n",
    "\n",
    "You can of course combine the two. As mentioned before you need to be careful that you are referring to the right figure when making changes as you could refer to subplots that dont exist and unwillingly change your plots.\n",
    "\n",
    "\n"
   ]
  },
  {
   "cell_type": "code",
   "execution_count": 41,
   "metadata": {
    "collapsed": false
   },
   "outputs": [
    {
     "data": {
      "image/png": "[encoded data removed]",
      "text/plain": [
       "<matplotlib.figure.Figure at 0x119f38b0>"
      ]
     },
     "metadata": {},
     "output_type": "display_data"
    },
    {
     "data": {
      "image/png": "[encoded data removed]",
      "text/plain": [
       "<matplotlib.figure.Figure at 0x10dbcc10>"
      ]
     },
     "metadata": {},
     "output_type": "display_data"
    },
    {
     "data": {
      "image/png": "[encoded data removed]",
      "text/plain": [
       "<matplotlib.figure.Figure at 0x1087a5d0>"
      ]
     },
     "metadata": {},
     "output_type": "display_data"
    },
    {
     "data": {
      "image/png": "[encoded data removed]",
      "text/plain": [
       "<matplotlib.figure.Figure at 0x10e32970>"
      ]
     },
     "metadata": {},
     "output_type": "display_data"
    }
   ],
   "source": [
    "plt.figure(1)\n",
    "plt.subplot(1,2,1)\n",
    "plt.plot(time,sine_wave_1)\n",
    "plt.title(\"Position 1\")\n",
    "plt.show()\n",
    "\n",
    "plt.subplot(1,2,2)\n",
    "plt.plot(time,sine_wave_2)\n",
    "plt.title(\"Position 2\")\n",
    "plt.show()\n",
    "\n",
    "\n",
    "plt.figure(2)\n",
    "\n",
    "plt.subplot(2,1,1)\n",
    "plt.plot(time,sine_wave_3)\n",
    "plt.title(\"Position 3\")\n",
    "plt.show()\n",
    "\n",
    "plt.subplot(2,1,2)\n",
    "plt.plot(time,sine_wave_4)\n",
    "plt.title(\"Position 4\")\n",
    "plt.show()"
   ]
  },
  {
   "cell_type": "markdown",
   "metadata": {},
   "source": []
  },
  {
   "cell_type": "markdown",
   "metadata": {},
   "source": [
    "# Annotations\n",
    "\n",
    "Matplotlib allows you to add text annotations to figures. It is also possible to add an arrow pointing to a location on the figure. The most complex part of adding an annotation or arrow to a figure is dealing with the co-ordinate system about where exadtally they annotations should go. \n",
    "\n",
    "Matplotib offers four different scale options. The first three options can either be relative to the bottom left hand corner figure, or where the x and y axis cross. The options are\n",
    "* Fractions. Ranging from 0 to 1 for the x and y co-ordinate\n",
    "* Pixels.  \n",
    "* Points\n",
    "* Data. Use the co-ordinate scheme of the data. \n",
    "\n",
    "\n",
    "Now for a simple example:\n"
   ]
  },
  {
   "cell_type": "code",
   "execution_count": 49,
   "metadata": {
    "collapsed": false
   },
   "outputs": [
    {
     "data": {
      "image/png": "[encoded data removed]",
      "text/plain": [
       "<matplotlib.figure.Figure at 0x11960c10>"
      ]
     },
     "metadata": {},
     "output_type": "display_data"
    }
   ],
   "source": [
    "y = -pow((x-4),2)+10\n",
    "fig = plt.plot(x,y)\n",
    "\n",
    "\n",
    "plt.annotate('Local max',fontsize=12, xy=(4, 10), xycoords='data',\n",
    "            xytext=(0.8, 0.95), textcoords='axes fraction',\n",
    "            arrowprops=dict(facecolor='black', shrink=0.05),\n",
    "            horizontalalignment='right', verticalalignment='top',\n",
    "            )\n",
    "\n",
    "plt.ylim(-30,20)\n",
    "plt.show()"
   ]
  },
  {
   "cell_type": "markdown",
   "metadata": {},
   "source": [
    "Note how we have used two different co-ordinate schemes; using the data co-ordinates made pointing to the local maximum straighforward while using the axes fraction co-ordinats for text for the same reason. You can use the same text formatting options [something].\n",
    "\n",
    "Finally, for those of you who know it, [Latex](http://matplotlib.org/users/usetex.html) can be used in text annotations."
   ]
  },
  {
   "cell_type": "markdown",
   "metadata": {},
   "source": [
    "# Ipython Widgets\n",
    "\n",
    "If you are creating figures in an Ipython notebook, you can create widgets such as buttons and sliders to customise your plots. We will create a simple example below."
   ]
  },
  {
   "cell_type": "code",
   "execution_count": 43,
   "metadata": {
    "collapsed": false
   },
   "outputs": [],
   "source": [
    "import ipywidgets as widgets\n",
    "from ipywidgets import interactive, interact\n",
    "from IPython.display import Audio, display\n"
   ]
  },
  {
   "cell_type": "code",
   "execution_count": 44,
   "metadata": {
    "collapsed": false
   },
   "outputs": [
    {
     "data": {
      "image/png": "[encoded data removed]",
      "text/plain": [
       "<matplotlib.figure.Figure at 0x10a34a70>"
      ]
     },
     "metadata": {},
     "output_type": "display_data"
    }
   ],
   "source": [
    "\n",
    "freq_slider = widgets.IntSlider(min=1, max=20, step=1, value=1)\n",
    "\n",
    "\n",
    "def plot_waves(f):\n",
    "    x = np.linspace(0,0.5*np.pi,1000)\n",
    "    y = np.sin(2*np.pi*x*f)\n",
    "    plt.plot(x,y)\n",
    "    plt.show()\n",
    "\n",
    "interact(plot_waves, f=freq_slider)\n"
   ]
  },
  {
   "cell_type": "markdown",
   "metadata": {
    "collapsed": true
   },
   "source": [
    "We can of course control multiple things at once. Lets add another sign wave, and plot the difference of the two waves as well."
   ]
  },
  {
   "cell_type": "code",
   "execution_count": 45,
   "metadata": {
    "collapsed": true
   },
   "outputs": [],
   "source": [
    "def beat_freq(f1=220.0, f2=224.0):\n",
    "    max_time = 3\n",
    "    rate = 8000\n",
    "    times = np.linspace(0,max_time,rate*max_time)\n",
    "    signal = np.sin(2*np.pi*f1*times) - np.sin(2*np.pi*f2*times)\n",
    "    print(f1, f2, abs(f1-f2))\n",
    "    display(Audio(data=signal, rate=rate))\n",
    "    return signal"
   ]
  },
  {
   "cell_type": "code",
   "execution_count": 61,
   "metadata": {
    "collapsed": false
   },
   "outputs": [
    {
     "data": {
      "image/png": "[encoded data removed]",
      "text/plain": [
       "<matplotlib.figure.Figure at 0x122f2250>"
      ]
     },
     "metadata": {},
     "output_type": "display_data"
    }
   ],
   "source": [
    "\n",
    "freq_slider_1 = widgets.IntSlider(min=1, max=20, step=1, value=1)\n",
    "freq_slider_2 = widgets.IntSlider(min=1, max=20, step=1, value=1)\n",
    "\n",
    "\n",
    "def plot_waves(f1,f2):\n",
    "    x = np.linspace(0,0.5*np.pi,1000)\n",
    "    wave_1 = np.sin(2*np.pi*x*f1)\n",
    "    wave_2 = np.sin(2*np.pi*x*f2)\n",
    "    diff = wave_1-wave_2\n",
    "    plt.plot(x,wave_1,'r',label=\"Wave 1\")\n",
    "    plt.plot(x,wave_2,'b',label=\"Wave 2\")\n",
    "    plt.plot(x,diff,'black',label=\"Difference Between Waves\")\n",
    "    plt.legend(loc=(0.2,-0.4))\n",
    "    plt.show()\n",
    "\n",
    "interact(plot_waves, f1=freq_slider_1,f2=freq_slider_2)"
   ]
  },
  {
   "cell_type": "markdown",
   "metadata": {},
   "source": [
    "There are a wide variety of widgets beyond buttons, sliders and text. We can play sound for example. Building on what we have just done  with the two waves we can play the difference of the two waves and hear its \"beat\" resulting from the interference."
   ]
  },
  {
   "cell_type": "code",
   "execution_count": 47,
   "metadata": {
    "collapsed": false
   },
   "outputs": [
    {
     "name": "stdout",
     "output_type": "stream",
     "text": [
      "(220.0, 224.0, 4.0)\n"
     ]
    },
    {
     "data": {
      "text/html": [
       "\n",
       "                <audio controls=\"controls\" >\n",
       "                    <source src=\"data:audio/wav;base64,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\" type=\"audio/wav\" />\n",
       "                    Your browser does not support the audio element.\n",
       "                </audio>\n",
       "              "
      ],
      "text/plain": [
       "<IPython.lib.display.Audio object>"
      ]
     },
     "metadata": {},
     "output_type": "display_data"
    },
    {
     "data": {
      "text/plain": [
       "array([  0.00000000e+00,  -3.09408366e-03,  -5.90521778e-03, ...,\n",
       "         5.90521778e-03,   3.09408366e-03,   2.58734537e-13])"
      ]
     },
     "metadata": {},
     "output_type": "display_data"
    }
   ],
   "source": [
    "v = interactive(beat_freq, f1=(200.0,300.0), f2=(200.0,300.0))\n",
    "display(v)\n"
   ]
  },
  {
   "cell_type": "code",
   "execution_count": 48,
   "metadata": {
    "collapsed": false
   },
   "outputs": [
    {
     "name": "stdout",
     "output_type": "stream",
     "text": [
      "(220.0, 224.0, 4.0)\n"
     ]
    },
    {
     "data": {
      "text/html": [
       "\n",
       "                <audio controls=\"controls\" >\n",
       "                    <source src=\"data:audio/wav;base64,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\" type=\"audio/wav\" />\n",
       "                    Your browser does not support the audio element.\n",
       "                </audio>\n",
       "              "
      ],
      "text/plain": [
       "<IPython.lib.display.Audio object>"
      ]
     },
     "metadata": {},
     "output_type": "display_data"
    },
    {
     "data": {
      "text/plain": [
       "array([  0.00000000e+00,  -3.09408366e-03,  -5.90521778e-03, ...,\n",
       "         5.90521778e-03,   3.09408366e-03,   2.58734537e-13])"
      ]
     },
     "metadata": {},
     "output_type": "display_data"
    },
    {
     "ename": "NameError",
     "evalue": "name 'f' is not defined",
     "output_type": "error",
     "traceback": [
      "\u001b[1;31m---------------------------------------------------------------------------\u001b[0m",
      "\u001b[1;31mNameError\u001b[0m                                 Traceback (most recent call last)",
      "\u001b[1;32m<ipython-input-48-d53fe9649848>\u001b[0m in \u001b[0;36m<module>\u001b[1;34m()\u001b[0m\n\u001b[0;32m      1\u001b[0m \u001b[0mv\u001b[0m \u001b[1;33m=\u001b[0m \u001b[0minteractive\u001b[0m\u001b[1;33m(\u001b[0m\u001b[0mbeat_freq\u001b[0m\u001b[1;33m,\u001b[0m \u001b[0mf1\u001b[0m\u001b[1;33m=\u001b[0m\u001b[1;33m(\u001b[0m\u001b[1;36m200.0\u001b[0m\u001b[1;33m,\u001b[0m\u001b[1;36m300.0\u001b[0m\u001b[1;33m)\u001b[0m\u001b[1;33m,\u001b[0m \u001b[0mf2\u001b[0m\u001b[1;33m=\u001b[0m\u001b[1;33m(\u001b[0m\u001b[1;36m200.0\u001b[0m\u001b[1;33m,\u001b[0m\u001b[1;36m300.0\u001b[0m\u001b[1;33m)\u001b[0m\u001b[1;33m)\u001b[0m\u001b[1;33m\u001b[0m\u001b[0m\n\u001b[0;32m      2\u001b[0m \u001b[0mdisplay\u001b[0m\u001b[1;33m(\u001b[0m\u001b[0mv\u001b[0m\u001b[1;33m)\u001b[0m\u001b[1;33m\u001b[0m\u001b[0m\n\u001b[1;32m----> 3\u001b[1;33m \u001b[0mw\u001b[0m \u001b[1;33m=\u001b[0m \u001b[0minteractive\u001b[0m\u001b[1;33m(\u001b[0m\u001b[0mf\u001b[0m\u001b[1;33m,\u001b[0m \u001b[0ma\u001b[0m\u001b[1;33m=\u001b[0m\u001b[1;36m10\u001b[0m\u001b[1;33m,\u001b[0m \u001b[0mb\u001b[0m\u001b[1;33m=\u001b[0m\u001b[1;36m20\u001b[0m\u001b[1;33m)\u001b[0m\u001b[1;33m\u001b[0m\u001b[0m\n\u001b[0m\u001b[0;32m      4\u001b[0m \u001b[0mdisplay\u001b[0m\u001b[1;33m(\u001b[0m\u001b[0mw\u001b[0m\u001b[1;33m)\u001b[0m\u001b[1;33m\u001b[0m\u001b[0m\n",
      "\u001b[1;31mNameError\u001b[0m: name 'f' is not defined"
     ]
    }
   ],
   "source": [
    "v = interactive(beat_freq, f1=(200.0,300.0), f2=(200.0,300.0))\n",
    "display(v)\n",
    "w = interactive(f, a=10, b=20)\n",
    "display(w)"
   ]
  },
  {
   "cell_type": "markdown",
   "metadata": {},
   "source": [
    "# A more concrete example\n",
    "\n",
    "Now that you are familiar with the basics of Matplotlib, we are going to move on to something a bit more realistic and have you analyse and visualize a real data set. We are going to be working"
   ]
  },
  {
   "cell_type": "code",
   "execution_count": null,
   "metadata": {
    "collapsed": false
   },
   "outputs": [],
   "source": [
    "diabetes = datasets.load_diabetes()\n",
    "X, y = diabetes.data, diabetes.target\n",
    "X"
   ]
  },
  {
   "cell_type": "markdown",
   "metadata": {},
   "source": [
    "# Object Orientated Matplotlib\n",
    "\n",
    "Underlying Matplotlib is a object-oritentated model, in which the figure is composed of different objects such as axes and labels which are composed together. Using objects in Matplotlib gives you alot of flexibility and power, but does bring in additional complexity. Once you start to generate figures in a more programmatic way (using loops etc) it would be worthwhile looking at how to Matplotlibs objects work."
   ]
  },
  {
   "cell_type": "markdown",
   "metadata": {
    "collapsed": false
   },
   "source": [
    "<img src=\"http://matplotlib.org/_images/fig_map.png\",width=300,height=300>\n",
    "\n",
    "For example, we can loop over each axes object..."
   ]
  },
  {
   "cell_type": "markdown",
   "metadata": {},
   "source": [
    "# Editing Figures \n",
    "\n",
    "There will be times when it will be more straightforward to edit the final figure you have produced in external piece of software rather than trying to get the exact figure you want out of Matplotlib. Matplotlib is a powerfool tool but there will be times when it is easier and faster to edit the figures it creates in Photoshop/[Paint.net](www.getpaint.net) or Illustrator/Inkscape(https://inkscape.org/en/). \n",
    "\n",
    "The main downside downside of editting figures outside of Matplotlib is that any edits you do will apply solely to that figure, if you need to change anything that matplotlib created you will have to re edit the figure once again. As you become more familiar with Matplotlib you get a sense of what is and isnt easily achieved with it."
   ]
  }
 ],
 "metadata": {
  "kernelspec": {
   "display_name": "Python 2",
   "language": "python",
   "name": "python2"
  },
  "language_info": {
   "codemirror_mode": {
    "name": "ipython",
    "version": 2
   },
   "file_extension": ".py",
   "mimetype": "text/x-python",
   "name": "python",
   "nbconvert_exporter": "python",
   "pygments_lexer": "ipython2",
   "version": "2.7.10"
  },
  "nav_menu": {},
  "toc": {
   "navigate_menu": true,
   "number_sections": true,
   "sideBar": false,
   "threshold": 6,
   "toc_cell": true,
   "toc_section_display": "block",
   "toc_window_display": true
  },
  "toc_position": {
   "height": "415px",
   "left": "40px",
   "right": "20px",
   "top": "163px",
   "width": "307px"
  },
  "widgets": {
   "state": {
    "0528e9e2e54740e983b26cee3565de4b": {
     "views": []
    },
    "0665718a98564cc88170ede013ba0289": {
     "views": []
    },
    "0ad479b9aaa7413aa3133af08d7cce42": {
     "views": []
    },
    "11283b70032b4514bad69238b2bcf592": {
     "views": []
    },
    "11a06429212e4fd3af11e5d2be65478a": {
     "views": []
    },
    "14c94c62b50747cb9f4dadd54256b611": {
     "views": []
    },
    "18ec2afe7b254c84b6ffb845ddc531a2": {
     "views": []
    },
    "1cc48b0093414c01857829a690a226e7": {
     "views": []
    },
    "234c9ff871d040919fb144fd30203fa9": {
     "views": []
    },
    "24e522fb687240369fdfb3607174aaf2": {
     "views": []
    },
    "2a51dff681084fb585ee4b68609b71f0": {
     "views": []
    },
    "2b26d28a79cf4a2dbef3caf45559708f": {
     "views": []
    },
    "2e20c567e3db406a89bfb03d7f4c3f72": {
     "views": []
    },
    "342cb585fd8543648bfbcd48aad14115": {
     "views": []
    },
    "3436cfa5c9cc4805a07ffca77c6b3cbc": {
     "views": []
    },
    "34973515a97f488a90e76dc9b9857569": {
     "views": [
      {
       "cell_index": 62
      }
     ]
    },
    "35f0217ad5604936b7f729f9cd0a1d6d": {
     "views": []
    },
    "373c21866a774c90b801d523fbc894c3": {
     "views": []
    },
    "3d027f1b22e240209e6a4cd85e4bee52": {
     "views": []
    },
    "3d2f6837cb2c4acfae95fa04078d51f5": {
     "views": [
      {
       "cell_index": 57
      }
     ]
    },
    "440ed05f779b421b875cab936287151c": {
     "views": []
    },
    "473d5d6aa7e640b2ba65f75b18642746": {
     "views": []
    },
    "57037899f1864687b1d4ce900a2f13e4": {
     "views": []
    },
    "5d480e34b6714c319ea12e1cab4db9f5": {
     "views": []
    },
    "5fef1fda6df74863a5e292f051be2a57": {
     "views": []
    },
    "67f9b394396041cba283dd2e237ccde3": {
     "views": []
    },
    "68fb758b753b4c7ebecd9c63bf91cda8": {
     "views": []
    },
    "6a146736af0a4542ad5d988864b80f0b": {
     "views": []
    },
    "6b95ceaef08c41f8a9ea68848ccdb6ed": {
     "views": []
    },
    "6cf83a8f2a0f45cbaabd768d909bbe58": {
     "views": []
    },
    "7b64cc0a2cc9425199eec5e4d70a7fce": {
     "views": []
    },
    "7e65b2156e9149a8a926703492d49b06": {
     "views": []
    },
    "83f38842b85845a6bb09399f5de94da8": {
     "views": []
    },
    "85e9ea9f69ee4e7c8f1bd7c05375aee1": {
     "views": []
    },
    "8876de4d545b486aa9751f5a367250d5": {
     "views": []
    },
    "88f96e1ac4f1455aae429c24dd4465c5": {
     "views": []
    },
    "8d1769069b004f59a10e4f9fa7d35b28": {
     "views": []
    },
    "91c6a7b4c64649579ae62c5e342107b8": {
     "views": []
    },
    "92d1bc8e36a34a9ba5295d5beb4789b3": {
     "views": []
    },
    "95143640ea264f5fa296414bbedebaf1": {
     "views": []
    },
    "96c9bd18f72e49658f9db1a763c4ba1d": {
     "views": []
    },
    "9a2c323a0a064232814228b8f800468d": {
     "views": []
    },
    "9a5f3114c3184e04aec3a534e0a44c6b": {
     "views": [
      {
       "cell_index": 63
      }
     ]
    },
    "9b7595800dd543b6a9e8a9ec7a27fe2e": {
     "views": []
    },
    "a055bcb3b866456b86408443e21ea6d5": {
     "views": [
      {
       "cell_index": 60
      }
     ]
    },
    "a862bb3fde5e44258fe11be0a543dae5": {
     "views": []
    },
    "aac55a0eb5cb4a17b7bafc2c330b6cdd": {
     "views": []
    },
    "abb8d23c31b648759c2f56f73b5ee684": {
     "views": []
    },
    "b9f8725c698f4017bcaec5582fa7361c": {
     "views": []
    },
    "ba365a2f4233487a825f700bca9343a0": {
     "views": []
    },
    "c051b42e13134b61a2c8c719dfed07e8": {
     "views": []
    },
    "c5872bce43a743c7a9ec7d83f29414f9": {
     "views": []
    },
    "c5faeaca02f34d06bda5e56d246497a5": {
     "views": []
    },
    "c95de46a9a7542ea92669db51b9ab661": {
     "views": []
    },
    "c9bba15c21934c678fa4838961607d18": {
     "views": []
    },
    "d0e49168847543a2bdec36ddbaa877ba": {
     "views": []
    },
    "d35fb9996c99406d98ce27bcd0e9e5c6": {
     "views": []
    },
    "d362486d70a74834840d941df1da645c": {
     "views": []
    },
    "ddb6bb2d1bee4583b59ee21df8b6ee32": {
     "views": []
    },
    "e1453baac58e4d8784b7a5fa67c2d9aa": {
     "views": []
    },
    "e22dd1a4a50e43faab1d930f1fd6f80d": {
     "views": []
    },
    "ed0a3e67f0614d7290dfd751f8055950": {
     "views": []
    },
    "fbd09d3fb442419aa5394dd035fc2582": {
     "views": []
    },
    "ffac1728f8064205969c3f697fbfed75": {
     "views": []
    }
   },
   "version": "1.1.2"
  }
 },
 "nbformat": 4,
 "nbformat_minor": 0
}
