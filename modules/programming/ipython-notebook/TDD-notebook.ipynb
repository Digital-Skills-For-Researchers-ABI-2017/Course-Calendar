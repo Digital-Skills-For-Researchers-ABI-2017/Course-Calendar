{
 "cells": [
  {
   "cell_type": "markdown",
   "metadata": {},
   "source": [
    "# Testing and Test Driven Development"
   ]
  },
  {
   "cell_type": "markdown",
   "metadata": {},
   "source": [
    "It may seem as the the point of test driven development is to create software with fewer bugs thanks to testing. This is in part true. Perhaps more importantly TDD encourages you think about the purpose of the code  you are writing upfront. A good analogie TDD is like building a lock and key simaltaneously to ensure they both fit. \n",
    "\n",
    "\n",
    "\n",
    "Ensuring your code is well tested helps ensure a novel result is not the outcome of a bug, but at worst an error in the computational method or algorithm you have devised, you have might have the wrong design but it is implemented correctly. TDD will help narrow down the domain where you error lies. \n",
    "\n",
    "Scientific software \n",
    "\n",
    "Testing can seem like wasted effort, why test when you can forge on and create more features? After all your code is working. For a lot of people new to programming the value of testing is only shown when they get to a stage where their code isn't working and they can't fix it, this likley could have avoided by testing. Creating programms without testing feels fast and moves slowly, whilst using tests is the opposite.\n",
    "\n",
    "\n",
    "In short, the answer to how often should we be testing is always. \n",
    "\n",
    "There are a range of different sorts of tests used by software developers. The tests that you will likley find most useful when creating scientific software are\n",
    "* Unit tests. These are written to test functions or areas of code. They are written to ensure that functions are working as we expexted. \n",
    "* Regression tests. These tests measure whether program output or behaviour are consistent with earlier versions of the program. \n",
    "* Integration tests. Integration tests are written  to test that the major parts of of a program work together as expected. \n",
    "\n",
    "There are of course other types of tests, but these three are the most likley you will use and encounter if writing scintific software. For this module we are going to focus on unit tests.\n",
    "\n",
    "Scientific software can be a difficult domain to create tests for. Often you are trying to compute the answer to the question you don't know the answer to a priori. Some possible solutions include comparing your program output to a result that can be calculate analytically, or comparing your output to another piece of softwares output which you have a high degree of trust in its accuracy.\n",
    "\n",
    "\n",
    "\n"
   ]
  },
  {
   "cell_type": "markdown",
   "metadata": {},
   "source": [
    "# The TDD cycle\n",
    "\n",
    "* **_Write a test_** \n",
    "    Write a test that doesnt run\n",
    "* **_Make it run_** \n",
    "    Make the test work quickly\n",
    "*  **_Make it right_** \n",
    "    Clean up your code and remove unecessary duplicatioh\n",
    "\n",
    "When it comes to getting the test to pass quickly, there are techniques frequently used\n",
    "* **Faking it**: Return constant values and gradually replace them until you have real code\n",
    "* **Obvious Implementation**. Implement the obvious solution to the problem. Don't fall into the trap of trying to implement the \"most\" obvious solution, don't overthink it.\n",
    "* **Triangulation**: Sometimes you want to generalize some code but are not sure how to do it. Triangulation is the process of addingtest cases with different input and expected output to try and force us to genearlize our code to handle all the test cases.\n",
    "\n"
   ]
  },
  {
   "cell_type": "markdown",
   "metadata": {},
   "source": [
    "<img src=\"TDD_cycle.png\",width=500,height=500>"
   ]
  },
  {
   "cell_type": "markdown",
   "metadata": {},
   "source": [
    "## Assertions\n",
    "The first step toward getting the right answers from our programs is to assume that mistakes will happen and to guard against them. This is called defensive programming, and the most common way to do it is to add assertions to our code so that it checks itself as it runs. An assertion is simply a statement that something must be true at a certain point in a program. When Python sees one, it evaluates the assertion’s condition. If it’s true, Python does nothing, but if it’s false, Python halts the program immediately and prints the error message if one is provided. For example, this piece of code halts as soon as the loop encounters a value that isn’t positive:\n",
    "\n"
   ]
  },
  {
   "cell_type": "code",
   "execution_count": 6,
   "metadata": {
    "collapsed": false
   },
   "outputs": [
    {
     "ename": "AssertionError",
     "evalue": "Data should only contain positive values",
     "output_type": "error",
     "traceback": [
      "\u001b[1;31m---------------------------------------------------------------------------\u001b[0m\n\u001b[1;31mAssertionError\u001b[0m                            Traceback (most recent call last)",
      "\u001b[1;32m<ipython-input-6-ebd7f1f609d4>\u001b[0m in \u001b[0;36m<module>\u001b[1;34m()\u001b[0m\n\u001b[0;32m      3\u001b[0m \u001b[0mtotal\u001b[0m \u001b[1;33m=\u001b[0m \u001b[1;36m0.0\u001b[0m\u001b[1;33m\u001b[0m\u001b[0m\n\u001b[0;32m      4\u001b[0m \u001b[1;32mfor\u001b[0m \u001b[0mn\u001b[0m \u001b[1;32min\u001b[0m \u001b[0mnumbers\u001b[0m\u001b[1;33m:\u001b[0m\u001b[1;33m\u001b[0m\u001b[0m\n\u001b[1;32m----> 5\u001b[1;33m     \u001b[1;32massert\u001b[0m \u001b[0mn\u001b[0m \u001b[1;33m>\u001b[0m \u001b[1;36m0.0\u001b[0m\u001b[1;33m,\u001b[0m \u001b[1;34m'Data should only contain positive values'\u001b[0m\u001b[1;33m\u001b[0m\u001b[0m\n\u001b[0m\u001b[0;32m      6\u001b[0m     \u001b[0mtotal\u001b[0m \u001b[1;33m+=\u001b[0m \u001b[0mn\u001b[0m\u001b[1;33m\u001b[0m\u001b[0m\n\u001b[0;32m      7\u001b[0m \u001b[1;32mprint\u001b[0m\u001b[1;33m(\u001b[0m\u001b[1;34m'total is:'\u001b[0m\u001b[1;33m,\u001b[0m \u001b[0mtotal\u001b[0m\u001b[1;33m)\u001b[0m\u001b[1;33m\u001b[0m\u001b[0m\n",
      "\u001b[1;31mAssertionError\u001b[0m: Data should only contain positive values"
     ]
    }
   ],
   "source": [
    "\n",
    "numbers = [1.5, 2.3, 0.7, -0.001, 4.4]\n",
    "total = 0.0\n",
    "for n in numbers:\n",
    "    assert n > 0.0, 'Data should only contain positive values'\n",
    "    total += n\n",
    "print('total is:', total)\n"
   ]
  },
  {
   "cell_type": "markdown",
   "metadata": {},
   "source": [
    "Programs like the Firefox browser are full of assertions: 10-20% of the code they contain are there to check that the other 80-90% are working correctly. Broadly speaking, assertions fall into three categories:\n",
    "\n",
    "* A precondition is something that must be true at the start of a function in order for it to work correctly.\n",
    "\n",
    "* A postcondition is something that the function guarantees is true when it finishes.\n",
    "\n",
    "* An invariant is something that is always true at a particular point inside a piece of code.\n",
    "\n",
    "For example, suppose we are representing rectangles using a tuple of four coordinates (x0, y0, x1, y1), representing the lower left and upper right corners of the rectangle. In order to do some calculations, we need to normalize the rectangle so that the lower left corner is at the origin and the longest side is 1.0 units long. This function does that, but checks that its input is correctly formatted and that its result makes sense:\n",
    "\n"
   ]
  },
  {
   "cell_type": "code",
   "execution_count": 1,
   "metadata": {
    "collapsed": false
   },
   "outputs": [],
   "source": [
    "def normalize_rectangle(rect):\n",
    "    '''Normalizes a rectangle so that it is at the origin and 1.0 units long on its longest axis.'''\n",
    "    assert len(rect) == 4, 'Rectangles must contain 4 coordinates'\n",
    "    x0, y0, x1, y1 = rect\n",
    "    assert x0 < x1, 'Invalid X coordinates'\n",
    "    assert y0 < y1, 'Invalid Y coordinates'\n",
    "\n",
    "    dx = x1 - x0\n",
    "    dy = y1 - y0\n",
    "    if dx > dy:\n",
    "        scaled = float(dx) / dy\n",
    "        upper_x, upper_y = 1.0, scaled\n",
    "    else:\n",
    "        scaled = float(dx) / dy\n",
    "        upper_x, upper_y = scaled, 1.0\n",
    "\n",
    "    assert 0 < upper_x <= 1.0, 'Calculated upper X coordinate invalid'\n",
    "    assert 0 < upper_y <= 1.0, 'Calculated upper Y coordinate invalid'\n",
    "\n",
    "    return (0, 0, upper_x, upper_y)\n"
   ]
  },
  {
   "cell_type": "markdown",
   "metadata": {},
   "source": [
    "The preconditions on lines 2, 4, and 5 catch invalid inputs:\n",
    "\n",
    "\n"
   ]
  },
  {
   "cell_type": "markdown",
   "metadata": {},
   "source": [
    "\n",
    "The post-conditions help us catch bugs by telling us when our calculations cannot have been correct. For example, if we normalize a rectangle that is taller than it is wide everything seems OK:\n"
   ]
  },
  {
   "cell_type": "code",
   "execution_count": 2,
   "metadata": {
    "collapsed": false
   },
   "outputs": [
    {
     "name": "stdout",
     "output_type": "stream",
     "text": [
      "(0, 0, 0.2, 1.0)\n"
     ]
    }
   ],
   "source": [
    "print(normalize_rectangle( (0.0, 0.0, 1.0, 5.0) ))\n"
   ]
  },
  {
   "cell_type": "markdown",
   "metadata": {},
   "source": [
    "but if we normalize one that’s wider than it is tall, the assertion is triggered:\n"
   ]
  },
  {
   "cell_type": "code",
   "execution_count": 3,
   "metadata": {
    "collapsed": false
   },
   "outputs": [
    {
     "ename": "AssertionError",
     "evalue": "Calculated upper Y coordinate invalid",
     "output_type": "error",
     "traceback": [
      "\u001b[1;31m---------------------------------------------------------------------------\u001b[0m",
      "\u001b[1;31mAssertionError\u001b[0m                            Traceback (most recent call last)",
      "\u001b[1;32m<ipython-input-3-a7353228dc6f>\u001b[0m in \u001b[0;36m<module>\u001b[1;34m()\u001b[0m\n\u001b[1;32m----> 1\u001b[1;33m \u001b[1;32mprint\u001b[0m\u001b[1;33m(\u001b[0m\u001b[0mnormalize_rectangle\u001b[0m\u001b[1;33m(\u001b[0m \u001b[1;33m(\u001b[0m\u001b[1;36m0.0\u001b[0m\u001b[1;33m,\u001b[0m \u001b[1;36m0.0\u001b[0m\u001b[1;33m,\u001b[0m \u001b[1;36m5.0\u001b[0m\u001b[1;33m,\u001b[0m \u001b[1;36m1.0\u001b[0m\u001b[1;33m)\u001b[0m \u001b[1;33m)\u001b[0m\u001b[1;33m)\u001b[0m\u001b[1;33m\u001b[0m\u001b[0m\n\u001b[0m",
      "\u001b[1;32m<ipython-input-1-9f8adbfdcfc9>\u001b[0m in \u001b[0;36mnormalize_rectangle\u001b[1;34m(rect)\u001b[0m\n\u001b[0;32m     16\u001b[0m \u001b[1;33m\u001b[0m\u001b[0m\n\u001b[0;32m     17\u001b[0m     \u001b[1;32massert\u001b[0m \u001b[1;36m0\u001b[0m \u001b[1;33m<\u001b[0m \u001b[0mupper_x\u001b[0m \u001b[1;33m<=\u001b[0m \u001b[1;36m1.0\u001b[0m\u001b[1;33m,\u001b[0m \u001b[1;34m'Calculated upper X coordinate invalid'\u001b[0m\u001b[1;33m\u001b[0m\u001b[0m\n\u001b[1;32m---> 18\u001b[1;33m     \u001b[1;32massert\u001b[0m \u001b[1;36m0\u001b[0m \u001b[1;33m<\u001b[0m \u001b[0mupper_y\u001b[0m \u001b[1;33m<=\u001b[0m \u001b[1;36m1.0\u001b[0m\u001b[1;33m,\u001b[0m \u001b[1;34m'Calculated upper Y coordinate invalid'\u001b[0m\u001b[1;33m\u001b[0m\u001b[0m\n\u001b[0m\u001b[0;32m     19\u001b[0m \u001b[1;33m\u001b[0m\u001b[0m\n\u001b[0;32m     20\u001b[0m     \u001b[1;32mreturn\u001b[0m \u001b[1;33m(\u001b[0m\u001b[1;36m0\u001b[0m\u001b[1;33m,\u001b[0m \u001b[1;36m0\u001b[0m\u001b[1;33m,\u001b[0m \u001b[0mupper_x\u001b[0m\u001b[1;33m,\u001b[0m \u001b[0mupper_y\u001b[0m\u001b[1;33m)\u001b[0m\u001b[1;33m\u001b[0m\u001b[0m\n",
      "\u001b[1;31mAssertionError\u001b[0m: Calculated upper Y coordinate invalid"
     ]
    }
   ],
   "source": [
    "print(normalize_rectangle( (0.0, 0.0, 5.0, 1.0) ))"
   ]
  },
  {
   "cell_type": "markdown",
   "metadata": {},
   "source": [
    "Re-reading our function, we realize that line 10 should divide dy by dx rather than dx by dy. (You can display line numbers by typing Ctrl-M, then L.) If we had left out the assertion at the end of the function, we would have created and returned something that had the right shape as a valid answer, but wasn’t. Detecting and debugging that would almost certainly have taken more time in the long run than writing the assertion.\n",
    "\n",
    "But assertions aren’t just about catching errors: they also help people understand programs. Each assertion gives the person reading the program a chance to check (consciously or otherwise) that their understanding matches what the code is doing.\n",
    "\n",
    "Most good programmers follow two rules when adding assertions to their code. The first is, fail early, fail often. The greater the distance between when and where an error occurs and when it’s noticed, the harder the error will be to debug, so good code catches mistakes as early as possible.\n",
    "\n",
    "The second rule is, turn bugs into assertions or tests. Whenever you fix a bug, write an assertion that catches the mistake should you make it again. If you made a mistake in a piece of code, the odds are good that you have made other mistakes nearby, or will make the same mistake (or a related one) the next time you change it. Writing assertions to check that you haven’t regressed (i.e., haven’t re-introduced an old problem) can save a lot of time in the long run, and helps to warn people who are reading the code (including your future self) that this bit is tricky."
   ]
  },
  {
   "cell_type": "markdown",
   "metadata": {},
   "source": [
    "# Test-Driven Development\n",
    "\n",
    "An assertion checks that something is true at a particular point in the program. The next step is to check the overall behavior of a piece of code, i.e., to make sure that it produces the right output when it’s given a particular input. For example, suppose we need to find where two or more time series overlap. The range of each time series is represented as a pair of numbers, which are the time the interval started and ended. The output is the largest range that they all include:"
   ]
  },
  {
   "cell_type": "code",
   "execution_count": 4,
   "metadata": {
    "collapsed": false
   },
   "outputs": [
    {
     "data": {
      "image/svg+xml": [
       "<svg clip-path=\"url(#presentation_clip_path)\" height=\"154.1693\" id=\"svg2\" inkscape:version=\"0.48.2 r9819\" preserveAspectRatio=\"xMidYMid\" sodipodi:docname=\"python-overlapping-ranges.svg\" style=\"fill-rule:evenodd;stroke-width:28.22200012;stroke-linejoin:round\" version=\"1.2\" viewBox=\"0 0 9662.6858 4351.0001\" width=\"342.37863\" xml:space=\"preserve\" xmlns=\"http://www.w3.org/2000/svg\" xmlns:cc=\"http://creativecommons.org/ns#\" xmlns:dc=\"http://purl.org/dc/elements/1.1/\" xmlns:inkscape=\"http://www.inkscape.org/namespaces/inkscape\" xmlns:ooo=\"http://xml.openoffice.org/svg/export\" xmlns:rdf=\"http://www.w3.org/1999/02/22-rdf-syntax-ns#\" xmlns:sodipodi=\"http://sodipodi.sourceforge.net/DTD/sodipodi-0.dtd\" xmlns:svg=\"http://www.w3.org/2000/svg\"><metadata id=\"metadata574\"><rdf:RDF><cc:Work rdf:about=\"\"><dc:format>image/svg+xml</dc:format><dc:type rdf:resource=\"http://purl.org/dc/dcmitype/StillImage\"/></cc:Work></rdf:RDF></metadata><sodipodi:namedview bordercolor=\"#666666\" borderopacity=\"1\" fit-margin-bottom=\"0\" fit-margin-left=\"0\" fit-margin-right=\"0\" fit-margin-top=\"0\" gridtolerance=\"10\" guidetolerance=\"10\" id=\"namedview572\" inkscape:current-layer=\"svg2\" inkscape:cx=\"341.31563\" inkscape:cy=\"-292.11024\" inkscape:pageopacity=\"0\" inkscape:pageshadow=\"2\" inkscape:window-height=\"480\" inkscape:window-maximized=\"0\" inkscape:window-width=\"640\" inkscape:window-x=\"0\" inkscape:window-y=\"0\" inkscape:zoom=\"0.23838384\" objecttolerance=\"10\" pagecolor=\"#ffffff\" showgrid=\"false\"/>\n",
       " <defs class=\"ClipPathGroup\" id=\"defs4\">\n",
       "  <clipPath clipPathUnits=\"userSpaceOnUse\" id=\"presentation_clip_path\">\n",
       "   <rect height=\"27940\" id=\"rect7\" width=\"21590\" x=\"0\" y=\"0\"/>\n",
       "  </clipPath>\n",
       " </defs>\n",
       " <defs class=\"TextShapeIndex\" id=\"defs9\">\n",
       "  <g id=\"g11\" ooo:id-list=\"id3 id4 id5 id6 id7 id8 id9 id10 id11 id12 id13 id14 id15 id16 id17 id18 id19 id20 id21 id22 id23 id24 id25 id26\" ooo:slide=\"id1\"/>\n",
       " </defs>\n",
       " <defs class=\"EmbeddedBulletChars\" id=\"defs13\">\n",
       "  <g id=\"bullet-char-template(57356)\" transform=\"scale(4.8828125e-4,-4.8828125e-4)\">\n",
       "   <path d=\"M 580,1141 1163,571 580,0 -4,571 580,1141 z\" id=\"path16\" inkscape:connector-curvature=\"0\"/>\n",
       "  </g>\n",
       "  <g id=\"bullet-char-template(57354)\" transform=\"scale(4.8828125e-4,-4.8828125e-4)\">\n",
       "   <path d=\"m 8,1128 1129,0 L 1137,0 8,0 8,1128 z\" id=\"path19\" inkscape:connector-curvature=\"0\"/>\n",
       "  </g>\n",
       "  <g id=\"bullet-char-template(10146)\" transform=\"scale(4.8828125e-4,-4.8828125e-4)\">\n",
       "   <path d=\"M 174,0 602,739 174,1481 1456,739 174,0 z m 1184,739 -1049,607 350,-607 699,0 z\" id=\"path22\" inkscape:connector-curvature=\"0\"/>\n",
       "  </g>\n",
       "  <g id=\"bullet-char-template(10132)\" transform=\"scale(4.8828125e-4,-4.8828125e-4)\">\n",
       "   <path d=\"M 2015,739 1276,0 717,0 l 543,543 -1086,0 0,393 1086,0 -543,545 557,0 741,-742 z\" id=\"path25\" inkscape:connector-curvature=\"0\"/>\n",
       "  </g>\n",
       "  <g id=\"bullet-char-template(10007)\" transform=\"scale(4.8828125e-4,-4.8828125e-4)\">\n",
       "   <path d=\"m 0,-2 c -7,16 -16,29 -25,39 l 381,530 c -94,256 -141,385 -141,387 0,25 13,38 40,38 9,0 21,-2 34,-5 21,4 42,12 65,25 l 27,-13 111,-251 280,301 64,-25 24,25 c 21,-10 41,-24 62,-43 C 886,937 835,863 770,784 769,783 710,716 594,584 L 774,223 c 0,-27 -21,-55 -63,-84 l 16,-20 C 717,90 699,76 672,76 641,76 570,178 457,381 L 164,-76 c -22,-34 -53,-51 -92,-51 -42,0 -63,17 -64,51 -7,9 -10,24 -10,44 0,9 1,19 2,30 z\" id=\"path28\" inkscape:connector-curvature=\"0\"/>\n",
       "  </g>\n",
       "  <g id=\"bullet-char-template(10004)\" transform=\"scale(4.8828125e-4,-4.8828125e-4)\">\n",
       "   <path d=\"M 285,-33 C 182,-33 111,30 74,156 52,228 41,333 41,471 c 0,78 14,145 41,201 34,71 87,106 158,106 53,0 88,-31 106,-94 l 23,-176 c 8,-64 28,-97 59,-98 l 735,706 c 11,11 33,17 66,17 42,0 63,-15 63,-46 l 0,-122 c 0,-36 -10,-64 -30,-84 L 442,47 C 390,-6 338,-33 285,-33 z\" id=\"path31\" inkscape:connector-curvature=\"0\"/>\n",
       "  </g>\n",
       "  <g id=\"bullet-char-template(9679)\" transform=\"scale(4.8828125e-4,-4.8828125e-4)\">\n",
       "   <path d=\"M 813,0 C 632,0 489,54 383,161 276,268 223,411 223,592 c 0,181 53,324 160,431 106,107 249,161 430,161 179,0 323,-54 432,-161 108,-107 162,-251 162,-431 0,-180 -54,-324 -162,-431 C 1136,54 992,0 813,0 z\" id=\"path34\" inkscape:connector-curvature=\"0\"/>\n",
       "  </g>\n",
       "  <g id=\"bullet-char-template(8226)\" transform=\"scale(4.8828125e-4,-4.8828125e-4)\">\n",
       "   <path d=\"m 346,457 c -73,0 -137,26 -191,78 -54,51 -81,114 -81,188 0,73 27,136 81,188 54,52 118,78 191,78 73,0 134,-26 185,-79 51,-51 77,-114 77,-187 0,-75 -25,-137 -76,-188 -50,-52 -112,-78 -186,-78 z\" id=\"path37\" inkscape:connector-curvature=\"0\"/>\n",
       "  </g>\n",
       "  <g id=\"bullet-char-template(8211)\" transform=\"scale(4.8828125e-4,-4.8828125e-4)\">\n",
       "   <path d=\"m -4,459 1139,0 0,147 -1139,0 0,-147 z\" id=\"path40\" inkscape:connector-curvature=\"0\"/>\n",
       "  </g>\n",
       " </defs>\n",
       " <defs class=\"TextEmbeddedBitmaps\" id=\"defs42\"/>\n",
       " <g id=\"g44\" transform=\"translate(-1162.3145,-1375)\">\n",
       "  <g class=\"Master_Slide\" id=\"id2\">\n",
       "   <g class=\"Background\" id=\"bg-id2\"/>\n",
       "   <g class=\"BackgroundObjects\" id=\"bo-id2\"/>\n",
       "  </g>\n",
       " </g>\n",
       " <g class=\"SlideGroup\" id=\"g49\" transform=\"translate(-1162.3145,-1375)\">\n",
       "  <g id=\"g51\">\n",
       "   <g class=\"Slide\" clip-path=\"url(#presentation_clip_path)\" id=\"id1\">\n",
       "    <g class=\"Page\" id=\"g54\">\n",
       "     <g class=\"com.sun.star.drawing.TextShape\" id=\"g56\">\n",
       "      <g id=\"id3\">\n",
       "       <text class=\"TextShape\" id=\"text59\"><tspan class=\"TextParagraph\" font-size=\"388px\" font-weight=\"400\" id=\"tspan61\" style=\"font-size:388px;font-weight:400;font-family:'Arial, sans-serif'\"><tspan class=\"TextPosition\" id=\"tspan63\" x=\"1150\" y=\"1976\"><tspan id=\"tspan65\" style=\"fill:#000000;stroke:none\">-3.0</tspan></tspan></tspan></text>\n",
       "\n",
       "      </g>\n",
       "     </g>\n",
       "     <g class=\"com.sun.star.drawing.LineShape\" id=\"g67\">\n",
       "      <g id=\"id4\">\n",
       "       <path d=\"m 2000,2000 8000,0\" id=\"path70\" inkscape:connector-curvature=\"0\" style=\"fill:none;stroke:#000000;stroke-width:50\"/>\n",
       "      </g>\n",
       "     </g>\n",
       "     <g class=\"com.sun.star.drawing.LineShape\" id=\"g72\">\n",
       "      <g id=\"id5\">\n",
       "       <path d=\"m 2000,1700 0,300\" id=\"path75\" inkscape:connector-curvature=\"0\" style=\"fill:none;stroke:#000000;stroke-width:50\"/>\n",
       "      </g>\n",
       "     </g>\n",
       "     <g class=\"com.sun.star.drawing.LineShape\" id=\"g77\">\n",
       "      <g id=\"id6\">\n",
       "       <path d=\"m 10000,1700 0,300\" id=\"path80\" inkscape:connector-curvature=\"0\" style=\"fill:none;stroke:#000000;stroke-width:50\"/>\n",
       "      </g>\n",
       "     </g>\n",
       "     <g class=\"com.sun.star.drawing.TextShape\" id=\"g82\">\n",
       "      <g id=\"id7\">\n",
       "       <text class=\"TextShape\" id=\"text85\"><tspan class=\"TextParagraph\" font-size=\"388px\" font-weight=\"400\" id=\"tspan87\" style=\"font-size:388px;font-weight:400;font-family:'Arial, sans-serif'\"><tspan class=\"TextPosition\" id=\"tspan89\" x=\"10251\" y=\"1977\"><tspan id=\"tspan91\" style=\"fill:#000000;stroke:none\">5.0</tspan></tspan></tspan></text>\n",
       "\n",
       "      </g>\n",
       "     </g>\n",
       "     <g class=\"com.sun.star.drawing.TextShape\" id=\"g93\">\n",
       "      <g id=\"id8\">\n",
       "       <text class=\"TextShape\" id=\"text96\"><tspan class=\"TextParagraph\" font-size=\"388px\" font-weight=\"400\" id=\"tspan98\" style=\"font-size:388px;font-weight:400;font-family:'Arial, sans-serif'\"><tspan class=\"TextPosition\" id=\"tspan100\" x=\"4250\" y=\"2976\"><tspan id=\"tspan102\" style=\"fill:#000000;stroke:none\">0.0</tspan></tspan></tspan></text>\n",
       "\n",
       "      </g>\n",
       "     </g>\n",
       "     <g class=\"com.sun.star.drawing.LineShape\" id=\"g104\">\n",
       "      <g id=\"id9\">\n",
       "       <path d=\"m 5000,3000 4500,0\" id=\"path107\" inkscape:connector-curvature=\"0\" style=\"fill:none;stroke:#000000;stroke-width:50\"/>\n",
       "      </g>\n",
       "     </g>\n",
       "     <g class=\"com.sun.star.drawing.LineShape\" id=\"g109\">\n",
       "      <g id=\"id10\">\n",
       "       <path d=\"m 5000,2700 0,300\" id=\"path112\" inkscape:connector-curvature=\"0\" style=\"fill:none;stroke:#000000;stroke-width:50\"/>\n",
       "      </g>\n",
       "     </g>\n",
       "     <g class=\"com.sun.star.drawing.LineShape\" id=\"g114\">\n",
       "      <g id=\"id11\">\n",
       "       <path d=\"m 9500,2700 0,300\" id=\"path117\" inkscape:connector-curvature=\"0\" style=\"fill:none;stroke:#000000;stroke-width:50\"/>\n",
       "      </g>\n",
       "     </g>\n",
       "     <g class=\"com.sun.star.drawing.TextShape\" id=\"g119\">\n",
       "      <g id=\"id12\">\n",
       "       <text class=\"TextShape\" id=\"text122\"><tspan class=\"TextParagraph\" font-size=\"388px\" font-weight=\"400\" id=\"tspan124\" style=\"font-size:388px;font-weight:400;font-family:'Arial, sans-serif'\"><tspan class=\"TextPosition\" id=\"tspan126\" x=\"9751\" y=\"2977\"><tspan id=\"tspan128\" style=\"fill:#000000;stroke:none\">4.5</tspan></tspan></tspan></text>\n",
       "\n",
       "      </g>\n",
       "     </g>\n",
       "     <g class=\"com.sun.star.drawing.TextShape\" id=\"g130\">\n",
       "      <g id=\"id13\">\n",
       "       <text class=\"TextShape\" id=\"text133\"><tspan class=\"TextParagraph\" font-size=\"388px\" font-weight=\"400\" id=\"tspan135\" style=\"font-size:388px;font-weight:400;font-family:'Arial, sans-serif'\"><tspan class=\"TextPosition\" id=\"tspan137\" x=\"2609\" y=\"3976\"><tspan id=\"tspan139\" style=\"fill:#000000;stroke:none\">-1.5</tspan></tspan></tspan></text>\n",
       "\n",
       "      </g>\n",
       "     </g>\n",
       "     <g class=\"com.sun.star.drawing.LineShape\" id=\"g141\">\n",
       "      <g id=\"id14\">\n",
       "       <path d=\"m 3500,4000 3500,0\" id=\"path144\" inkscape:connector-curvature=\"0\" style=\"fill:none;stroke:#000000;stroke-width:50\"/>\n",
       "      </g>\n",
       "     </g>\n",
       "     <g class=\"com.sun.star.drawing.LineShape\" id=\"g146\">\n",
       "      <g id=\"id15\">\n",
       "       <path d=\"m 3500,3700 0,300\" id=\"path149\" inkscape:connector-curvature=\"0\" style=\"fill:none;stroke:#000000;stroke-width:50\"/>\n",
       "      </g>\n",
       "     </g>\n",
       "     <g class=\"com.sun.star.drawing.LineShape\" id=\"g151\">\n",
       "      <g id=\"id16\">\n",
       "       <path d=\"m 7000,3700 0,300\" id=\"path154\" inkscape:connector-curvature=\"0\" style=\"fill:none;stroke:#000000;stroke-width:50\"/>\n",
       "      </g>\n",
       "     </g>\n",
       "     <g class=\"com.sun.star.drawing.TextShape\" id=\"g156\">\n",
       "      <g id=\"id17\">\n",
       "       <text class=\"TextShape\" id=\"text159\"><tspan class=\"TextParagraph\" font-size=\"388px\" font-weight=\"400\" id=\"tspan161\" style=\"font-size:388px;font-weight:400;font-family:'Arial, sans-serif'\"><tspan class=\"TextPosition\" id=\"tspan163\" x=\"7210\" y=\"3977\"><tspan id=\"tspan165\" style=\"fill:#000000;stroke:none\">2.0</tspan></tspan></tspan></text>\n",
       "\n",
       "      </g>\n",
       "     </g>\n",
       "     <g class=\"com.sun.star.drawing.LineShape\" id=\"g167\">\n",
       "      <g id=\"id18\">\n",
       "       <path d=\"m 5000,1400 0,51\" id=\"path170\" inkscape:connector-curvature=\"0\" style=\"fill:none;stroke:#c0c0c0;stroke-width:50\"/>\n",
       "       <path d=\"m 5000,1502 0,51\" id=\"path172\" inkscape:connector-curvature=\"0\" style=\"fill:none;stroke:#c0c0c0;stroke-width:50\"/>\n",
       "       <path d=\"m 5000,1604 0,51\" id=\"path174\" inkscape:connector-curvature=\"0\" style=\"fill:none;stroke:#c0c0c0;stroke-width:50\"/>\n",
       "       <path d=\"m 5000,1706 0,51\" id=\"path176\" inkscape:connector-curvature=\"0\" style=\"fill:none;stroke:#c0c0c0;stroke-width:50\"/>\n",
       "       <path d=\"m 5000,1808 0,51\" id=\"path178\" inkscape:connector-curvature=\"0\" style=\"fill:none;stroke:#c0c0c0;stroke-width:50\"/>\n",
       "       <path d=\"m 5000,1910 0,51\" id=\"path180\" inkscape:connector-curvature=\"0\" style=\"fill:none;stroke:#c0c0c0;stroke-width:50\"/>\n",
       "       <path d=\"m 5000,2012 0,51\" id=\"path182\" inkscape:connector-curvature=\"0\" style=\"fill:none;stroke:#c0c0c0;stroke-width:50\"/>\n",
       "       <path d=\"m 5000,2114 0,51\" id=\"path184\" inkscape:connector-curvature=\"0\" style=\"fill:none;stroke:#c0c0c0;stroke-width:50\"/>\n",
       "       <path d=\"m 5000,2216 0,51\" id=\"path186\" inkscape:connector-curvature=\"0\" style=\"fill:none;stroke:#c0c0c0;stroke-width:50\"/>\n",
       "       <path d=\"m 5000,2318 0,51\" id=\"path188\" inkscape:connector-curvature=\"0\" style=\"fill:none;stroke:#c0c0c0;stroke-width:50\"/>\n",
       "       <path d=\"m 5000,2420 0,51\" id=\"path190\" inkscape:connector-curvature=\"0\" style=\"fill:none;stroke:#c0c0c0;stroke-width:50\"/>\n",
       "       <path d=\"m 5000,2522 0,51\" id=\"path192\" inkscape:connector-curvature=\"0\" style=\"fill:none;stroke:#c0c0c0;stroke-width:50\"/>\n",
       "       <path d=\"m 5000,2624 0,51\" id=\"path194\" inkscape:connector-curvature=\"0\" style=\"fill:none;stroke:#c0c0c0;stroke-width:50\"/>\n",
       "       <path d=\"m 5000,2726 0,51\" id=\"path196\" inkscape:connector-curvature=\"0\" style=\"fill:none;stroke:#c0c0c0;stroke-width:50\"/>\n",
       "       <path d=\"m 5000,2828 0,51\" id=\"path198\" inkscape:connector-curvature=\"0\" style=\"fill:none;stroke:#c0c0c0;stroke-width:50\"/>\n",
       "       <path d=\"m 5000,2930 0,51\" id=\"path200\" inkscape:connector-curvature=\"0\" style=\"fill:none;stroke:#c0c0c0;stroke-width:50\"/>\n",
       "       <path d=\"m 5000,3032 0,51\" id=\"path202\" inkscape:connector-curvature=\"0\" style=\"fill:none;stroke:#c0c0c0;stroke-width:50\"/>\n",
       "       <path d=\"m 5000,3134 0,51\" id=\"path204\" inkscape:connector-curvature=\"0\" style=\"fill:none;stroke:#c0c0c0;stroke-width:50\"/>\n",
       "       <path d=\"m 5000,3236 0,51\" id=\"path206\" inkscape:connector-curvature=\"0\" style=\"fill:none;stroke:#c0c0c0;stroke-width:50\"/>\n",
       "       <path d=\"m 5000,3338 0,51\" id=\"path208\" inkscape:connector-curvature=\"0\" style=\"fill:none;stroke:#c0c0c0;stroke-width:50\"/>\n",
       "       <path d=\"m 5000,3440 0,51\" id=\"path210\" inkscape:connector-curvature=\"0\" style=\"fill:none;stroke:#c0c0c0;stroke-width:50\"/>\n",
       "       <path d=\"m 5000,3542 0,51\" id=\"path212\" inkscape:connector-curvature=\"0\" style=\"fill:none;stroke:#c0c0c0;stroke-width:50\"/>\n",
       "       <path d=\"m 5000,3644 0,51\" id=\"path214\" inkscape:connector-curvature=\"0\" style=\"fill:none;stroke:#c0c0c0;stroke-width:50\"/>\n",
       "       <path d=\"m 5000,3746 0,51\" id=\"path216\" inkscape:connector-curvature=\"0\" style=\"fill:none;stroke:#c0c0c0;stroke-width:50\"/>\n",
       "       <path d=\"m 5000,3848 0,51\" id=\"path218\" inkscape:connector-curvature=\"0\" style=\"fill:none;stroke:#c0c0c0;stroke-width:50\"/>\n",
       "       <path d=\"m 5000,3950 0,51\" id=\"path220\" inkscape:connector-curvature=\"0\" style=\"fill:none;stroke:#c0c0c0;stroke-width:50\"/>\n",
       "       <path d=\"m 5000,4052 0,51\" id=\"path222\" inkscape:connector-curvature=\"0\" style=\"fill:none;stroke:#c0c0c0;stroke-width:50\"/>\n",
       "       <path d=\"m 5000,4154 0,51\" id=\"path224\" inkscape:connector-curvature=\"0\" style=\"fill:none;stroke:#c0c0c0;stroke-width:50\"/>\n",
       "       <path d=\"m 5000,4256 0,51\" id=\"path226\" inkscape:connector-curvature=\"0\" style=\"fill:none;stroke:#c0c0c0;stroke-width:50\"/>\n",
       "       <path d=\"m 5000,4358 0,51\" id=\"path228\" inkscape:connector-curvature=\"0\" style=\"fill:none;stroke:#c0c0c0;stroke-width:50\"/>\n",
       "       <path d=\"m 5000,4460 0,51\" id=\"path230\" inkscape:connector-curvature=\"0\" style=\"fill:none;stroke:#c0c0c0;stroke-width:50\"/>\n",
       "       <path d=\"m 5000,4562 0,51\" id=\"path232\" inkscape:connector-curvature=\"0\" style=\"fill:none;stroke:#c0c0c0;stroke-width:50\"/>\n",
       "       <path d=\"m 5000,4664 0,51\" id=\"path234\" inkscape:connector-curvature=\"0\" style=\"fill:none;stroke:#c0c0c0;stroke-width:50\"/>\n",
       "       <path d=\"m 5000,4766 0,51\" id=\"path236\" inkscape:connector-curvature=\"0\" style=\"fill:none;stroke:#c0c0c0;stroke-width:50\"/>\n",
       "       <path d=\"m 5000,4868 0,51\" id=\"path238\" inkscape:connector-curvature=\"0\" style=\"fill:none;stroke:#c0c0c0;stroke-width:50\"/>\n",
       "       <path d=\"m 5000,4970 0,51\" id=\"path240\" inkscape:connector-curvature=\"0\" style=\"fill:none;stroke:#c0c0c0;stroke-width:50\"/>\n",
       "       <path d=\"m 5000,5072 0,51\" id=\"path242\" inkscape:connector-curvature=\"0\" style=\"fill:none;stroke:#c0c0c0;stroke-width:50\"/>\n",
       "       <path d=\"m 5000,5174 0,51\" id=\"path244\" inkscape:connector-curvature=\"0\" style=\"fill:none;stroke:#c0c0c0;stroke-width:50\"/>\n",
       "       <path d=\"m 5000,5276 0,51\" id=\"path246\" inkscape:connector-curvature=\"0\" style=\"fill:none;stroke:#c0c0c0;stroke-width:50\"/>\n",
       "       <path d=\"m 5000,5378 0,51\" id=\"path248\" inkscape:connector-curvature=\"0\" style=\"fill:none;stroke:#c0c0c0;stroke-width:50\"/>\n",
       "       <path d=\"m 5000,5480 0,51\" id=\"path250\" inkscape:connector-curvature=\"0\" style=\"fill:none;stroke:#c0c0c0;stroke-width:50\"/>\n",
       "       <path d=\"m 5000,5582 0,51\" id=\"path252\" inkscape:connector-curvature=\"0\" style=\"fill:none;stroke:#c0c0c0;stroke-width:50\"/>\n",
       "       <path d=\"m 5000,5684 0,16\" id=\"path254\" inkscape:connector-curvature=\"0\" style=\"fill:none;stroke:#c0c0c0;stroke-width:50\"/>\n",
       "      </g>\n",
       "     </g>\n",
       "     <g class=\"com.sun.star.drawing.LineShape\" id=\"g256\">\n",
       "      <g id=\"id19\">\n",
       "       <path d=\"m 7000,1400 0,51\" id=\"path259\" inkscape:connector-curvature=\"0\" style=\"fill:none;stroke:#c0c0c0;stroke-width:50\"/>\n",
       "       <path d=\"m 7000,1502 0,51\" id=\"path261\" inkscape:connector-curvature=\"0\" style=\"fill:none;stroke:#c0c0c0;stroke-width:50\"/>\n",
       "       <path d=\"m 7000,1604 0,51\" id=\"path263\" inkscape:connector-curvature=\"0\" style=\"fill:none;stroke:#c0c0c0;stroke-width:50\"/>\n",
       "       <path d=\"m 7000,1706 0,51\" id=\"path265\" inkscape:connector-curvature=\"0\" style=\"fill:none;stroke:#c0c0c0;stroke-width:50\"/>\n",
       "       <path d=\"m 7000,1808 0,51\" id=\"path267\" inkscape:connector-curvature=\"0\" style=\"fill:none;stroke:#c0c0c0;stroke-width:50\"/>\n",
       "       <path d=\"m 7000,1910 0,51\" id=\"path269\" inkscape:connector-curvature=\"0\" style=\"fill:none;stroke:#c0c0c0;stroke-width:50\"/>\n",
       "       <path d=\"m 7000,2012 0,51\" id=\"path271\" inkscape:connector-curvature=\"0\" style=\"fill:none;stroke:#c0c0c0;stroke-width:50\"/>\n",
       "       <path d=\"m 7000,2114 0,51\" id=\"path273\" inkscape:connector-curvature=\"0\" style=\"fill:none;stroke:#c0c0c0;stroke-width:50\"/>\n",
       "       <path d=\"m 7000,2216 0,51\" id=\"path275\" inkscape:connector-curvature=\"0\" style=\"fill:none;stroke:#c0c0c0;stroke-width:50\"/>\n",
       "       <path d=\"m 7000,2318 0,51\" id=\"path277\" inkscape:connector-curvature=\"0\" style=\"fill:none;stroke:#c0c0c0;stroke-width:50\"/>\n",
       "       <path d=\"m 7000,2420 0,51\" id=\"path279\" inkscape:connector-curvature=\"0\" style=\"fill:none;stroke:#c0c0c0;stroke-width:50\"/>\n",
       "       <path d=\"m 7000,2522 0,51\" id=\"path281\" inkscape:connector-curvature=\"0\" style=\"fill:none;stroke:#c0c0c0;stroke-width:50\"/>\n",
       "       <path d=\"m 7000,2624 0,51\" id=\"path283\" inkscape:connector-curvature=\"0\" style=\"fill:none;stroke:#c0c0c0;stroke-width:50\"/>\n",
       "       <path d=\"m 7000,2726 0,51\" id=\"path285\" inkscape:connector-curvature=\"0\" style=\"fill:none;stroke:#c0c0c0;stroke-width:50\"/>\n",
       "       <path d=\"m 7000,2828 0,51\" id=\"path287\" inkscape:connector-curvature=\"0\" style=\"fill:none;stroke:#c0c0c0;stroke-width:50\"/>\n",
       "       <path d=\"m 7000,2930 0,51\" id=\"path289\" inkscape:connector-curvature=\"0\" style=\"fill:none;stroke:#c0c0c0;stroke-width:50\"/>\n",
       "       <path d=\"m 7000,3032 0,51\" id=\"path291\" inkscape:connector-curvature=\"0\" style=\"fill:none;stroke:#c0c0c0;stroke-width:50\"/>\n",
       "       <path d=\"m 7000,3134 0,51\" id=\"path293\" inkscape:connector-curvature=\"0\" style=\"fill:none;stroke:#c0c0c0;stroke-width:50\"/>\n",
       "       <path d=\"m 7000,3236 0,51\" id=\"path295\" inkscape:connector-curvature=\"0\" style=\"fill:none;stroke:#c0c0c0;stroke-width:50\"/>\n",
       "       <path d=\"m 7000,3338 0,51\" id=\"path297\" inkscape:connector-curvature=\"0\" style=\"fill:none;stroke:#c0c0c0;stroke-width:50\"/>\n",
       "       <path d=\"m 7000,3440 0,51\" id=\"path299\" inkscape:connector-curvature=\"0\" style=\"fill:none;stroke:#c0c0c0;stroke-width:50\"/>\n",
       "       <path d=\"m 7000,3542 0,51\" id=\"path301\" inkscape:connector-curvature=\"0\" style=\"fill:none;stroke:#c0c0c0;stroke-width:50\"/>\n",
       "       <path d=\"m 7000,3644 0,51\" id=\"path303\" inkscape:connector-curvature=\"0\" style=\"fill:none;stroke:#c0c0c0;stroke-width:50\"/>\n",
       "       <path d=\"m 7000,3746 0,51\" id=\"path305\" inkscape:connector-curvature=\"0\" style=\"fill:none;stroke:#c0c0c0;stroke-width:50\"/>\n",
       "       <path d=\"m 7000,3848 0,51\" id=\"path307\" inkscape:connector-curvature=\"0\" style=\"fill:none;stroke:#c0c0c0;stroke-width:50\"/>\n",
       "       <path d=\"m 7000,3950 0,51\" id=\"path309\" inkscape:connector-curvature=\"0\" style=\"fill:none;stroke:#c0c0c0;stroke-width:50\"/>\n",
       "       <path d=\"m 7000,4052 0,51\" id=\"path311\" inkscape:connector-curvature=\"0\" style=\"fill:none;stroke:#c0c0c0;stroke-width:50\"/>\n",
       "       <path d=\"m 7000,4154 0,51\" id=\"path313\" inkscape:connector-curvature=\"0\" style=\"fill:none;stroke:#c0c0c0;stroke-width:50\"/>\n",
       "       <path d=\"m 7000,4256 0,51\" id=\"path315\" inkscape:connector-curvature=\"0\" style=\"fill:none;stroke:#c0c0c0;stroke-width:50\"/>\n",
       "       <path d=\"m 7000,4358 0,51\" id=\"path317\" inkscape:connector-curvature=\"0\" style=\"fill:none;stroke:#c0c0c0;stroke-width:50\"/>\n",
       "       <path d=\"m 7000,4460 0,51\" id=\"path319\" inkscape:connector-curvature=\"0\" style=\"fill:none;stroke:#c0c0c0;stroke-width:50\"/>\n",
       "       <path d=\"m 7000,4562 0,51\" id=\"path321\" inkscape:connector-curvature=\"0\" style=\"fill:none;stroke:#c0c0c0;stroke-width:50\"/>\n",
       "       <path d=\"m 7000,4664 0,51\" id=\"path323\" inkscape:connector-curvature=\"0\" style=\"fill:none;stroke:#c0c0c0;stroke-width:50\"/>\n",
       "       <path d=\"m 7000,4766 0,51\" id=\"path325\" inkscape:connector-curvature=\"0\" style=\"fill:none;stroke:#c0c0c0;stroke-width:50\"/>\n",
       "       <path d=\"m 7000,4868 0,51\" id=\"path327\" inkscape:connector-curvature=\"0\" style=\"fill:none;stroke:#c0c0c0;stroke-width:50\"/>\n",
       "       <path d=\"m 7000,4970 0,51\" id=\"path329\" inkscape:connector-curvature=\"0\" style=\"fill:none;stroke:#c0c0c0;stroke-width:50\"/>\n",
       "       <path d=\"m 7000,5072 0,51\" id=\"path331\" inkscape:connector-curvature=\"0\" style=\"fill:none;stroke:#c0c0c0;stroke-width:50\"/>\n",
       "       <path d=\"m 7000,5174 0,51\" id=\"path333\" inkscape:connector-curvature=\"0\" style=\"fill:none;stroke:#c0c0c0;stroke-width:50\"/>\n",
       "       <path d=\"m 7000,5276 0,51\" id=\"path335\" inkscape:connector-curvature=\"0\" style=\"fill:none;stroke:#c0c0c0;stroke-width:50\"/>\n",
       "       <path d=\"m 7000,5378 0,51\" id=\"path337\" inkscape:connector-curvature=\"0\" style=\"fill:none;stroke:#c0c0c0;stroke-width:50\"/>\n",
       "       <path d=\"m 7000,5480 0,51\" id=\"path339\" inkscape:connector-curvature=\"0\" style=\"fill:none;stroke:#c0c0c0;stroke-width:50\"/>\n",
       "       <path d=\"m 7000,5582 0,51\" id=\"path341\" inkscape:connector-curvature=\"0\" style=\"fill:none;stroke:#c0c0c0;stroke-width:50\"/>\n",
       "       <path d=\"m 7000,5684 0,16\" id=\"path343\" inkscape:connector-curvature=\"0\" style=\"fill:none;stroke:#c0c0c0;stroke-width:50\"/>\n",
       "      </g>\n",
       "     </g>\n",
       "     <g class=\"com.sun.star.drawing.LineShape\" id=\"g345\">\n",
       "      <g id=\"id20\">\n",
       "       <path d=\"m 5000,5700 2000,0\" id=\"path348\" inkscape:connector-curvature=\"0\" style=\"fill:none;stroke:#000000;stroke-width:50\"/>\n",
       "      </g>\n",
       "     </g>\n",
       "     <g class=\"com.sun.star.drawing.LineShape\" id=\"g350\">\n",
       "      <g id=\"id21\">\n",
       "       <path d=\"m 5000,5400 0,300\" id=\"path353\" inkscape:connector-curvature=\"0\" style=\"fill:none;stroke:#000000;stroke-width:50\"/>\n",
       "      </g>\n",
       "     </g>\n",
       "     <g class=\"com.sun.star.drawing.LineShape\" id=\"g355\">\n",
       "      <g id=\"id22\">\n",
       "       <path d=\"m 7000,5400 0,300\" id=\"path358\" inkscape:connector-curvature=\"0\" style=\"fill:none;stroke:#000000;stroke-width:50\"/>\n",
       "      </g>\n",
       "     </g>\n",
       "     <g class=\"com.sun.star.drawing.TextShape\" id=\"g360\">\n",
       "      <g id=\"id23\">\n",
       "       <text class=\"TextShape\" id=\"text363\"><tspan class=\"TextParagraph\" font-size=\"388px\" font-weight=\"400\" id=\"tspan365\" style=\"font-size:388px;font-weight:400;font-family:'Arial, sans-serif'\"><tspan class=\"TextPosition\" id=\"tspan367\" x=\"4250\" y=\"5677\"><tspan id=\"tspan369\" style=\"fill:#000000;stroke:none\">0.0</tspan></tspan></tspan></text>\n",
       "\n",
       "      </g>\n",
       "     </g>\n",
       "     <g class=\"com.sun.star.drawing.LineShape\" id=\"g371\">\n",
       "      <g id=\"id24\">\n",
       "       <path d=\"m 7000,5401 0,300\" id=\"path374\" inkscape:connector-curvature=\"0\" style=\"fill:none;stroke:#000000;stroke-width:50\"/>\n",
       "      </g>\n",
       "     </g>\n",
       "     <g class=\"com.sun.star.drawing.TextShape\" id=\"g376\">\n",
       "      <g id=\"id25\">\n",
       "       <text class=\"TextShape\" id=\"text379\"><tspan class=\"TextParagraph\" font-size=\"388px\" font-weight=\"400\" id=\"tspan381\" style=\"font-size:388px;font-weight:400;font-family:'Arial, sans-serif'\"><tspan class=\"TextPosition\" id=\"tspan383\" x=\"7210\" y=\"5678\"><tspan id=\"tspan385\" style=\"fill:#000000;stroke:none\">2.0</tspan></tspan></tspan></text>\n",
       "\n",
       "      </g>\n",
       "     </g>\n",
       "     <g class=\"com.sun.star.drawing.LineShape\" id=\"g387\">\n",
       "      <g id=\"id26\">\n",
       "       <path d=\"m 1600,4800 51,0\" id=\"path390\" inkscape:connector-curvature=\"0\" style=\"fill:none;stroke:#c0c0c0;stroke-width:50\"/>\n",
       "       <path d=\"m 1702,4800 51,0\" id=\"path392\" inkscape:connector-curvature=\"0\" style=\"fill:none;stroke:#c0c0c0;stroke-width:50\"/>\n",
       "       <path d=\"m 1804,4800 51,0\" id=\"path394\" inkscape:connector-curvature=\"0\" style=\"fill:none;stroke:#c0c0c0;stroke-width:50\"/>\n",
       "       <path d=\"m 1906,4800 51,0\" id=\"path396\" inkscape:connector-curvature=\"0\" style=\"fill:none;stroke:#c0c0c0;stroke-width:50\"/>\n",
       "       <path d=\"m 2008,4800 51,0\" id=\"path398\" inkscape:connector-curvature=\"0\" style=\"fill:none;stroke:#c0c0c0;stroke-width:50\"/>\n",
       "       <path d=\"m 2110,4800 51,0\" id=\"path400\" inkscape:connector-curvature=\"0\" style=\"fill:none;stroke:#c0c0c0;stroke-width:50\"/>\n",
       "       <path d=\"m 2212,4800 51,0\" id=\"path402\" inkscape:connector-curvature=\"0\" style=\"fill:none;stroke:#c0c0c0;stroke-width:50\"/>\n",
       "       <path d=\"m 2314,4800 51,0\" id=\"path404\" inkscape:connector-curvature=\"0\" style=\"fill:none;stroke:#c0c0c0;stroke-width:50\"/>\n",
       "       <path d=\"m 2416,4800 51,0\" id=\"path406\" inkscape:connector-curvature=\"0\" style=\"fill:none;stroke:#c0c0c0;stroke-width:50\"/>\n",
       "       <path d=\"m 2518,4800 51,0\" id=\"path408\" inkscape:connector-curvature=\"0\" style=\"fill:none;stroke:#c0c0c0;stroke-width:50\"/>\n",
       "       <path d=\"m 2620,4800 51,0\" id=\"path410\" inkscape:connector-curvature=\"0\" style=\"fill:none;stroke:#c0c0c0;stroke-width:50\"/>\n",
       "       <path d=\"m 2722,4800 51,0\" id=\"path412\" inkscape:connector-curvature=\"0\" style=\"fill:none;stroke:#c0c0c0;stroke-width:50\"/>\n",
       "       <path d=\"m 2824,4800 51,0\" id=\"path414\" inkscape:connector-curvature=\"0\" style=\"fill:none;stroke:#c0c0c0;stroke-width:50\"/>\n",
       "       <path d=\"m 2926,4800 51,0\" id=\"path416\" inkscape:connector-curvature=\"0\" style=\"fill:none;stroke:#c0c0c0;stroke-width:50\"/>\n",
       "       <path d=\"m 3028,4800 51,0\" id=\"path418\" inkscape:connector-curvature=\"0\" style=\"fill:none;stroke:#c0c0c0;stroke-width:50\"/>\n",
       "       <path d=\"m 3130,4800 51,0\" id=\"path420\" inkscape:connector-curvature=\"0\" style=\"fill:none;stroke:#c0c0c0;stroke-width:50\"/>\n",
       "       <path d=\"m 3232,4800 51,0\" id=\"path422\" inkscape:connector-curvature=\"0\" style=\"fill:none;stroke:#c0c0c0;stroke-width:50\"/>\n",
       "       <path d=\"m 3334,4800 51,0\" id=\"path424\" inkscape:connector-curvature=\"0\" style=\"fill:none;stroke:#c0c0c0;stroke-width:50\"/>\n",
       "       <path d=\"m 3436,4800 51,0\" id=\"path426\" inkscape:connector-curvature=\"0\" style=\"fill:none;stroke:#c0c0c0;stroke-width:50\"/>\n",
       "       <path d=\"m 3538,4800 51,0\" id=\"path428\" inkscape:connector-curvature=\"0\" style=\"fill:none;stroke:#c0c0c0;stroke-width:50\"/>\n",
       "       <path d=\"m 3640,4800 51,0\" id=\"path430\" inkscape:connector-curvature=\"0\" style=\"fill:none;stroke:#c0c0c0;stroke-width:50\"/>\n",
       "       <path d=\"m 3742,4800 51,0\" id=\"path432\" inkscape:connector-curvature=\"0\" style=\"fill:none;stroke:#c0c0c0;stroke-width:50\"/>\n",
       "       <path d=\"m 3844,4800 51,0\" id=\"path434\" inkscape:connector-curvature=\"0\" style=\"fill:none;stroke:#c0c0c0;stroke-width:50\"/>\n",
       "       <path d=\"m 3946,4800 51,0\" id=\"path436\" inkscape:connector-curvature=\"0\" style=\"fill:none;stroke:#c0c0c0;stroke-width:50\"/>\n",
       "       <path d=\"m 4048,4800 51,0\" id=\"path438\" inkscape:connector-curvature=\"0\" style=\"fill:none;stroke:#c0c0c0;stroke-width:50\"/>\n",
       "       <path d=\"m 4150,4800 51,0\" id=\"path440\" inkscape:connector-curvature=\"0\" style=\"fill:none;stroke:#c0c0c0;stroke-width:50\"/>\n",
       "       <path d=\"m 4252,4800 51,0\" id=\"path442\" inkscape:connector-curvature=\"0\" style=\"fill:none;stroke:#c0c0c0;stroke-width:50\"/>\n",
       "       <path d=\"m 4354,4800 51,0\" id=\"path444\" inkscape:connector-curvature=\"0\" style=\"fill:none;stroke:#c0c0c0;stroke-width:50\"/>\n",
       "       <path d=\"m 4456,4800 51,0\" id=\"path446\" inkscape:connector-curvature=\"0\" style=\"fill:none;stroke:#c0c0c0;stroke-width:50\"/>\n",
       "       <path d=\"m 4558,4800 51,0\" id=\"path448\" inkscape:connector-curvature=\"0\" style=\"fill:none;stroke:#c0c0c0;stroke-width:50\"/>\n",
       "       <path d=\"m 4660,4800 51,0\" id=\"path450\" inkscape:connector-curvature=\"0\" style=\"fill:none;stroke:#c0c0c0;stroke-width:50\"/>\n",
       "       <path d=\"m 4762,4800 51,0\" id=\"path452\" inkscape:connector-curvature=\"0\" style=\"fill:none;stroke:#c0c0c0;stroke-width:50\"/>\n",
       "       <path d=\"m 4864,4800 51,0\" id=\"path454\" inkscape:connector-curvature=\"0\" style=\"fill:none;stroke:#c0c0c0;stroke-width:50\"/>\n",
       "       <path d=\"m 4966,4800 51,0\" id=\"path456\" inkscape:connector-curvature=\"0\" style=\"fill:none;stroke:#c0c0c0;stroke-width:50\"/>\n",
       "       <path d=\"m 5068,4800 51,0\" id=\"path458\" inkscape:connector-curvature=\"0\" style=\"fill:none;stroke:#c0c0c0;stroke-width:50\"/>\n",
       "       <path d=\"m 5170,4800 51,0\" id=\"path460\" inkscape:connector-curvature=\"0\" style=\"fill:none;stroke:#c0c0c0;stroke-width:50\"/>\n",
       "       <path d=\"m 5272,4800 51,0\" id=\"path462\" inkscape:connector-curvature=\"0\" style=\"fill:none;stroke:#c0c0c0;stroke-width:50\"/>\n",
       "       <path d=\"m 5374,4800 51,0\" id=\"path464\" inkscape:connector-curvature=\"0\" style=\"fill:none;stroke:#c0c0c0;stroke-width:50\"/>\n",
       "       <path d=\"m 5476,4800 51,0\" id=\"path466\" inkscape:connector-curvature=\"0\" style=\"fill:none;stroke:#c0c0c0;stroke-width:50\"/>\n",
       "       <path d=\"m 5578,4800 51,0\" id=\"path468\" inkscape:connector-curvature=\"0\" style=\"fill:none;stroke:#c0c0c0;stroke-width:50\"/>\n",
       "       <path d=\"m 5680,4800 51,0\" id=\"path470\" inkscape:connector-curvature=\"0\" style=\"fill:none;stroke:#c0c0c0;stroke-width:50\"/>\n",
       "       <path d=\"m 5782,4800 51,0\" id=\"path472\" inkscape:connector-curvature=\"0\" style=\"fill:none;stroke:#c0c0c0;stroke-width:50\"/>\n",
       "       <path d=\"m 5884,4800 51,0\" id=\"path474\" inkscape:connector-curvature=\"0\" style=\"fill:none;stroke:#c0c0c0;stroke-width:50\"/>\n",
       "       <path d=\"m 5986,4800 51,0\" id=\"path476\" inkscape:connector-curvature=\"0\" style=\"fill:none;stroke:#c0c0c0;stroke-width:50\"/>\n",
       "       <path d=\"m 6088,4800 51,0\" id=\"path478\" inkscape:connector-curvature=\"0\" style=\"fill:none;stroke:#c0c0c0;stroke-width:50\"/>\n",
       "       <path d=\"m 6190,4800 51,0\" id=\"path480\" inkscape:connector-curvature=\"0\" style=\"fill:none;stroke:#c0c0c0;stroke-width:50\"/>\n",
       "       <path d=\"m 6292,4800 51,0\" id=\"path482\" inkscape:connector-curvature=\"0\" style=\"fill:none;stroke:#c0c0c0;stroke-width:50\"/>\n",
       "       <path d=\"m 6394,4800 51,0\" id=\"path484\" inkscape:connector-curvature=\"0\" style=\"fill:none;stroke:#c0c0c0;stroke-width:50\"/>\n",
       "       <path d=\"m 6496,4800 51,0\" id=\"path486\" inkscape:connector-curvature=\"0\" style=\"fill:none;stroke:#c0c0c0;stroke-width:50\"/>\n",
       "       <path d=\"m 6598,4800 51,0\" id=\"path488\" inkscape:connector-curvature=\"0\" style=\"fill:none;stroke:#c0c0c0;stroke-width:50\"/>\n",
       "       <path d=\"m 6700,4800 51,0\" id=\"path490\" inkscape:connector-curvature=\"0\" style=\"fill:none;stroke:#c0c0c0;stroke-width:50\"/>\n",
       "       <path d=\"m 6802,4800 51,0\" id=\"path492\" inkscape:connector-curvature=\"0\" style=\"fill:none;stroke:#c0c0c0;stroke-width:50\"/>\n",
       "       <path d=\"m 6904,4800 51,0\" id=\"path494\" inkscape:connector-curvature=\"0\" style=\"fill:none;stroke:#c0c0c0;stroke-width:50\"/>\n",
       "       <path d=\"m 7006,4800 51,0\" id=\"path496\" inkscape:connector-curvature=\"0\" style=\"fill:none;stroke:#c0c0c0;stroke-width:50\"/>\n",
       "       <path d=\"m 7108,4800 51,0\" id=\"path498\" inkscape:connector-curvature=\"0\" style=\"fill:none;stroke:#c0c0c0;stroke-width:50\"/>\n",
       "       <path d=\"m 7210,4800 51,0\" id=\"path500\" inkscape:connector-curvature=\"0\" style=\"fill:none;stroke:#c0c0c0;stroke-width:50\"/>\n",
       "       <path d=\"m 7312,4800 51,0\" id=\"path502\" inkscape:connector-curvature=\"0\" style=\"fill:none;stroke:#c0c0c0;stroke-width:50\"/>\n",
       "       <path d=\"m 7414,4800 51,0\" id=\"path504\" inkscape:connector-curvature=\"0\" style=\"fill:none;stroke:#c0c0c0;stroke-width:50\"/>\n",
       "       <path d=\"m 7516,4800 51,0\" id=\"path506\" inkscape:connector-curvature=\"0\" style=\"fill:none;stroke:#c0c0c0;stroke-width:50\"/>\n",
       "       <path d=\"m 7618,4800 51,0\" id=\"path508\" inkscape:connector-curvature=\"0\" style=\"fill:none;stroke:#c0c0c0;stroke-width:50\"/>\n",
       "       <path d=\"m 7720,4800 51,0\" id=\"path510\" inkscape:connector-curvature=\"0\" style=\"fill:none;stroke:#c0c0c0;stroke-width:50\"/>\n",
       "       <path d=\"m 7822,4800 51,0\" id=\"path512\" inkscape:connector-curvature=\"0\" style=\"fill:none;stroke:#c0c0c0;stroke-width:50\"/>\n",
       "       <path d=\"m 7924,4800 51,0\" id=\"path514\" inkscape:connector-curvature=\"0\" style=\"fill:none;stroke:#c0c0c0;stroke-width:50\"/>\n",
       "       <path d=\"m 8026,4800 51,0\" id=\"path516\" inkscape:connector-curvature=\"0\" style=\"fill:none;stroke:#c0c0c0;stroke-width:50\"/>\n",
       "       <path d=\"m 8128,4800 51,0\" id=\"path518\" inkscape:connector-curvature=\"0\" style=\"fill:none;stroke:#c0c0c0;stroke-width:50\"/>\n",
       "       <path d=\"m 8230,4800 51,0\" id=\"path520\" inkscape:connector-curvature=\"0\" style=\"fill:none;stroke:#c0c0c0;stroke-width:50\"/>\n",
       "       <path d=\"m 8332,4800 51,0\" id=\"path522\" inkscape:connector-curvature=\"0\" style=\"fill:none;stroke:#c0c0c0;stroke-width:50\"/>\n",
       "       <path d=\"m 8434,4800 51,0\" id=\"path524\" inkscape:connector-curvature=\"0\" style=\"fill:none;stroke:#c0c0c0;stroke-width:50\"/>\n",
       "       <path d=\"m 8536,4800 51,0\" id=\"path526\" inkscape:connector-curvature=\"0\" style=\"fill:none;stroke:#c0c0c0;stroke-width:50\"/>\n",
       "       <path d=\"m 8638,4800 51,0\" id=\"path528\" inkscape:connector-curvature=\"0\" style=\"fill:none;stroke:#c0c0c0;stroke-width:50\"/>\n",
       "       <path d=\"m 8740,4800 51,0\" id=\"path530\" inkscape:connector-curvature=\"0\" style=\"fill:none;stroke:#c0c0c0;stroke-width:50\"/>\n",
       "       <path d=\"m 8842,4800 51,0\" id=\"path532\" inkscape:connector-curvature=\"0\" style=\"fill:none;stroke:#c0c0c0;stroke-width:50\"/>\n",
       "       <path d=\"m 8944,4800 51,0\" id=\"path534\" inkscape:connector-curvature=\"0\" style=\"fill:none;stroke:#c0c0c0;stroke-width:50\"/>\n",
       "       <path d=\"m 9046,4800 51,0\" id=\"path536\" inkscape:connector-curvature=\"0\" style=\"fill:none;stroke:#c0c0c0;stroke-width:50\"/>\n",
       "       <path d=\"m 9148,4800 51,0\" id=\"path538\" inkscape:connector-curvature=\"0\" style=\"fill:none;stroke:#c0c0c0;stroke-width:50\"/>\n",
       "       <path d=\"m 9250,4800 51,0\" id=\"path540\" inkscape:connector-curvature=\"0\" style=\"fill:none;stroke:#c0c0c0;stroke-width:50\"/>\n",
       "       <path d=\"m 9352,4800 51,0\" id=\"path542\" inkscape:connector-curvature=\"0\" style=\"fill:none;stroke:#c0c0c0;stroke-width:50\"/>\n",
       "       <path d=\"m 9454,4800 51,0\" id=\"path544\" inkscape:connector-curvature=\"0\" style=\"fill:none;stroke:#c0c0c0;stroke-width:50\"/>\n",
       "       <path d=\"m 9556,4800 51,0\" id=\"path546\" inkscape:connector-curvature=\"0\" style=\"fill:none;stroke:#c0c0c0;stroke-width:50\"/>\n",
       "       <path d=\"m 9658,4800 51,0\" id=\"path548\" inkscape:connector-curvature=\"0\" style=\"fill:none;stroke:#c0c0c0;stroke-width:50\"/>\n",
       "       <path d=\"m 9760,4800 51,0\" id=\"path550\" inkscape:connector-curvature=\"0\" style=\"fill:none;stroke:#c0c0c0;stroke-width:50\"/>\n",
       "       <path d=\"m 9862,4800 51,0\" id=\"path552\" inkscape:connector-curvature=\"0\" style=\"fill:none;stroke:#c0c0c0;stroke-width:50\"/>\n",
       "       <path d=\"m 9964,4800 51,0\" id=\"path554\" inkscape:connector-curvature=\"0\" style=\"fill:none;stroke:#c0c0c0;stroke-width:50\"/>\n",
       "       <path d=\"m 10066,4800 51,0\" id=\"path556\" inkscape:connector-curvature=\"0\" style=\"fill:none;stroke:#c0c0c0;stroke-width:50\"/>\n",
       "       <path d=\"m 10168,4800 51,0\" id=\"path558\" inkscape:connector-curvature=\"0\" style=\"fill:none;stroke:#c0c0c0;stroke-width:50\"/>\n",
       "       <path d=\"m 10270,4800 51,0\" id=\"path560\" inkscape:connector-curvature=\"0\" style=\"fill:none;stroke:#c0c0c0;stroke-width:50\"/>\n",
       "       <path d=\"m 10372,4800 51,0\" id=\"path562\" inkscape:connector-curvature=\"0\" style=\"fill:none;stroke:#c0c0c0;stroke-width:50\"/>\n",
       "       <path d=\"m 10474,4800 51,0\" id=\"path564\" inkscape:connector-curvature=\"0\" style=\"fill:none;stroke:#c0c0c0;stroke-width:50\"/>\n",
       "       <path d=\"m 10576,4800 51,0\" id=\"path566\" inkscape:connector-curvature=\"0\" style=\"fill:none;stroke:#c0c0c0;stroke-width:50\"/>\n",
       "       <path d=\"m 10678,4800 51,0\" id=\"path568\" inkscape:connector-curvature=\"0\" style=\"fill:none;stroke:#c0c0c0;stroke-width:50\"/>\n",
       "       <path d=\"m 10780,4800 20,0\" id=\"path570\" inkscape:connector-curvature=\"0\" style=\"fill:none;stroke:#c0c0c0;stroke-width:50\"/>\n",
       "      </g>\n",
       "     </g>\n",
       "    </g>\n",
       "   </g>\n",
       "  </g>\n",
       " </g>\n",
       "</svg>"
      ],
      "text/plain": [
       "<IPython.core.display.SVG object>"
      ]
     },
     "execution_count": 4,
     "metadata": {},
     "output_type": "execute_result"
    }
   ],
   "source": [
    "from IPython.display import Image, SVG\n",
    "import pytest\n",
    "SVG('http://swcarpentry.github.io/python-novice-inflammation/fig/python-overlapping-ranges.svg')"
   ]
  },
  {
   "cell_type": "markdown",
   "metadata": {},
   "source": [
    "Most novice programmers would solve this problem like this:\n",
    "\n",
    "Write a function range_overlap.\n",
    "Call it interactively on two or three different inputs.\n",
    "If it produces the wrong answer, fix the function and re-run that test.\n",
    "This clearly works — after all, thousands of scientists are doing it right now — but there’s a better way:\n",
    "\n",
    "Write a short function for each test.\n",
    "Write a range_overlap function that should pass those tests.\n",
    "If range_overlap produces any wrong answers, fix it and re-run the test functions.\n",
    "Writing the tests before writing the function they exercise is called test-driven development (TDD). Its advocates believe it produces better code faster because:\n",
    "\n",
    "If people write tests after writing the thing to be tested, they are subject to confirmation bias, i.e., they subconsciously write tests to show that their code is correct, rather than to find errors.\n",
    "Writing tests helps programmers figure out what the function is actually supposed to do.\n",
    "Here are three test functions for range_overlap:\n",
    "\n"
   ]
  },
  {
   "cell_type": "code",
   "execution_count": 6,
   "metadata": {
    "collapsed": false
   },
   "outputs": [
    {
     "ename": "NameError",
     "evalue": "name 'range_overlap' is not defined",
     "output_type": "error",
     "traceback": [
      "\u001b[1;31m---------------------------------------------------------------------------\u001b[0m\n\u001b[1;31mNameError\u001b[0m                                 Traceback (most recent call last)",
      "\u001b[1;32m<ipython-input-6-d8be150fbef6>\u001b[0m in \u001b[0;36m<module>\u001b[1;34m()\u001b[0m\n\u001b[1;32m----> 1\u001b[1;33m \u001b[1;32massert\u001b[0m \u001b[0mrange_overlap\u001b[0m\u001b[1;33m(\u001b[0m\u001b[1;33m[\u001b[0m \u001b[1;33m(\u001b[0m\u001b[1;36m0.0\u001b[0m\u001b[1;33m,\u001b[0m \u001b[1;36m1.0\u001b[0m\u001b[1;33m)\u001b[0m \u001b[1;33m]\u001b[0m\u001b[1;33m)\u001b[0m \u001b[1;33m==\u001b[0m \u001b[1;33m(\u001b[0m\u001b[1;36m0.0\u001b[0m\u001b[1;33m,\u001b[0m \u001b[1;36m1.0\u001b[0m\u001b[1;33m)\u001b[0m\u001b[1;33m\u001b[0m\u001b[0m\n\u001b[0m\u001b[0;32m      2\u001b[0m \u001b[1;32massert\u001b[0m \u001b[0mrange_overlap\u001b[0m\u001b[1;33m(\u001b[0m\u001b[1;33m[\u001b[0m \u001b[1;33m(\u001b[0m\u001b[1;36m2.0\u001b[0m\u001b[1;33m,\u001b[0m \u001b[1;36m3.0\u001b[0m\u001b[1;33m)\u001b[0m\u001b[1;33m,\u001b[0m \u001b[1;33m(\u001b[0m\u001b[1;36m2.0\u001b[0m\u001b[1;33m,\u001b[0m \u001b[1;36m4.0\u001b[0m\u001b[1;33m)\u001b[0m \u001b[1;33m]\u001b[0m\u001b[1;33m)\u001b[0m \u001b[1;33m==\u001b[0m \u001b[1;33m(\u001b[0m\u001b[1;36m2.0\u001b[0m\u001b[1;33m,\u001b[0m \u001b[1;36m3.0\u001b[0m\u001b[1;33m)\u001b[0m\u001b[1;33m\u001b[0m\u001b[0m\n\u001b[0;32m      3\u001b[0m \u001b[1;32massert\u001b[0m \u001b[0mrange_overlap\u001b[0m\u001b[1;33m(\u001b[0m\u001b[1;33m[\u001b[0m \u001b[1;33m(\u001b[0m\u001b[1;36m0.0\u001b[0m\u001b[1;33m,\u001b[0m \u001b[1;36m1.0\u001b[0m\u001b[1;33m)\u001b[0m\u001b[1;33m,\u001b[0m \u001b[1;33m(\u001b[0m\u001b[1;36m0.0\u001b[0m\u001b[1;33m,\u001b[0m \u001b[1;36m2.0\u001b[0m\u001b[1;33m)\u001b[0m\u001b[1;33m,\u001b[0m \u001b[1;33m(\u001b[0m\u001b[1;33m-\u001b[0m\u001b[1;36m1.0\u001b[0m\u001b[1;33m,\u001b[0m \u001b[1;36m1.0\u001b[0m\u001b[1;33m)\u001b[0m \u001b[1;33m]\u001b[0m\u001b[1;33m)\u001b[0m \u001b[1;33m==\u001b[0m \u001b[1;33m(\u001b[0m\u001b[1;36m0.0\u001b[0m\u001b[1;33m,\u001b[0m \u001b[1;36m1.0\u001b[0m\u001b[1;33m)\u001b[0m\u001b[1;33m\u001b[0m\u001b[0m\n",
      "\u001b[1;31mNameError\u001b[0m: name 'range_overlap' is not defined"
     ]
    }
   ],
   "source": [
    "assert range_overlap([ (0.0, 1.0) ]) == (0.0, 1.0)\n",
    "assert range_overlap([ (2.0, 3.0), (2.0, 4.0) ]) == (2.0, 3.0)\n",
    "assert range_overlap([ (0.0, 1.0), (0.0, 2.0), (-1.0, 1.0) ]) == (0.0, 1.0)"
   ]
  },
  {
   "cell_type": "markdown",
   "metadata": {},
   "source": [
    "The error is actually reassuring: we haven’t written range_overlap yet, so if the tests passed, it would be a sign that someone else had and that we were accidentally using their function.\n",
    "\n",
    "And as a bonus of writing these tests, we’ve implicitly defined what our input and output look like: we expect a list of pairs as input, and produce a single pair as output.\n",
    "\n",
    "Something important is missing, though. We don’t have any tests for the case where the ranges don’t overlap at all:\n",
    "\n"
   ]
  },
  {
   "cell_type": "code",
   "execution_count": 7,
   "metadata": {
    "collapsed": false
   },
   "outputs": [
    {
     "ename": "SyntaxError",
     "evalue": "invalid syntax (<ipython-input-7-cf12f48f208b>, line 1)",
     "output_type": "error",
     "traceback": [
      "\u001b[1;36m  File \u001b[1;32m\"<ipython-input-7-cf12f48f208b>\"\u001b[1;36m, line \u001b[1;32m1\u001b[0m\n\u001b[1;33m    assert range_overlap([ (0.0, 1.0), (5.0, 6.0) ]) == ???\u001b[0m\n\u001b[1;37m                                                        ^\u001b[0m\n\u001b[1;31mSyntaxError\u001b[0m\u001b[1;31m:\u001b[0m invalid syntax\n"
     ]
    }
   ],
   "source": [
    "assert range_overlap([ (0.0, 1.0), (5.0, 6.0) ]) == ???\n"
   ]
  },
  {
   "cell_type": "markdown",
   "metadata": {},
   "source": [
    "What should range_overlap do in this case: fail with an error message, produce a special value like (0.0, 0.0) to signal that there’s no overlap, or something else? Any actual implementation of the function will do one of these things; writing the tests first helps us figure out which is best before we’re emotionally invested in whatever we happened to write before we realized there was an issue.\n",
    "\n",
    "And what about this case?"
   ]
  },
  {
   "cell_type": "code",
   "execution_count": 8,
   "metadata": {
    "collapsed": false
   },
   "outputs": [
    {
     "ename": "SyntaxError",
     "evalue": "invalid syntax (<ipython-input-8-79ff80dec5ad>, line 1)",
     "output_type": "error",
     "traceback": [
      "\u001b[1;36m  File \u001b[1;32m\"<ipython-input-8-79ff80dec5ad>\"\u001b[1;36m, line \u001b[1;32m1\u001b[0m\n\u001b[1;33m    assert range_overlap([ (0.0, 1.0), (1.0, 2.0) ]) == ???\u001b[0m\n\u001b[1;37m                                                        ^\u001b[0m\n\u001b[1;31mSyntaxError\u001b[0m\u001b[1;31m:\u001b[0m invalid syntax\n"
     ]
    }
   ],
   "source": [
    "assert range_overlap([ (0.0, 1.0), (1.0, 2.0) ]) == ???\n"
   ]
  },
  {
   "cell_type": "markdown",
   "metadata": {},
   "source": [
    "Do two segments that touch at their endpoints overlap or not? Mathematicians usually say “yes”, but engineers usually say “no”. The best answer is “whatever is most useful in the rest of our program”, but again, any actual implementation of range_overlap is going to do something, and whatever it is ought to be consistent with what it does when there’s no overlap at all.\n",
    "\n",
    "Since we’re planning to use the range this function returns as the X axis in a time series chart, we decide that:\n",
    "\n",
    "every overlap has to have non-zero width, and\n",
    "we will return the special value None when there’s no overlap.\n",
    "None is built into Python, and means “nothing here”. (Other languages often call the equivalent value null or nil). With that decision made, we can finish writing our last two tests:"
   ]
  },
  {
   "cell_type": "code",
   "execution_count": 9,
   "metadata": {
    "collapsed": false
   },
   "outputs": [
    {
     "ename": "NameError",
     "evalue": "name 'range_overlap' is not defined",
     "output_type": "error",
     "traceback": [
      "\u001b[1;31m---------------------------------------------------------------------------\u001b[0m\n\u001b[1;31mNameError\u001b[0m                                 Traceback (most recent call last)",
      "\u001b[1;32m<ipython-input-9-d877ef460ba2>\u001b[0m in \u001b[0;36m<module>\u001b[1;34m()\u001b[0m\n\u001b[1;32m----> 1\u001b[1;33m \u001b[1;32massert\u001b[0m \u001b[0mrange_overlap\u001b[0m\u001b[1;33m(\u001b[0m\u001b[1;33m[\u001b[0m \u001b[1;33m(\u001b[0m\u001b[1;36m0.0\u001b[0m\u001b[1;33m,\u001b[0m \u001b[1;36m1.0\u001b[0m\u001b[1;33m)\u001b[0m\u001b[1;33m,\u001b[0m \u001b[1;33m(\u001b[0m\u001b[1;36m5.0\u001b[0m\u001b[1;33m,\u001b[0m \u001b[1;36m6.0\u001b[0m\u001b[1;33m)\u001b[0m \u001b[1;33m]\u001b[0m\u001b[1;33m)\u001b[0m \u001b[1;33m==\u001b[0m \u001b[0mNone\u001b[0m\u001b[1;33m\u001b[0m\u001b[0m\n\u001b[0m\u001b[0;32m      2\u001b[0m \u001b[1;32massert\u001b[0m \u001b[0mrange_overlap\u001b[0m\u001b[1;33m(\u001b[0m\u001b[1;33m[\u001b[0m \u001b[1;33m(\u001b[0m\u001b[1;36m0.0\u001b[0m\u001b[1;33m,\u001b[0m \u001b[1;36m1.0\u001b[0m\u001b[1;33m)\u001b[0m\u001b[1;33m,\u001b[0m \u001b[1;33m(\u001b[0m\u001b[1;36m1.0\u001b[0m\u001b[1;33m,\u001b[0m \u001b[1;36m2.0\u001b[0m\u001b[1;33m)\u001b[0m \u001b[1;33m]\u001b[0m\u001b[1;33m)\u001b[0m \u001b[1;33m==\u001b[0m \u001b[0mNone\u001b[0m\u001b[1;33m\u001b[0m\u001b[0m\n",
      "\u001b[1;31mNameError\u001b[0m: name 'range_overlap' is not defined"
     ]
    }
   ],
   "source": [
    "assert range_overlap([ (0.0, 1.0), (5.0, 6.0) ]) == None\n",
    "assert range_overlap([ (0.0, 1.0), (1.0, 2.0) ]) == None\n"
   ]
  },
  {
   "cell_type": "markdown",
   "metadata": {},
   "source": [
    "Again, we get an error because we haven’t written our function, but we’re now ready to do so:\n",
    "\n"
   ]
  },
  {
   "cell_type": "code",
   "execution_count": 11,
   "metadata": {
    "collapsed": false
   },
   "outputs": [],
   "source": [
    "def range_overlap(ranges):\n",
    "    '''Return common overlap among a set of [low, high] ranges.'''\n",
    "    lowest = 0.0\n",
    "    highest = 1.0\n",
    "    for (low, high) in ranges:\n",
    "        lowest = max(lowest, low)\n",
    "        highest = min(highest, high)\n",
    "    return (lowest, highest)"
   ]
  },
  {
   "cell_type": "markdown",
   "metadata": {},
   "source": [
    "(Take a moment to think about why we use max to raise lowest and min to lower highest). We’d now like to re-run our tests, but they’re scattered across three different cells. To make running them easier, let’s put them all in a function:\n",
    "\n"
   ]
  },
  {
   "cell_type": "code",
   "execution_count": 12,
   "metadata": {
    "collapsed": false
   },
   "outputs": [],
   "source": [
    "def test_range_overlap():\n",
    "    assert range_overlap([ (0.0, 1.0), (5.0, 6.0) ]) == None\n",
    "    assert range_overlap([ (0.0, 1.0), (1.0, 2.0) ]) == None\n",
    "    assert range_overlap([ (0.0, 1.0) ]) == (0.0, 1.0)\n",
    "    assert range_overlap([ (2.0, 3.0), (2.0, 4.0) ]) == (2.0, 3.0)\n",
    "    assert range_overlap([ (0.0, 1.0), (0.0, 2.0), (-1.0, 1.0) ]) == (0.0, 1.0)"
   ]
  },
  {
   "cell_type": "markdown",
   "metadata": {},
   "source": [
    "We can now test range_overlap with a single function call:\n",
    "\n"
   ]
  },
  {
   "cell_type": "code",
   "execution_count": 13,
   "metadata": {
    "collapsed": false
   },
   "outputs": [
    {
     "ename": "AssertionError",
     "evalue": "",
     "output_type": "error",
     "traceback": [
      "\u001b[1;31m---------------------------------------------------------------------------\u001b[0m\n\u001b[1;31mAssertionError\u001b[0m                            Traceback (most recent call last)",
      "\u001b[1;32m<ipython-input-13-cf9215c96457>\u001b[0m in \u001b[0;36m<module>\u001b[1;34m()\u001b[0m\n\u001b[1;32m----> 1\u001b[1;33m \u001b[0mtest_range_overlap\u001b[0m\u001b[1;33m(\u001b[0m\u001b[1;33m)\u001b[0m\u001b[1;33m\u001b[0m\u001b[0m\n\u001b[0m",
      "\u001b[1;32m<ipython-input-12-5d4cd6fd41d9>\u001b[0m in \u001b[0;36mtest_range_overlap\u001b[1;34m()\u001b[0m\n\u001b[0;32m      1\u001b[0m \u001b[1;32mdef\u001b[0m \u001b[0mtest_range_overlap\u001b[0m\u001b[1;33m(\u001b[0m\u001b[1;33m)\u001b[0m\u001b[1;33m:\u001b[0m\u001b[1;33m\u001b[0m\u001b[0m\n\u001b[1;32m----> 2\u001b[1;33m     \u001b[1;32massert\u001b[0m \u001b[0mrange_overlap\u001b[0m\u001b[1;33m(\u001b[0m\u001b[1;33m[\u001b[0m \u001b[1;33m(\u001b[0m\u001b[1;36m0.0\u001b[0m\u001b[1;33m,\u001b[0m \u001b[1;36m1.0\u001b[0m\u001b[1;33m)\u001b[0m\u001b[1;33m,\u001b[0m \u001b[1;33m(\u001b[0m\u001b[1;36m5.0\u001b[0m\u001b[1;33m,\u001b[0m \u001b[1;36m6.0\u001b[0m\u001b[1;33m)\u001b[0m \u001b[1;33m]\u001b[0m\u001b[1;33m)\u001b[0m \u001b[1;33m==\u001b[0m \u001b[0mNone\u001b[0m\u001b[1;33m\u001b[0m\u001b[0m\n\u001b[0m\u001b[0;32m      3\u001b[0m     \u001b[1;32massert\u001b[0m \u001b[0mrange_overlap\u001b[0m\u001b[1;33m(\u001b[0m\u001b[1;33m[\u001b[0m \u001b[1;33m(\u001b[0m\u001b[1;36m0.0\u001b[0m\u001b[1;33m,\u001b[0m \u001b[1;36m1.0\u001b[0m\u001b[1;33m)\u001b[0m\u001b[1;33m,\u001b[0m \u001b[1;33m(\u001b[0m\u001b[1;36m1.0\u001b[0m\u001b[1;33m,\u001b[0m \u001b[1;36m2.0\u001b[0m\u001b[1;33m)\u001b[0m \u001b[1;33m]\u001b[0m\u001b[1;33m)\u001b[0m \u001b[1;33m==\u001b[0m \u001b[0mNone\u001b[0m\u001b[1;33m\u001b[0m\u001b[0m\n\u001b[0;32m      4\u001b[0m     \u001b[1;32massert\u001b[0m \u001b[0mrange_overlap\u001b[0m\u001b[1;33m(\u001b[0m\u001b[1;33m[\u001b[0m \u001b[1;33m(\u001b[0m\u001b[1;36m0.0\u001b[0m\u001b[1;33m,\u001b[0m \u001b[1;36m1.0\u001b[0m\u001b[1;33m)\u001b[0m \u001b[1;33m]\u001b[0m\u001b[1;33m)\u001b[0m \u001b[1;33m==\u001b[0m \u001b[1;33m(\u001b[0m\u001b[1;36m0.0\u001b[0m\u001b[1;33m,\u001b[0m \u001b[1;36m1.0\u001b[0m\u001b[1;33m)\u001b[0m\u001b[1;33m\u001b[0m\u001b[0m\n\u001b[0;32m      5\u001b[0m     \u001b[1;32massert\u001b[0m \u001b[0mrange_overlap\u001b[0m\u001b[1;33m(\u001b[0m\u001b[1;33m[\u001b[0m \u001b[1;33m(\u001b[0m\u001b[1;36m2.0\u001b[0m\u001b[1;33m,\u001b[0m \u001b[1;36m3.0\u001b[0m\u001b[1;33m)\u001b[0m\u001b[1;33m,\u001b[0m \u001b[1;33m(\u001b[0m\u001b[1;36m2.0\u001b[0m\u001b[1;33m,\u001b[0m \u001b[1;36m4.0\u001b[0m\u001b[1;33m)\u001b[0m \u001b[1;33m]\u001b[0m\u001b[1;33m)\u001b[0m \u001b[1;33m==\u001b[0m \u001b[1;33m(\u001b[0m\u001b[1;36m2.0\u001b[0m\u001b[1;33m,\u001b[0m \u001b[1;36m3.0\u001b[0m\u001b[1;33m)\u001b[0m\u001b[1;33m\u001b[0m\u001b[0m\n",
      "\u001b[1;31mAssertionError\u001b[0m: "
     ]
    }
   ],
   "source": [
    "test_range_overlap()\n"
   ]
  },
  {
   "cell_type": "markdown",
   "metadata": {},
   "source": [
    "The first test that was supposed to produce None fails, so we know something is wrong with our function. We don’t know whether the other tests passed or failed because Python halted the program as soon as it spotted the first error. Still, some information is better than none, and if we trace the behavior of the function with that input, we realize that we’re initializing lowest and highest to 0.0 and 1.0 respectively, regardless of the input values. This violates another important rule of programming: always initialize from data.\n",
    "\n",
    "\n"
   ]
  },
  {
   "cell_type": "markdown",
   "metadata": {},
   "source": []
  },
  {
   "cell_type": "markdown",
   "metadata": {},
   "source": []
  },
  {
   "cell_type": "markdown",
   "metadata": {},
   "source": [
    "## Palindromes\n",
    "\n",
    "A classic basic programming task is to check whether a string is a palindrome. \n",
    "\n",
    "So the most simple palindrome we could have is a string containing a single character. So lets start by writing a test for that case"
   ]
  },
  {
   "cell_type": "code",
   "execution_count": 36,
   "metadata": {
    "collapsed": false
   },
   "outputs": [],
   "source": [
    "from ipywidgets import widgets"
   ]
  },
  {
   "cell_type": "code",
   "execution_count": 37,
   "metadata": {
    "code_folding": [],
    "collapsed": false
   },
   "outputs": [],
   "source": [
    "def test_is_palindrome():\n",
    "    assert is_palindrome(\"a\") == True\n",
    "\n"
   ]
  },
  {
   "cell_type": "markdown",
   "metadata": {},
   "source": [
    "Now that we have written our first test case, lets write the simplest code we can that will pass our test case."
   ]
  },
  {
   "cell_type": "code",
   "execution_count": 38,
   "metadata": {
    "collapsed": false
   },
   "outputs": [],
   "source": [
    "def is_palindrome(pal):\n",
    "    return len(pal) == 1\n",
    "\n",
    "test_is_palindrome()"
   ]
  },
  {
   "cell_type": "markdown",
   "metadata": {},
   "source": [
    "Our code has passed our test. Amazing. So lets add another test case, which is a bit more complex, and we suspect our code will fail to pass."
   ]
  },
  {
   "cell_type": "code",
   "execution_count": 39,
   "metadata": {
    "collapsed": false
   },
   "outputs": [
    {
     "ename": "AssertionError",
     "evalue": "",
     "output_type": "error",
     "traceback": [
      "\u001b[1;31m---------------------------------------------------------------------------\u001b[0m",
      "\u001b[1;31mAssertionError\u001b[0m                            Traceback (most recent call last)",
      "\u001b[1;32m<ipython-input-39-35822349bac1>\u001b[0m in \u001b[0;36m<module>\u001b[1;34m()\u001b[0m\n\u001b[0;32m      3\u001b[0m     \u001b[1;32massert\u001b[0m \u001b[0mis_palindrome\u001b[0m\u001b[1;33m(\u001b[0m\u001b[1;34m\"bb\"\u001b[0m \u001b[1;33m)\u001b[0m\u001b[1;33m==\u001b[0m \u001b[0mTrue\u001b[0m\u001b[1;33m\u001b[0m\u001b[0m\n\u001b[0;32m      4\u001b[0m \u001b[1;33m\u001b[0m\u001b[0m\n\u001b[1;32m----> 5\u001b[1;33m \u001b[0mtest_is_palindrome\u001b[0m\u001b[1;33m(\u001b[0m\u001b[1;33m)\u001b[0m\u001b[1;33m\u001b[0m\u001b[0m\n\u001b[0m",
      "\u001b[1;32m<ipython-input-39-35822349bac1>\u001b[0m in \u001b[0;36mtest_is_palindrome\u001b[1;34m()\u001b[0m\n\u001b[0;32m      1\u001b[0m \u001b[1;32mdef\u001b[0m \u001b[0mtest_is_palindrome\u001b[0m\u001b[1;33m(\u001b[0m\u001b[1;33m)\u001b[0m\u001b[1;33m:\u001b[0m\u001b[1;33m\u001b[0m\u001b[0m\n\u001b[0;32m      2\u001b[0m     \u001b[1;32massert\u001b[0m \u001b[0mis_palindrome\u001b[0m\u001b[1;33m(\u001b[0m\u001b[1;34m\"a\"\u001b[0m\u001b[1;33m)\u001b[0m \u001b[1;33m==\u001b[0m \u001b[0mTrue\u001b[0m\u001b[1;33m\u001b[0m\u001b[0m\n\u001b[1;32m----> 3\u001b[1;33m     \u001b[1;32massert\u001b[0m \u001b[0mis_palindrome\u001b[0m\u001b[1;33m(\u001b[0m\u001b[1;34m\"bb\"\u001b[0m \u001b[1;33m)\u001b[0m\u001b[1;33m==\u001b[0m \u001b[0mTrue\u001b[0m\u001b[1;33m\u001b[0m\u001b[0m\n\u001b[0m\u001b[0;32m      4\u001b[0m \u001b[1;33m\u001b[0m\u001b[0m\n\u001b[0;32m      5\u001b[0m \u001b[0mtest_is_palindrome\u001b[0m\u001b[1;33m(\u001b[0m\u001b[1;33m)\u001b[0m\u001b[1;33m\u001b[0m\u001b[0m\n",
      "\u001b[1;31mAssertionError\u001b[0m: "
     ]
    }
   ],
   "source": [
    "def test_is_palindrome():\n",
    "    assert is_palindrome(\"a\") == True\n",
    "    assert is_palindrome(\"bb\" )== True\n",
    "    \n",
    "test_is_palindrome()"
   ]
  },
  {
   "cell_type": "markdown",
   "metadata": {},
   "source": [
    "With the addition of the new test case, our code is no longer passing all the tests. So once again we are going to change our program to handle the new test case. When attempting this section, it is probably easiest to use Pythons built in list operations, but you can use loops if you so desire."
   ]
  },
  {
   "cell_type": "code",
   "execution_count": 40,
   "metadata": {
    "collapsed": false
   },
   "outputs": [],
   "source": [
    "def is_palindrome(pal):\n",
    "    return pal[::-1]==pal\n",
    "test_is_palindrome()\n"
   ]
  },
  {
   "cell_type": "markdown",
   "metadata": {},
   "source": [
    "Once again our code is passing all our tests. It may feel as though we have finished with our \n",
    "    is_palindrome\n",
    "function, it seems to be working ok. But what about some more \"real world\" cases. For example, which happens if there is leading or trailing whitespace in the string we are checking i.e \"   kayak \". "
   ]
  },
  {
   "cell_type": "code",
   "execution_count": 41,
   "metadata": {
    "collapsed": false
   },
   "outputs": [
    {
     "ename": "AssertionError",
     "evalue": "",
     "output_type": "error",
     "traceback": [
      "\u001b[1;31m---------------------------------------------------------------------------\u001b[0m",
      "\u001b[1;31mAssertionError\u001b[0m                            Traceback (most recent call last)",
      "\u001b[1;32m<ipython-input-41-e52465651f71>\u001b[0m in \u001b[0;36m<module>\u001b[1;34m()\u001b[0m\n\u001b[0;32m      4\u001b[0m     \u001b[1;32massert\u001b[0m \u001b[0mis_palindrome\u001b[0m\u001b[1;33m(\u001b[0m\u001b[1;34m\"ab3d\"\u001b[0m\u001b[1;33m)\u001b[0m\u001b[1;33m==\u001b[0m\u001b[0mFalse\u001b[0m\u001b[1;33m\u001b[0m\u001b[0m\n\u001b[0;32m      5\u001b[0m     \u001b[1;32massert\u001b[0m \u001b[0mis_palindrome\u001b[0m\u001b[1;33m(\u001b[0m\u001b[1;34m\"  kayak \"\u001b[0m\u001b[1;33m)\u001b[0m\u001b[1;33m==\u001b[0m\u001b[0mTrue\u001b[0m\u001b[1;33m\u001b[0m\u001b[0m\n\u001b[1;32m----> 6\u001b[1;33m \u001b[0mtest_is_palindrome\u001b[0m\u001b[1;33m(\u001b[0m\u001b[1;33m)\u001b[0m\u001b[1;33m\u001b[0m\u001b[0m\n\u001b[0m",
      "\u001b[1;32m<ipython-input-41-e52465651f71>\u001b[0m in \u001b[0;36mtest_is_palindrome\u001b[1;34m()\u001b[0m\n\u001b[0;32m      3\u001b[0m     \u001b[1;32massert\u001b[0m \u001b[0mis_palindrome\u001b[0m\u001b[1;33m(\u001b[0m\u001b[1;34m\"bb\"\u001b[0m\u001b[1;33m)\u001b[0m\u001b[1;33m==\u001b[0m\u001b[0mTrue\u001b[0m\u001b[1;33m\u001b[0m\u001b[0m\n\u001b[0;32m      4\u001b[0m     \u001b[1;32massert\u001b[0m \u001b[0mis_palindrome\u001b[0m\u001b[1;33m(\u001b[0m\u001b[1;34m\"ab3d\"\u001b[0m\u001b[1;33m)\u001b[0m\u001b[1;33m==\u001b[0m\u001b[0mFalse\u001b[0m\u001b[1;33m\u001b[0m\u001b[0m\n\u001b[1;32m----> 5\u001b[1;33m     \u001b[1;32massert\u001b[0m \u001b[0mis_palindrome\u001b[0m\u001b[1;33m(\u001b[0m\u001b[1;34m\"  kayak \"\u001b[0m\u001b[1;33m)\u001b[0m\u001b[1;33m==\u001b[0m\u001b[0mTrue\u001b[0m\u001b[1;33m\u001b[0m\u001b[0m\n\u001b[0m\u001b[0;32m      6\u001b[0m \u001b[0mtest_is_palindrome\u001b[0m\u001b[1;33m(\u001b[0m\u001b[1;33m)\u001b[0m\u001b[1;33m\u001b[0m\u001b[0m\n",
      "\u001b[1;31mAssertionError\u001b[0m: "
     ]
    }
   ],
   "source": [
    "def test_is_palindrome():\n",
    "    assert is_palindrome(\"a\") == True\n",
    "    assert is_palindrome(\"bb\")==True\n",
    "    assert is_palindrome(\"ab3d\")==False\n",
    "    assert is_palindrome(\"  kayak \")==True\n",
    "test_is_palindrome()"
   ]
  },
  {
   "cell_type": "markdown",
   "metadata": {},
   "source": [
    "Our code didn't pass our new test. So we need to take out the whitespace at the start and end of the string \"  kayak \". Python strings have inbuilt methods which can do this for us. I suggest you try google your way out of this one. In all seriousness, programming involves a fair amount of googling; don't try and re invent the wheel but at the same time don't blindy copy and paste code. [Stackoverflow](Stackoverflow.com) is an excellent resource for answering programming related questions, there is a good chance someone has already asked the question you have."
   ]
  },
  {
   "cell_type": "code",
   "execution_count": 42,
   "metadata": {
    "collapsed": false
   },
   "outputs": [],
   "source": [
    "def is_palindrome(pal):\n",
    "    pal=pal.strip()\n",
    "    return pal[::-1]==pal\n",
    "\n",
    "test_is_palindrome()\n"
   ]
  },
  {
   "cell_type": "markdown",
   "metadata": {},
   "source": [
    "Now that we can handle whitespace, what about other characters, such as numbers and capital letters? "
   ]
  },
  {
   "cell_type": "code",
   "execution_count": 43,
   "metadata": {
    "collapsed": false
   },
   "outputs": [
    {
     "ename": "AssertionError",
     "evalue": "",
     "output_type": "error",
     "traceback": [
      "\u001b[1;31m---------------------------------------------------------------------------\u001b[0m",
      "\u001b[1;31mAssertionError\u001b[0m                            Traceback (most recent call last)",
      "\u001b[1;32m<ipython-input-43-22ce9489b27e>\u001b[0m in \u001b[0;36m<module>\u001b[1;34m()\u001b[0m\n\u001b[0;32m      5\u001b[0m     \u001b[1;32massert\u001b[0m \u001b[0mis_palindrome\u001b[0m\u001b[1;33m(\u001b[0m\u001b[1;34m\"d33d\"\u001b[0m\u001b[1;33m)\u001b[0m\u001b[1;33m==\u001b[0m\u001b[0mTrue\u001b[0m\u001b[1;33m\u001b[0m\u001b[0m\n\u001b[0;32m      6\u001b[0m     \u001b[1;32massert\u001b[0m \u001b[0mis_palindrome\u001b[0m\u001b[1;33m(\u001b[0m\u001b[1;34m\" Noon   \"\u001b[0m\u001b[1;33m)\u001b[0m\u001b[1;33m==\u001b[0m\u001b[0mTrue\u001b[0m\u001b[1;33m\u001b[0m\u001b[0m\n\u001b[1;32m----> 7\u001b[1;33m \u001b[0mtest_is_palindrome\u001b[0m\u001b[1;33m(\u001b[0m\u001b[1;33m)\u001b[0m\u001b[1;33m\u001b[0m\u001b[0m\n\u001b[0m",
      "\u001b[1;32m<ipython-input-43-22ce9489b27e>\u001b[0m in \u001b[0;36mtest_is_palindrome\u001b[1;34m()\u001b[0m\n\u001b[0;32m      4\u001b[0m     \u001b[1;32massert\u001b[0m \u001b[0mis_palindrome\u001b[0m\u001b[1;33m(\u001b[0m\u001b[1;34m\"  kayak\"\u001b[0m\u001b[1;33m)\u001b[0m\u001b[1;33m==\u001b[0m\u001b[0mTrue\u001b[0m\u001b[1;33m\u001b[0m\u001b[0m\n\u001b[0;32m      5\u001b[0m     \u001b[1;32massert\u001b[0m \u001b[0mis_palindrome\u001b[0m\u001b[1;33m(\u001b[0m\u001b[1;34m\"d33d\"\u001b[0m\u001b[1;33m)\u001b[0m\u001b[1;33m==\u001b[0m\u001b[0mTrue\u001b[0m\u001b[1;33m\u001b[0m\u001b[0m\n\u001b[1;32m----> 6\u001b[1;33m     \u001b[1;32massert\u001b[0m \u001b[0mis_palindrome\u001b[0m\u001b[1;33m(\u001b[0m\u001b[1;34m\" Noon   \"\u001b[0m\u001b[1;33m)\u001b[0m\u001b[1;33m==\u001b[0m\u001b[0mTrue\u001b[0m\u001b[1;33m\u001b[0m\u001b[0m\n\u001b[0m\u001b[0;32m      7\u001b[0m \u001b[0mtest_is_palindrome\u001b[0m\u001b[1;33m(\u001b[0m\u001b[1;33m)\u001b[0m\u001b[1;33m\u001b[0m\u001b[0m\n",
      "\u001b[1;31mAssertionError\u001b[0m: "
     ]
    }
   ],
   "source": [
    "def test_is_palindrome():\n",
    "    assert is_palindrome(\"a\") == True\n",
    "    assert is_palindrome(\"bb\")==True\n",
    "    assert is_palindrome(\"  kayak\")==True\n",
    "    assert is_palindrome(\"d33d\")==True\n",
    "    assert is_palindrome(\" Noon   \")==True\n",
    "test_is_palindrome()"
   ]
  },
  {
   "cell_type": "code",
   "execution_count": 44,
   "metadata": {
    "collapsed": false
   },
   "outputs": [],
   "source": [
    "def is_palindrome(pal):\n",
    "    pal=pal.lower()\n",
    "    pal=pal.strip()\n",
    "    return pal[::-1]==pal\n",
    "\n",
    "test_is_palindrome()"
   ]
  },
  {
   "cell_type": "markdown",
   "metadata": {},
   "source": [
    "Finally, what about punctuation? should we specify that it is part of the palindrome, or ignore it? If you are feeling up for it, try implement a version of \n",
    "    is_palindrome\n",
    "that removes all punctuation from the test string. Check that it passes the new test added."
   ]
  },
  {
   "cell_type": "code",
   "execution_count": 49,
   "metadata": {
    "collapsed": false
   },
   "outputs": [
    {
     "ename": "AssertionError",
     "evalue": "",
     "output_type": "error",
     "traceback": [
      "\u001b[1;31m---------------------------------------------------------------------------\u001b[0m",
      "\u001b[1;31mAssertionError\u001b[0m                            Traceback (most recent call last)",
      "\u001b[1;32m<ipython-input-49-71e6eba2f1f9>\u001b[0m in \u001b[0;36m<module>\u001b[1;34m()\u001b[0m\n\u001b[0;32m      6\u001b[0m     \u001b[1;32massert\u001b[0m \u001b[0mis_palindrome\u001b[0m\u001b[1;33m(\u001b[0m\u001b[1;34m\" Noon   \"\u001b[0m\u001b[1;33m)\u001b[0m\u001b[1;33m==\u001b[0m\u001b[0mTrue\u001b[0m\u001b[1;33m\u001b[0m\u001b[0m\n\u001b[0;32m      7\u001b[0m     \u001b[1;32massert\u001b[0m \u001b[0mis_palindrome\u001b[0m\u001b[1;33m(\u001b[0m\u001b[1;34m\"\\\"Sirrah! Deliver deified desserts detartrated!\\\" stressed deified, reviled Harris.\"\u001b[0m\u001b[1;33m)\u001b[0m\u001b[1;33m==\u001b[0m\u001b[0mTrue\u001b[0m\u001b[1;33m\u001b[0m\u001b[0m\n\u001b[1;32m----> 8\u001b[1;33m \u001b[0mtest_is_palindrome\u001b[0m\u001b[1;33m(\u001b[0m\u001b[1;33m)\u001b[0m\u001b[1;33m\u001b[0m\u001b[0m\n\u001b[0m\u001b[0;32m      9\u001b[0m \u001b[1;33m\u001b[0m\u001b[0m\n\u001b[0;32m     10\u001b[0m \u001b[1;33m\u001b[0m\u001b[0m\n",
      "\u001b[1;32m<ipython-input-49-71e6eba2f1f9>\u001b[0m in \u001b[0;36mtest_is_palindrome\u001b[1;34m()\u001b[0m\n\u001b[0;32m      5\u001b[0m     \u001b[1;32massert\u001b[0m \u001b[0mis_palindrome\u001b[0m\u001b[1;33m(\u001b[0m\u001b[1;34m\"  kayak\"\u001b[0m\u001b[1;33m)\u001b[0m\u001b[1;33m==\u001b[0m\u001b[0mTrue\u001b[0m\u001b[1;33m\u001b[0m\u001b[0m\n\u001b[0;32m      6\u001b[0m     \u001b[1;32massert\u001b[0m \u001b[0mis_palindrome\u001b[0m\u001b[1;33m(\u001b[0m\u001b[1;34m\" Noon   \"\u001b[0m\u001b[1;33m)\u001b[0m\u001b[1;33m==\u001b[0m\u001b[0mTrue\u001b[0m\u001b[1;33m\u001b[0m\u001b[0m\n\u001b[1;32m----> 7\u001b[1;33m     \u001b[1;32massert\u001b[0m \u001b[0mis_palindrome\u001b[0m\u001b[1;33m(\u001b[0m\u001b[1;34m\"\\\"Sirrah! Deliver deified desserts detartrated!\\\" stressed deified, reviled Harris.\"\u001b[0m\u001b[1;33m)\u001b[0m\u001b[1;33m==\u001b[0m\u001b[0mTrue\u001b[0m\u001b[1;33m\u001b[0m\u001b[0m\n\u001b[0m\u001b[0;32m      8\u001b[0m \u001b[0mtest_is_palindrome\u001b[0m\u001b[1;33m(\u001b[0m\u001b[1;33m)\u001b[0m\u001b[1;33m\u001b[0m\u001b[0m\n\u001b[0;32m      9\u001b[0m \u001b[1;33m\u001b[0m\u001b[0m\n",
      "\u001b[1;31mAssertionError\u001b[0m: "
     ]
    }
   ],
   "source": [
    "def test_is_palindrome():\n",
    "    assert is_palindrome(\"a\") == True\n",
    "    assert is_palindrome(\"bb\")==True\n",
    "    assert is_palindrome(\"ab3d\")==False\n",
    "    assert is_palindrome(\"  kayak\")==True\n",
    "    assert is_palindrome(\" Noon   \")==True\n",
    "    assert is_palindrome(\"\\\"Sirrah! Deliver deified desserts detartrated!\\\" stressed deified, reviled Harris.\")==True\n",
    "test_is_palindrome()\n",
    "\n",
    "\n"
   ]
  },
  {
   "cell_type": "markdown",
   "metadata": {},
   "source": [
    "## Naming standards for our tests\n",
    "\n",
    "So far we have been lumping all our tests together inside a single function. There are a couple of issues with this. When a test fails, the remaining tests will not run. Secondly, its hard to know exactally which test failed and why, we have to inspect the arguments we passed to our palindrome function to work out exactally what we are testing. So the first thing we need to do is split our tests into different function, one function per test. After that we need to name our functions so that we can work out what they are testing soley based on the name. \n",
    "\n",
    "So how do we name our test functions? There are no hard and fast rules, but a common way to name a test is **test\\_\\[test\\_name\\]**. Following these conventions our palindrome tests would look like the following"
   ]
  },
  {
   "cell_type": "code",
   "execution_count": 50,
   "metadata": {
    "collapsed": true
   },
   "outputs": [],
   "source": [
    "\n",
    "def test_single_character_palindrome():\n",
    "    assert is_palindrome(\"a\") == True\n",
    "    \n",
    "def test_two_same_character_palindrome():\n",
    "    assert is_palindrome(\"bb\")==True\n",
    "    \n",
    "def test_numbers_not_palindrome():\n",
    "    assert is_palindrome(\"ab3d\")==False\n",
    "    \n",
    "def test_spacing_palindrome():\n",
    "    assert is_palindrome(\"  kayak\")==True\n",
    "    \n",
    "def test_capitals_palindrome():\n",
    "    assert is_palindrome(\" Noon   \")==True\n",
    "    \n",
    "def test_punctuation_palindrome():\n",
    "    assert is_palindrome(\"\\\"Sirrah! Deliver deified desserts detartrated!\\\" stressed deified, reviled Harris.\")==True"
   ]
  },
  {
   "cell_type": "markdown",
   "metadata": {},
   "source": [
    "When renaming the tests, you can also include the expected state of the test, as shown above where we have indicated whether or not we expect it to be a palindrome."
   ]
  },
  {
   "cell_type": "markdown",
   "metadata": {},
   "source": [
    "## Organising Tests\n",
    "\n",
    "While you can include tests inside the module you are testing, it is better to write them in a external module. When you are making changes to your code, it will be more straightforward if they are elsewhere. Fewer lines of code is generally alot easier when renaming, moving etc."
   ]
  },
  {
   "cell_type": "markdown",
   "metadata": {},
   "source": [
    "# Testing with Pytest\n",
    "\n",
    "There are several popular testing libraries for Python. In this exercise we are going to use the Pytest library. Pytest is very powerful and has a wide number of features, but is easy to get started with. As you become more proficent with Python, you will find more and more of its features useful. Pytest lets us write tests similar to how we have been doing so in this notebook, writing functions that use assert to compare the output of the tested function against the expected return value. Pytest also sniffs out python test files, any files that start with \"test\\_\" or finish with \"\\_test\" (excluding the .py file extention) will be found and run by Pytest.\n",
    "\n",
    "## Basic Usage\n",
    "\n",
    "Using pytest is quite straightforward. "
   ]
  }
 ],
 "metadata": {
  "kernelspec": {
   "display_name": "Python 2",
   "language": "python",
   "name": "python2"
  },
  "language_info": {
   "codemirror_mode": {
    "name": "ipython",
    "version": 2
   },
   "file_extension": ".py",
   "mimetype": "text/x-python",
   "name": "python",
   "nbconvert_exporter": "python",
   "pygments_lexer": "ipython2",
   "version": "2.7.10"
  }
 },
 "nbformat": 4,
 "nbformat_minor": 0
}
