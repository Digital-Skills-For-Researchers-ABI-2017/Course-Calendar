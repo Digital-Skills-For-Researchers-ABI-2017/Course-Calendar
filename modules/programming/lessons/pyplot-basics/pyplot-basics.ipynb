{
 "cells": [
  {
   "cell_type": "markdown",
   "metadata": {},
   "source": [
    "# PyPlot Basics\n",
    "\n",
    "Our sample data set for this course is the NLDL Data set from F. Kubke.\n",
    "\n",
    "NLDL stands for \"Nucleus Laminaris Delay Lines\". The data in each file describes the voltage over time at a specific location in the brain.\n",
    "\n",
    "In simple terms an electrical stimulation was applied at the point where sound enters the brain, and then electrodes measured the voltage over time at a range of locations.\n",
    "\n",
    "By measuring the time delay from stimulation to peak voltage for each data file, we can obtain secondary data which can be combined to determine whether the stimulation came from the left ear or right ear.\n",
    "\n",
    "Our goal here is to plot the voltage over time as recorded in a single file (for a single location).\n",
    "\n",
    "The resulting chart will be a time series showing the voltage waveform.\n"
   ]
  },
  {
   "cell_type": "markdown",
   "metadata": {},
   "source": [
    "## Loading the Data"
   ]
  },
  {
   "cell_type": "markdown",
   "metadata": {},
   "source": [
    "We're using an external module so it's best to enable autoreload. \n",
    "\n",
    "This means if we make any changes to the module, the script here will be automatically updated.\n",
    "\n",
    "To use the Jupyter autoreload functionality, we need to **load the extension** and then **initialise autoreload**.\n",
    "\n",
    "From the [autoreload documentation](https://ipython.org/ipython-doc/3/config/extensions/autoreload.html) we can see that the \"2\" option means \"always reload all modules\":\n",
    "\n",
    "> `%autoreload`<br>\n",
    "> Reload all modules (except those excluded by %aimport) automatically now.\n",
    ">\n",
    "> `%autoreload 0`<br>\n",
    "> Disable automatic reloading.\n",
    ">\n",
    "> `%autoreload 1`<br>\n",
    "> Reload all modules imported with %aimport every time before executing the Python code typed.\n",
    ">\n",
    "> `%autoreload 2`<br>\n",
    "> Reload all modules (except those excluded by %aimport) every time before executing the Python code typed."
   ]
  },
  {
   "cell_type": "code",
   "execution_count": null,
   "metadata": {
    "collapsed": false
   },
   "outputs": [],
   "source": []
  },
  {
   "cell_type": "markdown",
   "metadata": {},
   "source": [
    "Next you need to import the NLDL parser module, which is in the **libs** folder. \n",
    "\n",
    "This module can take one or more NLDL files and convert them to Python objects for you. \n",
    "\n",
    "Also import pprint (pretty print) to make the printed data easier to inspect."
   ]
  },
  {
   "cell_type": "code",
   "execution_count": null,
   "metadata": {
    "collapsed": false
   },
   "outputs": [],
   "source": []
  },
  {
   "cell_type": "markdown",
   "metadata": {},
   "source": [
    "Set the source file. Let's just start with one."
   ]
  },
  {
   "cell_type": "code",
   "execution_count": null,
   "metadata": {
    "collapsed": true
   },
   "outputs": [],
   "source": []
  },
  {
   "cell_type": "markdown",
   "metadata": {},
   "source": [
    "Create a new `parser`. Pass it the `source_file` and receive back the `data` object."
   ]
  },
  {
   "cell_type": "code",
   "execution_count": null,
   "metadata": {
    "collapsed": false,
    "scrolled": true
   },
   "outputs": [],
   "source": []
  },
  {
   "cell_type": "code",
   "execution_count": null,
   "metadata": {
    "collapsed": false
   },
   "outputs": [],
   "source": []
  },
  {
   "cell_type": "markdown",
   "metadata": {},
   "source": [
    "## Generating a Chart"
   ]
  },
  {
   "cell_type": "markdown",
   "metadata": {},
   "source": [
    "Before we start, let's make it so that any charts we generate display on this page rather than opening in a new window.\n",
    "\n",
    "We use the `inline` command to plot inside the notebook rather than having a new window open.\n",
    "\n",
    "Importing `Image` from IPython allows us to show images here in our notebook."
   ]
  },
  {
   "cell_type": "code",
   "execution_count": null,
   "metadata": {
    "collapsed": true
   },
   "outputs": [],
   "source": []
  },
  {
   "cell_type": "markdown",
   "metadata": {},
   "source": [
    "We then need to import the relevant libraries. At this point, all we need is **pyplot** for creating the charts and **numpy** for working with numbers."
   ]
  },
  {
   "cell_type": "code",
   "execution_count": null,
   "metadata": {
    "collapsed": true
   },
   "outputs": [],
   "source": []
  },
  {
   "cell_type": "markdown",
   "metadata": {},
   "source": [
    "A basic line chart is made of `x` and `y` values. \n",
    "\n",
    "To generate a chart, we need (at a bare minimum) the following steps:\n",
    "\n",
    "- Create separate lists of all the values for the **x** axis and all the values for the **y** axis.\n",
    "- Pass the x and y lists to **pyplot.plot()**.\n",
    "- Use **pyplot.show()** to display the result."
   ]
  },
  {
   "cell_type": "code",
   "execution_count": null,
   "metadata": {
    "collapsed": false
   },
   "outputs": [],
   "source": []
  },
  {
   "cell_type": "markdown",
   "metadata": {},
   "source": [
    "## Plotting the NLDL Data"
   ]
  },
  {
   "cell_type": "markdown",
   "metadata": {},
   "source": [
    "In our NLDL data, we want to plot the values from the **readings** list.\n",
    "\n",
    "The **x** axis will be **time**.\n",
    "The **y** axis will be **voltage**.\n",
    "\n",
    "Have another look at the printed NLDL data we created earlier and identify where you can find the **time** and **voltage** for each reading.\n",
    "\n",
    "We need to:\n",
    "\n",
    "- Create lists for the x values and y values.\n",
    "- Look at each reading from the list of readings.\n",
    "- Extract the reading's time and save it to the x values.\n",
    "- Extract the reading's voltage and save it to the y values.\n",
    "- Plot the data."
   ]
  },
  {
   "cell_type": "markdown",
   "metadata": {},
   "source": [
    "## Extract the X and Y Data\n",
    "\n",
    "Here we need to look at each reading individually and extract the x value (time) and the y value (voltage).\n",
    "\n",
    "Each value will be saved to the relevant list."
   ]
  },
  {
   "cell_type": "code",
   "execution_count": null,
   "metadata": {
    "collapsed": true
   },
   "outputs": [],
   "source": []
  },
  {
   "cell_type": "markdown",
   "metadata": {},
   "source": [
    "We should also check that our data looks reasonable before we begin plotting it..."
   ]
  },
  {
   "cell_type": "code",
   "execution_count": null,
   "metadata": {
    "collapsed": false
   },
   "outputs": [],
   "source": []
  },
  {
   "cell_type": "code",
   "execution_count": null,
   "metadata": {
    "collapsed": false
   },
   "outputs": [],
   "source": []
  },
  {
   "cell_type": "markdown",
   "metadata": {},
   "source": [
    "## Create a Basic Plot\n",
    "\n",
    "Once we have the data, creating a chart is a matter of just two lines."
   ]
  },
  {
   "cell_type": "code",
   "execution_count": null,
   "metadata": {
    "collapsed": false
   },
   "outputs": [],
   "source": []
  },
  {
   "cell_type": "markdown",
   "metadata": {},
   "source": [
    "We can also add some styling to make it look nicer.\n",
    "\n",
    "The title and axis labels can be added using the relevant plot functions.\n",
    "\n",
    "We can also add annotations such as arrows and lines. Here we've added a vertical line to show where **time = 0**, which is the point at which the stimulation was applied. The time before zero is a recording buffer."
   ]
  },
  {
   "cell_type": "code",
   "execution_count": null,
   "metadata": {
    "collapsed": false,
    "scrolled": false
   },
   "outputs": [],
   "source": []
  },
  {
   "cell_type": "markdown",
   "metadata": {},
   "source": [
    "To save your chart as a file, change the function **show()** to **savefig()** instead.\n",
    "\n",
    "**Jupyter Notebooks has some limitations around savefig!**<br>\n",
    "Note that if you try to savefig from a different cell than the one where you generated the figure, **the output image may be blank**.\n",
    "\n",
    "Also, in Jupyter Notebooks, using **plot()** will display the resulting figure automatically. In a script, using **show()** or **savefig()** is required."
   ]
  },
  {
   "cell_type": "code",
   "execution_count": null,
   "metadata": {
    "collapsed": false
   },
   "outputs": [],
   "source": []
  }
 ],
 "metadata": {
  "kernelspec": {
   "display_name": "Python 3",
   "language": "python",
   "name": "python3"
  },
  "language_info": {
   "codemirror_mode": {
    "name": "ipython",
    "version": 3
   },
   "file_extension": ".py",
   "mimetype": "text/x-python",
   "name": "python",
   "nbconvert_exporter": "python",
   "pygments_lexer": "ipython3",
   "version": "3.5.2"
  }
 },
 "nbformat": 4,
 "nbformat_minor": 1
}
